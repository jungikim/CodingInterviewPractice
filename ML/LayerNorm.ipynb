{
 "cells": [
  {
   "cell_type": "code",
   "execution_count": 1,
   "id": "5f879da8-4ee2-4ce1-a295-8e0569f22819",
   "metadata": {},
   "outputs": [
    {
     "name": "stdout",
     "output_type": "stream",
     "text": [
      "0 \t tensor(0.2163) , tensor(0.5094) \t tensor(5.9605e-09) , tensor(1.)\n",
      "1 \t tensor(0.0976) , tensor(0.9610) \t tensor(5.9605e-09) , tensor(1.)\n",
      "2 \t tensor(0.0732) , tensor(0.3295) \t tensor(-2.3842e-08) , tensor(1.)\n",
      "3 \t tensor(0.5070) , tensor(0.6547) \t tensor(0.) , tensor(1.0000)\n",
      "4 \t tensor(-0.3474) , tensor(1.5494) \t tensor(-1.2666e-08) , tensor(1.0000)\n",
      "5 \t tensor(-0.0082) , tensor(0.8243) \t tensor(5.9605e-09) , tensor(1.)\n",
      "6 \t tensor(-0.3451) , tensor(0.7169) \t tensor(1.1921e-08) , tensor(1.)\n",
      "7 \t tensor(0.0993) , tensor(0.5436) \t tensor(-1.1921e-08) , tensor(1.)\n",
      "8 \t tensor(0.6196) , tensor(1.9381) \t tensor(2.3842e-08) , tensor(1.0000)\n",
      "9 \t tensor(0.3967) , tensor(1.7787) \t tensor(0.) , tensor(1.0000)\n",
      "10 \t tensor(0.5653) , tensor(1.1254) \t tensor(-1.7881e-08) , tensor(1.0000)\n",
      "11 \t tensor(0.0220) , tensor(1.2558) \t tensor(-3.5763e-08) , tensor(1.0000)\n",
      "12 \t tensor(-0.2325) , tensor(1.2815) \t tensor(2.3842e-08) , tensor(1.0000)\n",
      "13 \t tensor(-0.2649) , tensor(0.5841) \t tensor(-3.5763e-08) , tensor(1.0000)\n",
      "14 \t tensor(0.0616) , tensor(0.9029) \t tensor(-1.1921e-08) , tensor(1.)\n",
      "15 \t tensor(0.0314) , tensor(0.3518) \t tensor(-1.4901e-08) , tensor(1.)\n",
      "16 \t tensor(-0.3577) , tensor(0.3897) \t tensor(-1.0431e-08) , tensor(1.)\n",
      "17 \t tensor(0.3653) , tensor(1.0867) \t tensor(-1.4901e-09) , tensor(1.0000)\n",
      "18 \t tensor(-0.1262) , tensor(0.7858) \t tensor(0.) , tensor(1.0000)\n",
      "19 \t tensor(0.0898) , tensor(0.7356) \t tensor(-1.4901e-09) , tensor(1.)\n"
     ]
    }
   ],
   "source": [
    "import torch\n",
    "\n",
    "B=20\n",
    "D=10\n",
    "A=torch.randn(B,D)\n",
    "var, mean = torch.var_mean(A, dim=-1)\n",
    "# var: B\n",
    "# mean: B\n",
    "A_norm=((A.transpose(0,1)-mean)/torch.sqrt(var)).transpose(0,1)\n",
    "\n",
    "for i in range(B):\n",
    "    print(i, \"\\t\", torch.mean(A[i,:]), \",\", torch.var(A[i,:]), \"\\t\", torch.mean(A_norm[i,:]), \",\", torch.var(A_norm[i,:]))\n"
   ]
  }
 ],
 "metadata": {
  "kernelspec": {
   "display_name": "Python 3 (ipykernel)",
   "language": "python",
   "name": "python3"
  },
  "language_info": {
   "codemirror_mode": {
    "name": "ipython",
    "version": 3
   },
   "file_extension": ".py",
   "mimetype": "text/x-python",
   "name": "python",
   "nbconvert_exporter": "python",
   "pygments_lexer": "ipython3",
   "version": "3.8.6"
  }
 },
 "nbformat": 4,
 "nbformat_minor": 5
}
