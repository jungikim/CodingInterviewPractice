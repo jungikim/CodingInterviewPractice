{
 "cells": [
  {
   "cell_type": "code",
   "execution_count": 1,
   "id": "7c302379-9c39-4d9f-b1f0-98c15e497195",
   "metadata": {},
   "outputs": [
    {
     "name": "stderr",
     "output_type": "stream",
     "text": [
      "Setting default log level to \"WARN\".\n",
      "To adjust logging level use sc.setLogLevel(newLevel). For SparkR, use setLogLevel(newLevel).\n",
      "24/04/07 19:53:37 WARN NativeCodeLoader: Unable to load native-hadoop library for your platform... using builtin-java classes where applicable\n"
     ]
    }
   ],
   "source": [
    "import gzip\n",
    "from pyspark.sql import SparkSession\n",
    "from pyspark.context import SparkContext\n",
    "from pyspark.sql import functions as F\n",
    "from pyspark.sql.functions import col, udf\n",
    "\n",
    "spark = SparkSession.builder.getOrCreate()"
   ]
  },
  {
   "cell_type": "code",
   "execution_count": 2,
   "id": "ab27365c-4aa9-4958-a728-a978f34486ab",
   "metadata": {},
   "outputs": [],
   "source": [
    "# Spark user defined function (UDF): fasttext LID\n",
    "sc = spark.sparkContext\n",
    "sc.addFile('lid218e.bin')\n",
    "sc.addPyFile('fasttext_lang_classifier.py')\n",
    "import fasttext_lang_classifier\n",
    "udf_predict_language = udf(fasttext_lang_classifier.predict_language)\n"
   ]
  },
  {
   "cell_type": "code",
   "execution_count": 3,
   "id": "64301742-05cf-46db-83b7-a124b2530f2d",
   "metadata": {},
   "outputs": [
    {
     "name": "stderr",
     "output_type": "stream",
     "text": [
      "24/04/07 19:53:45 WARN TaskSetManager: Stage 0 contains a task of very large size (2355 KiB). The maximum recommended task size is 1000 KiB.\n",
      "[Stage 0:>                                                          (0 + 8) / 8]\r"
     ]
    },
    {
     "name": "stdout",
     "output_type": "stream",
     "text": [
      "df.count()=79086\n"
     ]
    },
    {
     "name": "stderr",
     "output_type": "stream",
     "text": [
      "24/04/07 19:53:49 WARN GarbageCollectionMetrics: To enable non-built-in garbage collector(s) List(G1 Concurrent GC), users should configure it(them) to spark.eventLog.gcMetrics.youngGenerationGarbageCollectors or spark.eventLog.gcMetrics.oldGenerationGarbageCollectors\n"
     ]
    }
   ],
   "source": [
    "# Load bitext\n",
    "datasets = [('eng_Latn', '/Users/jkim/src/MultitaskNMT_data/Indo-Pacific/bilingual/en-bug/wikimedia.bug-en.en.gz',  'bug_Latn', '/Users/jkim/src/MultitaskNMT_data/Indo-Pacific/bilingual/en-bug/wikimedia.bug-en.bug.gz'),\n",
    "            ('eng_Latn', '/Users/jkim/src/MultitaskNMT_data/Indo-Pacific/bilingual/en-ilo/XLEnt.en-ilo.en.gz', 'ilo_Latn', '/Users/jkim/src/MultitaskNMT_data/Indo-Pacific/bilingual/en-ilo/XLEnt.en-ilo.ilo.gz')]\n",
    "\n",
    "df = spark.createDataFrame(data=[(srclang, src.strip(), tgtlang, tgt.strip()) \\\n",
    "                                  for (srclang, srcf, tgtlang, tgtf) in datasets \\\n",
    "                                  for (src,tgt) in zip(gzip.open(srcf, 'rt'), gzip.open(tgtf, 'rt'))], \\\n",
    "                           schema=[\"SRCLANG\", \"SRC\", \"TGTLANG\", \"TGT\"]) \n",
    "print(f'{df.count()=}')"
   ]
  },
  {
   "cell_type": "code",
   "execution_count": 4,
   "id": "7a4ce386-c713-4d3b-a67c-aa462abbdd8f",
   "metadata": {},
   "outputs": [
    {
     "name": "stderr",
     "output_type": "stream",
     "text": [
      "24/04/07 19:53:51 WARN TaskSetManager: Stage 3 contains a task of very large size (2355 KiB). The maximum recommended task size is 1000 KiB.\n",
      "                                                                                \r"
     ]
    },
    {
     "name": "stdout",
     "output_type": "stream",
     "text": [
      "+--------+--------------------+--------+--------------------+-----------------+-----------------+\n",
      "| SRCLANG|                 SRC| TGTLANG|                 TGT|SRCLANG_PREDICTED|TGTLANG_PREDICTED|\n",
      "+--------+--------------------+--------+--------------------+-----------------+-----------------+\n",
      "|eng_Latn|On May 22, 2013, ...|bug_Latn|On May 22, 2018, ...|         eng_Latn|         eng_Latn|\n",
      "|eng_Latn|He passed away tw...|bug_Latn|He passed away tw...|         eng_Latn|         eng_Latn|\n",
      "|eng_Latn|He died at the ag...|bug_Latn|He died at the ag...|         eng_Latn|         eng_Latn|\n",
      "|eng_Latn|Pearl Fernandez M...|bug_Latn| Pearl was born 1983|         eng_Latn|         eng_Latn|\n",
      "|eng_Latn|Pearl Sinthia Fer...|bug_Latn|Pearl Sinthia Fer...|         eng_Latn|         eng_Latn|\n",
      "+--------+--------------------+--------+--------------------+-----------------+-----------------+\n",
      "only showing top 5 rows\n",
      "\n"
     ]
    },
    {
     "name": "stderr",
     "output_type": "stream",
     "text": [
      "24/04/07 19:53:52 WARN TaskSetManager: Stage 4 contains a task of very large size (2596 KiB). The maximum recommended task size is 1000 KiB.\n",
      "                                                                                \r"
     ]
    },
    {
     "data": {
      "text/plain": [
       "[Row(SRCLANG='eng_Latn', SRC='Arthur Merrill', TGTLANG='ilo_Latn', TGT='家用摄像头网上专卖店满满满满满满满满满满满满满满满满满满满满满满满满满满满满满满满满满满满满满满意意满满满满满满满满满满满满满满满满满满满满满满满满满满满满满满满满满满满满满满满满满满满满满满满满满满满满满满满满满满满满满满满满满满满满满满满满满满满满满满满满满满满满满满满满满满满满满满满满满满满满满满满满意意了我是我是我是我是我是我是我是非常满意！。', SRCLANG_PREDICTED='eng_Latn', TGTLANG_PREDICTED='bos_Latn'),\n",
       " Row(SRCLANG='eng_Latn', SRC='High Roller Records', TGTLANG='ilo_Latn', TGT='家用摄像头网上专卖店满满满满满满满满满满满满满满满满满满满满满满满满满满满满满满满满满满满满满满意意满满满满满满满满满满满满满满满满满满满满满满满满满满满满满满满满满满满满满满满满满满满满满满满满满满满满满满满满满满满满满满满满满满满满满满满满满满满满满满满满满满满满满满满满满满满满满满满满满满满满满满满满意意了我是我是我是我是我是我是我是非常满意！。', SRCLANG_PREDICTED='eng_Latn', TGTLANG_PREDICTED='bos_Latn'),\n",
       " Row(SRCLANG='eng_Latn', SRC='Ripon', TGTLANG='ilo_Latn', TGT='家用摄像头网上专卖店满满满满满满满满满满满满满满满满满满满满满满满满满满满满满满满满满满满满满满意意满满满满满满满满满满满满满满满满满满满满满满满满满满满满满满满满满满满满满满满满满满满满满满满满满满满满满满满满满满满满满满满满满满满满满满满满满满满满满满满满满满满满满满满满满满满满满满满满满满满满满满满满意意了我是我是我是我是我是我是我是非常满意！。', SRCLANG_PREDICTED='vie_Latn', TGTLANG_PREDICTED='bos_Latn'),\n",
       " Row(SRCLANG='eng_Latn', SRC='Geotechnical and Environmental Research Group', TGTLANG='ilo_Latn', TGT='千兆igigigigigigigigigigigigigigigigigigigigigigigigigigigigigigigigigigigigigigigigigigigigigigigigigigigirth', SRCLANG_PREDICTED='eng_Latn', TGTLANG_PREDICTED='ind_Latn'),\n",
       " Row(SRCLANG='eng_Latn', SRC='', TGTLANG='ilo_Latn', TGT='', SRCLANG_PREDICTED='eng_Latn', TGTLANG_PREDICTED='eng_Latn')]"
      ]
     },
     "execution_count": 4,
     "metadata": {},
     "output_type": "execute_result"
    }
   ],
   "source": [
    "# Add LID predictions\n",
    "df = df.withColumn('SRCLANG_PREDICTED', udf_predict_language(col('SRC')))\\\n",
    "       .withColumn('TGTLANG_PREDICTED', udf_predict_language(col('TGT')))\n",
    "df.show(5)\n",
    "df.tail(5)"
   ]
  },
  {
   "cell_type": "code",
   "execution_count": 5,
   "id": "1151e667-1c8c-47c8-a2ef-35c37a348561",
   "metadata": {},
   "outputs": [
    {
     "name": "stderr",
     "output_type": "stream",
     "text": [
      "24/04/07 19:54:00 WARN TaskSetManager: Stage 5 contains a task of very large size (2355 KiB). The maximum recommended task size is 1000 KiB.\n"
     ]
    },
    {
     "name": "stdout",
     "output_type": "stream",
     "text": [
      "df.count()=79086\n"
     ]
    }
   ],
   "source": [
    "print(f'{df.count()=}')"
   ]
  },
  {
   "cell_type": "code",
   "execution_count": 8,
   "id": "80706364-e62d-4c91-ae4d-7c0c44dbd211",
   "metadata": {},
   "outputs": [
    {
     "name": "stderr",
     "output_type": "stream",
     "text": [
      "24/04/07 19:58:17 WARN TaskSetManager: Stage 11 contains a task of very large size (2355 KiB). The maximum recommended task size is 1000 KiB.\n",
      "[Stage 11:==================================================>       (7 + 1) / 8]\r"
     ]
    },
    {
     "name": "stdout",
     "output_type": "stream",
     "text": [
      "df.select([\"SRCLANG\", \"SRCLANG_PREDICTED\", \"TGTLANG\", \"TGTLANG_PREDICTED\"]).where((df.SRCLANG == df.SRCLANG_PREDICTED) & (df.TGTLANG == df.TGTLANG_PREDICTED)).count()=11570\n"
     ]
    },
    {
     "name": "stderr",
     "output_type": "stream",
     "text": [
      "                                                                                \r"
     ]
    }
   ],
   "source": [
    "print(f'{df.select([\"SRCLANG\", \"SRCLANG_PREDICTED\", \"TGTLANG\", \"TGTLANG_PREDICTED\"]).where((df.SRCLANG == df.SRCLANG_PREDICTED) & (df.TGTLANG == df.TGTLANG_PREDICTED)).count()=}')"
   ]
  },
  {
   "cell_type": "code",
   "execution_count": 9,
   "id": "2a669aac-90ca-4094-867d-453b05a88710",
   "metadata": {},
   "outputs": [
    {
     "name": "stderr",
     "output_type": "stream",
     "text": [
      "24/04/07 20:05:28 WARN TaskSetManager: Stage 14 contains a task of very large size (2355 KiB). The maximum recommended task size is 1000 KiB.\n",
      "                                                                                \r"
     ]
    },
    {
     "name": "stdout",
     "output_type": "stream",
     "text": [
      "langmatch.count()=11570\n"
     ]
    },
    {
     "name": "stderr",
     "output_type": "stream",
     "text": [
      "24/04/07 20:08:18 WARN TaskSetManager: Stage 17 contains a task of very large size (2355 KiB). The maximum recommended task size is 1000 KiB.\n",
      "24/04/07 20:11:59 WARN TaskSetManager: Stage 18 contains a task of very large size (2355 KiB). The maximum recommended task size is 1000 KiB.\n",
      "24/04/07 20:16:11 WARN TaskSetManager: Stage 19 contains a task of very large size (2355 KiB). The maximum recommended task size is 1000 KiB.\n",
      "                                                                                \r"
     ]
    }
   ],
   "source": [
    "langmatch = df.filter((F.col(\"SRCLANG\") == F.col(\"SRCLANG_PREDICTED\")) & (F.col(\"TGTLANG\") == F.col(\"TGTLANG_PREDICTED\")))\n",
    "print(f'{langmatch.count()=}')\n",
    "\n",
    "langmatch.write.csv(\"wikimedia.bug-en__XLEnt.en-ilo.csv\", mode=\"overwrite\")\n",
    "langmatch.write.parquet(\"wikimedia.bug-en__XLEnt.en-ilo.parquet\", mode=\"overwrite\")\n",
    "langmatch.write.mode(\"overwrite\").format(\"json\").save(\"wikimedia.bug-en__XLEnt.en-ilo.json\")"
   ]
  }
 ],
 "metadata": {
  "kernelspec": {
   "display_name": "Python 3 (ipykernel)",
   "language": "python",
   "name": "python3"
  },
  "language_info": {
   "codemirror_mode": {
    "name": "ipython",
    "version": 3
   },
   "file_extension": ".py",
   "mimetype": "text/x-python",
   "name": "python",
   "nbconvert_exporter": "python",
   "pygments_lexer": "ipython3",
   "version": "3.10.13"
  }
 },
 "nbformat": 4,
 "nbformat_minor": 5
}
