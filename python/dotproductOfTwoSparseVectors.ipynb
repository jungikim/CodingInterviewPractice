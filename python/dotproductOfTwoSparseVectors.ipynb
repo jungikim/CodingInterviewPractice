{
 "cells": [
  {
   "cell_type": "code",
   "execution_count": 15,
   "id": "7b165645-6bd8-4686-b2e5-e0f1261c8455",
   "metadata": {},
   "outputs": [
    {
     "name": "stdout",
     "output_type": "stream",
     "text": [
      "([1, 0, 0, 2, 3], [0, 3, 0, 4, 0], 8)\n",
      "([0, 1, 0, 0, 0], [0, 0, 0, 0, 2], 0)\n",
      "([0, 1, 0, 0, 2, 0, 0], [1, 0, 0, 0, 3, 0, 4], 6)\n"
     ]
    }
   ],
   "source": [
    "from typing import List\n",
    "\n",
    "class SparseVector:\n",
    "    def __init__(self, nums: List[int]):\n",
    "        self.hm = {}\n",
    "        for i, n in enumerate(nums):\n",
    "            if n == 0:\n",
    "                continue\n",
    "            self.hm[i] = n\n",
    "\n",
    "    def dotProduct(self, vec: 'SparseVector') -> int:\n",
    "        res = 0\n",
    "        for i,v in vec.hm.items():\n",
    "            if i in self.hm:\n",
    "                res += v * self.hm[i]\n",
    "        return res\n",
    "\n",
    "\n",
    "uts = [\n",
    "        ([1,0,0,2,3], [0,3,0,4,0], 8),\n",
    "        ([0,1,0,0,0], [0,0,0,0,2], 0),\n",
    "        ([0,1,0,0,2,0,0], [1,0,0,0,3,0,4], 6),\n",
    "    ]\n",
    "\n",
    "for ut in uts:\n",
    "    print(ut)\n",
    "    v1=SparseVector(ut[0])\n",
    "    v2=SparseVector(ut[1])\n",
    "    assert (v1.dotProduct(v2) == ut[2])\n"
   ]
  }
 ],
 "metadata": {
  "kernelspec": {
   "display_name": "Python 3 (ipykernel)",
   "language": "python",
   "name": "python3"
  },
  "language_info": {
   "codemirror_mode": {
    "name": "ipython",
    "version": 3
   },
   "file_extension": ".py",
   "mimetype": "text/x-python",
   "name": "python",
   "nbconvert_exporter": "python",
   "pygments_lexer": "ipython3",
   "version": "3.8.6"
  }
 },
 "nbformat": 4,
 "nbformat_minor": 5
}
