{
 "cells": [
  {
   "cell_type": "code",
   "execution_count": 8,
   "id": "09611d8b-42e3-469d-9f9a-ec5b73188419",
   "metadata": {},
   "outputs": [],
   "source": [
    "# input:\n",
    "#    arr:\n",
    "#    t: search value\n",
    "# output:\n",
    "#    index of value of found\n",
    "#    -1 if not found\n",
    "# Assumption:\n",
    "#    arr is sorted\n",
    "def bs(arr, t):\n",
    "    l, r = 0, len(arr)-1\n",
    "    while l <= r:\n",
    "        m = l + (r-l)//2\n",
    "        if t == arr[m]:\n",
    "            return m\n",
    "        elif t < arr[m]:\n",
    "            r = m-1\n",
    "        else:\n",
    "            l = m+1\n",
    "    return -1\n",
    "\n",
    "\n",
    "uts = [([0,1,2,3,4,5,6,7,8,9], 3, 3),\n",
    "       ([0,1,2,3,4,5,6,7,8,9], 10, -1)\n",
    "      ]\n",
    "for (a,t,i) in uts:\n",
    "    assert(bs(a,t) == i)\n"
   ]
  },
  {
   "cell_type": "code",
   "execution_count": null,
   "id": "e2952a5d-4aba-4e8b-90ac-1656dc936c67",
   "metadata": {},
   "outputs": [],
   "source": []
  }
 ],
 "metadata": {
  "kernelspec": {
   "display_name": "Python 3 (ipykernel)",
   "language": "python",
   "name": "python3"
  },
  "language_info": {
   "codemirror_mode": {
    "name": "ipython",
    "version": 3
   },
   "file_extension": ".py",
   "mimetype": "text/x-python",
   "name": "python",
   "nbconvert_exporter": "python",
   "pygments_lexer": "ipython3",
   "version": "3.8.6"
  }
 },
 "nbformat": 4,
 "nbformat_minor": 5
}
