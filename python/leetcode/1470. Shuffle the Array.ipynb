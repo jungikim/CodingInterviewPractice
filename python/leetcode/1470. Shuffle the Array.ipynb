{
 "cells": [
  {
   "cell_type": "code",
   "execution_count": 9,
   "id": "bbbaa666-e198-41a6-b44c-fbf7505efc56",
   "metadata": {},
   "outputs": [],
   "source": [
    "\"\"\"\n",
    "https://leetcode.com/problems/shuffle-the-array/\n",
    "\n",
    "Given the array nums consisting of 2n elements in the form [x1,x2,...,xn,y1,y2,...,yn].\n",
    "Return the array in the form [x1,y1,x2,y2,...,xn,yn].\n",
    "\n",
    "Constraints:\n",
    "1 <= n <= 500\n",
    "nums.length == 2n\n",
    "1 <= nums[i] <= 10^3\n",
    "\"\"\"\n",
    "\n",
    "def shuffle(arr, n):\n",
    "# 1  2  3  4  5  6  7  8\n",
    "# 1  5  2  6  3  7  4  8\n",
    "\n",
    "    # naive\n",
    "    # retVal = []\n",
    "    # for i in range(n):\n",
    "    #     retVal.append(arr[0+i])\n",
    "    #     retVal.append(arr[n+i])\n",
    "    # return retVal\n",
    "\n",
    "    # in-place implementation\n",
    "    # move 4(n-1), 3 places back, swap\n",
    "    # 1  2  3  5  6  7  4  8\n",
    "    # move 3(n-2), 2 places back\n",
    "    # 1  2  5  6  3  7  4  8\n",
    "    # move 2(n-3, 1), 1 place back\n",
    "    # 1  5  2  6  3  7  4  8\n",
    "    def swap(arr, a, b):\n",
    "        tmp = arr[a]\n",
    "        arr[a] = arr[b]\n",
    "        arr[b] = tmp\n",
    "\n",
    "    for i in range(n-1, 0, -1):\n",
    "        # swap(arr[i],arr[i+1])\n",
    "        # swap(arr[i+1],arr[i+2])\n",
    "        # ...\n",
    "        for j in range(i):\n",
    "            # print(i,j, i+j,i+j+1)\n",
    "            swap(arr, i+j, i+j+1)\n",
    "    return arr\n",
    "\n",
    "\n",
    "\n",
    "tests = [\n",
    "    ([2,5,1,3,4,7], 3, [2,3,5,4,1,7]),\n",
    "    # x1=2, x2=5, x3=1, y1=3, y2=4, y3=7 then the answer is [2,3,5,4,1,7].\n",
    "    ([1,2,3,4,4,3,2,1], 4, [1,4,2,3,3,2,4,1]),\n",
    "    ([1,1,2,2], 2, [1,2,1,2])\n",
    "]\n",
    "for t in tests:\n",
    "    assert(shuffle(t[0], t[1]) == t[2]) "
   ]
  }
 ],
 "metadata": {
  "kernelspec": {
   "display_name": "Python 3 (ipykernel)",
   "language": "python",
   "name": "python3"
  },
  "language_info": {
   "codemirror_mode": {
    "name": "ipython",
    "version": 3
   },
   "file_extension": ".py",
   "mimetype": "text/x-python",
   "name": "python",
   "nbconvert_exporter": "python",
   "pygments_lexer": "ipython3",
   "version": "3.8.6"
  }
 },
 "nbformat": 4,
 "nbformat_minor": 5
}
