{
 "cells": [
  {
   "cell_type": "code",
   "execution_count": 16,
   "id": "0104048e-8b5d-48ce-acfd-eeb8d4aa9c9e",
   "metadata": {},
   "outputs": [],
   "source": [
    "\"\"\"\n",
    "https://leetcode.com/problems/powx-n/\n",
    "\n",
    "Implement pow(x, n), which calculates x raised to the power n (i.e., x^n).\n",
    "\n",
    "\n",
    "Constraints:\n",
    "-100.0 < x < 100.0\n",
    "-2^31 <= n <= 2^31-1\n",
    "n is an integer.\n",
    "Either x is not zero or n > 0.\n",
    "-10^4 <= xn <= 10^4\n",
    "\"\"\"\n",
    "\n",
    "def myPow(x, n):\n",
    "    # retVal = 1\n",
    "    # isNegPow = True if n < 0 else False\n",
    "    # if isNegPow:\n",
    "    #     n *= -1\n",
    "    # for i in range(1,n+1):\n",
    "    #     retVal *= x\n",
    "    # if isNegPow:\n",
    "    #     retVal = 1.0 / retVal\n",
    "    # return retVal\n",
    "    retVal = 1\n",
    "    isNegPow = True if n < 0 else False\n",
    "    _n = n\n",
    "    _x = x\n",
    "    if isNegPow:\n",
    "        _n *= -1\n",
    "    while _n:\n",
    "        if _n & 1:\n",
    "            retVal *= _x\n",
    "        _x *= _x\n",
    "        _n >>= 1\n",
    "\n",
    "    if isNegPow:\n",
    "        retVal = 1.0 / retVal\n",
    "    return retVal\n",
    "\n",
    "\n",
    "\n",
    "tests = [\n",
    "    (2.00000, 10, 1024.00000),\n",
    "    (2.10000, 3, 9.26100),\n",
    "    (2.00000, -2, 0.25000),\n",
    "    # 2^-2 = 1/2^2 = 1/4 = 0.25\n",
    "]\n",
    "\n",
    "import math\n",
    "for t in tests:\n",
    "    retVal = myPow(t[0], t[1])\n",
    "    # print(t, retVal)\n",
    "    assert(math.isclose(t[2], retVal, abs_tol=1e-8))\n"
   ]
  }
 ],
 "metadata": {
  "kernelspec": {
   "display_name": "Python 3 (ipykernel)",
   "language": "python",
   "name": "python3"
  },
  "language_info": {
   "codemirror_mode": {
    "name": "ipython",
    "version": 3
   },
   "file_extension": ".py",
   "mimetype": "text/x-python",
   "name": "python",
   "nbconvert_exporter": "python",
   "pygments_lexer": "ipython3",
   "version": "3.11.7"
  }
 },
 "nbformat": 4,
 "nbformat_minor": 5
}
