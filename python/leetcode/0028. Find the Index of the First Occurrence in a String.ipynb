{
 "cells": [
  {
   "cell_type": "code",
   "execution_count": 1,
   "id": "770defa4-a922-4cdf-9d4d-4aeb6918b32a",
   "metadata": {},
   "outputs": [],
   "source": [
    "\"\"\"\n",
    "https://leetcode.com/problems/find-the-index-of-the-first-occurrence-in-a-string/\n",
    "\n",
    "Given two strings needle and haystack, \n",
    "return the index of the first occurrence of needle in haystack,\n",
    "       or -1 if needle is not part of haystack.\n",
    "\n",
    "Constraints:\n",
    "1 <= haystack.length, needle.length <= 104\n",
    "haystack and needle consist of only lowercase English characters.\n",
    "\n",
    "\"\"\"\n",
    "\n",
    "# O( len(haystack) + len(needle\n",
    "def findFirstOccurence(haystack, needle):\n",
    "    if len(haystack) < len(needle):\n",
    "        return -1\n",
    "    def matches(haystack, i, needle):\n",
    "        for j in range(len(needle)):\n",
    "            if haystack[i+j] != needle[j]:\n",
    "                return False\n",
    "        return True\n",
    "    for i in range(len(haystack)-len(needle)+1):\n",
    "        matched = matches(haystack, i, needle)\n",
    "        if matched:\n",
    "            return i\n",
    "    return -1\n",
    "\n",
    "tests = [\n",
    "    (\"sadbutsad\", \"sad\", 0),\n",
    "    (\"leetcode\", \"leeto\", -1)\n",
    "]\n",
    "for t in tests:\n",
    "    assert(findFirstOccurence(t[0], t[1]) == t[2])"
   ]
  }
 ],
 "metadata": {
  "kernelspec": {
   "display_name": "Python 3 (ipykernel)",
   "language": "python",
   "name": "python3"
  },
  "language_info": {
   "codemirror_mode": {
    "name": "ipython",
    "version": 3
   },
   "file_extension": ".py",
   "mimetype": "text/x-python",
   "name": "python",
   "nbconvert_exporter": "python",
   "pygments_lexer": "ipython3",
   "version": "3.9.6"
  }
 },
 "nbformat": 4,
 "nbformat_minor": 5
}
