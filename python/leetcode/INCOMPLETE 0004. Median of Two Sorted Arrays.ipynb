{
 "cells": [
  {
   "cell_type": "code",
   "execution_count": null,
   "id": "3ab91dee-6e9a-4ebb-a89b-b1e45b6269a5",
   "metadata": {},
   "outputs": [],
   "source": [
    "\"\"\"\n",
    "https://leetcode.com/problems/median-of-two-sorted-arrays/\n",
    "\n",
    "Given two sorted arrays nums1 and nums2 of size m and n respectively, return the median of the two sorted arrays.\n",
    "\n",
    "The overall run time complexity should be O(log (m+n)).\n",
    "\n",
    "Constraints:\n",
    "\n",
    "nums1.length == m\n",
    "nums2.length == n\n",
    "0 <= m <= 1000\n",
    "0 <= n <= 1000\n",
    "1 <= m + n <= 2000\n",
    "-10^6 <= nums1[i], nums2[i] <= 10^6\n",
    "\"\"\"\n",
    "\n",
    "# time complexity contraint suggests the usage of\n",
    "# \n",
    "# - search (lists are already sorted)\n",
    "# - tree / heap / \n",
    "#\n",
    "#   if list1[-1] < list2[0] then median is m+n/2 th element of list1+list2\n",
    "#      (and the same case for list2 < list1 \n",
    "# \n",
    "#   if the two lists overlap,\n",
    "#        list1\n",
    "#          list2\n",
    "#        |A|B|C|\n",
    "#\n",
    "# ...\n",
    "# [TODO] to cotinue later\n",
    "# \n",
    "def findMedianSortedArrays(nums1: List[int], nums2: List[int]) -> float:\n",
    "    pass\n",
    "\n",
    "\n",
    "\n",
    "\n",
    "tests = [\n",
    "    ([1,3], [2], 2.00000),\n",
    "    ([1,2], [3,4], 2.50000)\n",
    "]\n",
    "for t in tests:\n",
    "    assert(findMedianSortedArrays(t[0], t[1]) - t[3] < pow(1,-5))"
   ]
  }
 ],
 "metadata": {
  "kernelspec": {
   "display_name": "Python 3 (ipykernel)",
   "language": "python",
   "name": "python3"
  },
  "language_info": {
   "codemirror_mode": {
    "name": "ipython",
    "version": 3
   },
   "file_extension": ".py",
   "mimetype": "text/x-python",
   "name": "python",
   "nbconvert_exporter": "python",
   "pygments_lexer": "ipython3",
   "version": "3.8.6"
  }
 },
 "nbformat": 4,
 "nbformat_minor": 5
}
