{
 "cells": [
  {
   "cell_type": "code",
   "execution_count": 17,
   "id": "59650df8-5a6e-4b84-8e39-3ed0415f8c2f",
   "metadata": {},
   "outputs": [
    {
     "name": "stdout",
     "output_type": "stream",
     "text": [
      "[[-1, -1, 2], [-1, 0, 1]]\n",
      "[]\n",
      "[[0, 0, 0]]\n"
     ]
    }
   ],
   "source": [
    "\"\"\"\n",
    "https://leetcode.com/problems/3sum/\n",
    "\n",
    "Given an integer array nums, return all the triplets [nums[i], nums[j], nums[k]] \n",
    "such that i != j, i != k, and j != k, and nums[i] + nums[j] + nums[k] == 0.\n",
    "\n",
    "Notice that the solution set must not contain duplicate triplets.\n",
    "\"\"\"\n",
    "from collections import defaultdict\n",
    "\n",
    "def threesum(nums):\n",
    "    retVal = set()\n",
    "\n",
    "    # # brute force: O(n^3)\n",
    "    # for i in range(len(nums)-2):\n",
    "    #     for j in range(i+1, len(nums)-1):\n",
    "    #         for k in range(j+1, len(nums)):\n",
    "    #             if nums[i] + nums[j] + nums[k] == 0:\n",
    "    #                 retVal.add(tuple(sorted([nums[i],nums[j],nums[k]])))\n",
    "\n",
    "    # trick using dict() inversely lookup k: O(n^2)\n",
    "    nmap = defaultdict(list) # num -> indices\n",
    "    for i,n in enumerate(nums):\n",
    "        nmap[n].append(i)\n",
    "    \n",
    "    for i in range(len(nums)-2):\n",
    "        for j in range(i+1, len(nums)-1):\n",
    "            kval = 0 - nums[i] - nums[j]\n",
    "            if kval in nmap:\n",
    "                for kidx in nmap[kval]:\n",
    "                    if kidx != i and kidx != j:\n",
    "                        retVal.add(tuple(sorted([nums[i],nums[j],kval])))\n",
    "    \n",
    "    retVal = sorted([list(i) for i in retVal])\n",
    "    return retVal\n",
    "\n",
    "tests = [\n",
    "    ([-1,0,1,2,-1,-4], [[-1,-1,2],[-1,0,1]]),\n",
    "    ([0,1,1], []),\n",
    "    ([0,0,0], [[0,0,0]])\n",
    "]\n",
    "for t in tests:\n",
    "    assert(sorted(threesum(t[0])) == sorted(t[1]))"
   ]
  }
 ],
 "metadata": {
  "kernelspec": {
   "display_name": "Python 3 (ipykernel)",
   "language": "python",
   "name": "python3"
  },
  "language_info": {
   "codemirror_mode": {
    "name": "ipython",
    "version": 3
   },
   "file_extension": ".py",
   "mimetype": "text/x-python",
   "name": "python",
   "nbconvert_exporter": "python",
   "pygments_lexer": "ipython3",
   "version": "3.9.6"
  }
 },
 "nbformat": 4,
 "nbformat_minor": 5
}
