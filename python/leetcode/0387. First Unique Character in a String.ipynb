{
 "cells": [
  {
   "cell_type": "code",
   "execution_count": 2,
   "id": "d717a820-0d1c-4a92-9f7f-9b052a5911a9",
   "metadata": {},
   "outputs": [],
   "source": [
    "\"\"\"\n",
    "https://leetcode.com/problems/first-unique-character-in-a-string/\n",
    "\n",
    "Given a string s, find the first non-repeating character in it and return its index. \n",
    "If it does not exist, return -1.\n",
    "\n",
    "\n",
    "Constraints:\n",
    "\n",
    "1 <= s.length <= 10^5\n",
    "s consists of only lowercase English letters.\n",
    "\"\"\"\n",
    "from collections import defaultdict\n",
    "def firstUniqCharIdx(s):\n",
    "    # build a map: char -> count\n",
    "    # O(n)\n",
    "    # enumrate over s, if count == 1, then return c\n",
    "    # O(n)\n",
    "    # total O(n)\n",
    "\n",
    "    counter = defaultdict(int)\n",
    "    for c in s:\n",
    "        counter[c] += 1\n",
    "    for idx, c in enumerate(s):\n",
    "        if counter[c] == 1:\n",
    "            return idx\n",
    "\n",
    "    return -1\n",
    "\n",
    "tests = [\n",
    "    (\"leetcode\", 0),\n",
    "    (\"loveleetcode\", 2),\n",
    "    (\"aabb\", -1)\n",
    "]\n",
    "for t in tests:\n",
    "    assert(firstUniqCharIdx(t[0]) == t[1])"
   ]
  }
 ],
 "metadata": {
  "kernelspec": {
   "display_name": "Python 3 (ipykernel)",
   "language": "python",
   "name": "python3"
  },
  "language_info": {
   "codemirror_mode": {
    "name": "ipython",
    "version": 3
   },
   "file_extension": ".py",
   "mimetype": "text/x-python",
   "name": "python",
   "nbconvert_exporter": "python",
   "pygments_lexer": "ipython3",
   "version": "3.9.6"
  }
 },
 "nbformat": 4,
 "nbformat_minor": 5
}
