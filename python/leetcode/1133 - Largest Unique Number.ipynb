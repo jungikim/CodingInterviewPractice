{
 "cells": [
  {
   "cell_type": "code",
   "execution_count": 1,
   "id": "ca8f854f-26f0-440f-9a97-a61095e3ca62",
   "metadata": {},
   "outputs": [],
   "source": [
    "\"\"\"\n",
    "https://leetcode.com/problems/largest-unique-number/\n",
    "https://leetcode.ca/2019-01-06-1133-Largest-Unique-Number/\n",
    "\n",
    "\n",
    "Given an integer array nums, return the largest integer that only occurs once. If no integer occurs once, return -1.\n",
    "\n",
    "\n",
    "Constraints:\n",
    "1 <= nums.length <= 2000\n",
    "0 <= nums[i] <= 1000\n",
    "\"\"\"\n",
    "\n",
    "from collections import defaultdict\n",
    "def largestUniqNum(nums):\n",
    "    counter=defaultdict(int)\n",
    "    for n in nums:\n",
    "        counter[n]+=1\n",
    "    _max=-1\n",
    "    for n in nums:\n",
    "        if counter[n]>1:\n",
    "            continue\n",
    "        _max = max(_max, n)\n",
    "    return _max\n",
    "\n",
    "tests = [\n",
    "    ([5,7,3,9,4,9,8,3,1], 8),\n",
    "    # The maximum integer in the array is 9 but it is repeated. The number 8 occurs only once, so it is the answer\n",
    "    ([9,9,8,8], -1)\n",
    "]\n",
    "for t in tests:\n",
    "    assert(largestUniqNum(t[0]) == t[1])"
   ]
  }
 ],
 "metadata": {
  "kernelspec": {
   "display_name": "Python 3 (ipykernel)",
   "language": "python",
   "name": "python3"
  },
  "language_info": {
   "codemirror_mode": {
    "name": "ipython",
    "version": 3
   },
   "file_extension": ".py",
   "mimetype": "text/x-python",
   "name": "python",
   "nbconvert_exporter": "python",
   "pygments_lexer": "ipython3",
   "version": "3.10.13"
  }
 },
 "nbformat": 4,
 "nbformat_minor": 5
}
