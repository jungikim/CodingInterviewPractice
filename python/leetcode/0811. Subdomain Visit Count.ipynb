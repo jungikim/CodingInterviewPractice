{
 "cells": [
  {
   "cell_type": "code",
   "execution_count": 19,
   "id": "0e453f01-c7c7-45f9-9c02-a90c67f8025c",
   "metadata": {},
   "outputs": [],
   "source": [
    "\"\"\"\n",
    "https://leetcode.com/problems/subdomain-visit-count/\n",
    "\n",
    "A website domain \"discuss.leetcode.com\" consists of various subdomains. \n",
    "At the top level, we have \"com\", at the next level, we have \"leetcode.com\" and at the lowest level, \"discuss.leetcode.com\". \n",
    "When we visit a domain like \"discuss.leetcode.com\", we will also visit the parent domains \"leetcode.com\" and \"com\" implicitly.\n",
    "\n",
    "A count-paired domain is a domain that has one of the two formats \"rep d1.d2.d3\" or \"rep d1.d2\" \n",
    "where rep is the number of visits to the domain and d1.d2.d3 is the domain itself.\n",
    "\n",
    "For example, \"9001 discuss.leetcode.com\" is a count-paired domain that indicates that discuss.leetcode.com was visited 9001 times.\n",
    "Given an array of count-paired domains cpdomains, return an array of the count-paired domains of each subdomain in the input. \n",
    "You may return the answer in any order.\n",
    "\n",
    " \n",
    "Constraints:\n",
    "\n",
    "1 <= cpdomain.length <= 100\n",
    "1 <= cpdomain[i].length <= 100\n",
    "cpdomain[i] follows either the \"repi d1i.d2i.d3i\" format or the \"repi d1i.d2i\" format.\n",
    "repi is an integer in the range [1, 104].\n",
    "d1i, d2i, and d3i consist of lowercase English letters.\n",
    "\"\"\"\n",
    "\n",
    "from collections import defaultdict\n",
    "def subdomainVisitCount(cpdomains):\n",
    "    domainCountMap = defaultdict(int)\n",
    "    for cpdomain in cpdomains:\n",
    "        toks = cpdomain.split()\n",
    "        if len(toks) != 2:\n",
    "            continue\n",
    "        c, domain = toks[0], toks[1]\n",
    "        # check if c can be interpreted as int\n",
    "        try:\n",
    "            c = int(c)\n",
    "        except:\n",
    "            print(\"Error: \"+c+\" is not an integer\")\n",
    "            continue\n",
    "        subdomains = domain.split(\".\")\n",
    "        for i in range(len(subdomains)):\n",
    "            subdomain = \".\".join(subdomains[i:])\n",
    "            domainCountMap[subdomain] += c\n",
    "\n",
    "    return [ str(c)+\" \"+subdomain for (subdomain,c) in domainCountMap.items() ]\n",
    "\n",
    "\n",
    "tests = [\n",
    "    ([\"9001 discuss.leetcode.com\"],\n",
    "     [\"9001 leetcode.com\",\"9001 discuss.leetcode.com\",\"9001 com\"]),\n",
    "    ([\"900 google.mail.com\", \"50 yahoo.com\", \"1 intel.mail.com\", \"5 wiki.org\"],\n",
    "     [\"901 mail.com\",\"50 yahoo.com\",\"900 google.mail.com\",\"5 wiki.org\",\"5 org\",\"1 intel.mail.com\",\"951 com\"])\n",
    "]\n",
    "\n",
    "for t in tests:\n",
    "    assert(sorted(subdomainVisitCount(t[0])) == sorted(t[1]))"
   ]
  }
 ],
 "metadata": {
  "kernelspec": {
   "display_name": "Python 3 (ipykernel)",
   "language": "python",
   "name": "python3"
  },
  "language_info": {
   "codemirror_mode": {
    "name": "ipython",
    "version": 3
   },
   "file_extension": ".py",
   "mimetype": "text/x-python",
   "name": "python",
   "nbconvert_exporter": "python",
   "pygments_lexer": "ipython3",
   "version": "3.8.6"
  }
 },
 "nbformat": 4,
 "nbformat_minor": 5
}
