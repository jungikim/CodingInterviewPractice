{
 "cells": [
  {
   "cell_type": "code",
   "execution_count": 9,
   "id": "f029106c-b345-4f12-b2c8-d581fc72f64b",
   "metadata": {},
   "outputs": [],
   "source": [
    "\"\"\"\n",
    "https://leetcode.com/problems/top-k-frequent-elements/\n",
    "\n",
    "Given an integer array nums and an integer k, return the k most frequent elements.\n",
    "You may return the answer in any order.\n",
    "\n",
    "Constraints:\n",
    "\n",
    "1 <= nums.length <= 105\n",
    "-104 <= nums[i] <= 104\n",
    "k is in the range [1, the number of unique elements in the array].\n",
    "It is guaranteed that the answer is unique.\n",
    " \n",
    "\n",
    "Follow up: Your algorithm's time complexity must be better than O(n log n), where n is the array's size.\n",
    "\"\"\"\n",
    "\n",
    "from collections import defaultdict\n",
    "import heapq\n",
    "\n",
    "def topKFreq(arr, k):\n",
    "\n",
    "    # build a counter of integers (hashmap; O(1)\n",
    "    # build a maxheap of (freq, integer);   n * insert() O(logn):  O(nlogn)\n",
    "    # pop k elements:  k pop O(logn)\n",
    "\n",
    "    counter = defaultdict(int)\n",
    "    for n in arr:\n",
    "        counter[n] += 1\n",
    "\n",
    "    maxheap = []\n",
    "    for num in counter.keys():\n",
    "        heapq.heappush(maxheap, (-counter[num], num))\n",
    "\n",
    "    retVal = []\n",
    "    for _ in range(k):\n",
    "        nfreq, num = heapq.heappop(maxheap)\n",
    "        retVal.append(num)\n",
    "    return retVal\n",
    "\n",
    "tests = [\n",
    "    ([1,1,1,2,2,3], 2, [1,2]),\n",
    "    ([1], 1, [1])\n",
    "]\n",
    "for t in tests:\n",
    "    assert(topKFreq(t[0], t[1]) == t[2])"
   ]
  }
 ],
 "metadata": {
  "kernelspec": {
   "display_name": "Python 3 (ipykernel)",
   "language": "python",
   "name": "python3"
  },
  "language_info": {
   "codemirror_mode": {
    "name": "ipython",
    "version": 3
   },
   "file_extension": ".py",
   "mimetype": "text/x-python",
   "name": "python",
   "nbconvert_exporter": "python",
   "pygments_lexer": "ipython3",
   "version": "3.8.6"
  }
 },
 "nbformat": 4,
 "nbformat_minor": 5
}
