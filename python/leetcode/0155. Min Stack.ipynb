{
 "cells": [
  {
   "cell_type": "code",
   "execution_count": 6,
   "id": "a48ce774-2cbe-42c9-aef5-7d185625bbc2",
   "metadata": {},
   "outputs": [
    {
     "name": "stdout",
     "output_type": "stream",
     "text": [
      "[-2] [-2]\n",
      "[-2, 0] [-2, -2]\n",
      "[-2, 0, -3] [-2, -2, -3]\n"
     ]
    }
   ],
   "source": [
    "\"\"\"\n",
    "https://leetcode.com/problems/min-stack/\n",
    "\n",
    "Design a stack that supports push, pop, top, and retrieving the minimum element in constant time.\n",
    "\n",
    "Implement the MinStack class:\n",
    "\n",
    "MinStack() initializes the stack object.\n",
    "void push(int val) pushes the element val onto the stack.\n",
    "void pop() removes the element on the top of the stack.\n",
    "int top() gets the top element of the stack.\n",
    "int getMin() retrieves the minimum element in the stack.\n",
    "You must implement a solution with O(1) time complexity for each function.\n",
    "\"\"\"\n",
    "\n",
    "# push(), pop() and top() can be implemented using a regular stack with O(1)\n",
    "# For getMin() \n",
    "#     1?   we can have a separate minheap that tracks the min element in the stack\n",
    "#          minheap pop() and push() is O(log(n))\n",
    "#     2    have a separate stack that only tracks the min value so far\n",
    "#          stack: 5\n",
    "#            min: 5\n",
    "#          stack: 5, 3\n",
    "#            min: 5, 3\n",
    "#          when adding new, compare top of min and new value and insert the smaller one to the minstack\n",
    "#          when pop(), also pop a value from minstack()\n",
    "\n",
    "class MinStack:\n",
    "\n",
    "    def __init__(self):\n",
    "        self.stack=[]\n",
    "        self.minstack=[]\n",
    "\n",
    "    def push(self, val: int) -> None:\n",
    "        self.stack.append(val)\n",
    "        minVal = val if len(self.minstack) == 0 else min(val, self.minstack[-1])\n",
    "        self.minstack.append(minVal)\n",
    "\n",
    "    def pop(self) -> None:\n",
    "        self.minstack.pop()\n",
    "        return self.stack.pop()        \n",
    "\n",
    "    def top(self) -> int:\n",
    "        return self.stack[-1]\n",
    "        \n",
    "    def getMin(self) -> int:\n",
    "        return self.minstack[-1]\n",
    "        \n",
    "\n",
    "\n",
    "minStack=MinStack()\n",
    "minStack.push(-2)\n",
    "print(minStack.stack, minStack.minstack)\n",
    "minStack.push(0)\n",
    "print(minStack.stack, minStack.minstack)\n",
    "minStack.push(-3)\n",
    "print(minStack.stack, minStack.minstack)\n",
    "assert(minStack.getMin() == -3) # return -3\n",
    "minStack.pop()\n",
    "minStack.top()    # return 0\n",
    "assert(minStack.getMin() == -2) # return -2\n"
   ]
  }
 ],
 "metadata": {
  "kernelspec": {
   "display_name": "Python 3 (ipykernel)",
   "language": "python",
   "name": "python3"
  },
  "language_info": {
   "codemirror_mode": {
    "name": "ipython",
    "version": 3
   },
   "file_extension": ".py",
   "mimetype": "text/x-python",
   "name": "python",
   "nbconvert_exporter": "python",
   "pygments_lexer": "ipython3",
   "version": "3.8.6"
  }
 },
 "nbformat": 4,
 "nbformat_minor": 5
}
