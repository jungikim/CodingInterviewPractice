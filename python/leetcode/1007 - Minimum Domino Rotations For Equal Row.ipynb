{
 "cells": [
  {
   "cell_type": "code",
   "execution_count": null,
   "id": "9ae2eb91-6c0e-424a-9e23-4e5d7728b8b6",
   "metadata": {},
   "outputs": [],
   "source": [
    "\"\"\"\n",
    "https://leetcode.com/problems/minimum-domino-rotations-for-equal-row/\n",
    "\n",
    "In a row of dominoes, tops[i] and bottoms[i] represent the top and bottom halves of the ith domino. (A domino is a tile with two numbers from 1 to 6 - one on each half of the tile.)\n",
    "We may rotate the ith domino, so that tops[i] and bottoms[i] swap values.\n",
    "Return the minimum number of rotations so that all the values in tops are the same, or all the values in bottoms are the same.\n",
    "If it cannot be done, return -1.\n",
    "\n",
    "\n",
    "Constraints:\n",
    "\n",
    "2 <= tops.length <= 2 * 10^4\n",
    "bottoms.length == tops.length\n",
    "1 <= tops[i], bottoms[i] <= 6\n",
    "\"\"\""
   ]
  },
  {
   "cell_type": "code",
   "execution_count": 21,
   "id": "5dc2d3ba-8531-447f-bba3-b9db020d9490",
   "metadata": {},
   "outputs": [],
   "source": [
    "\n",
    "def minDominoRotations(tops, bottoms):\n",
    "    N = len(tops)\n",
    "    inf=float('inf')\n",
    "    assert(len(bottoms)==N)\n",
    "\n",
    "    # check top[0] against tops[1..N-1] or botoms[1..N-1]\n",
    "    # check bottom[0] against tops[1..N-1] or botoms[1..N-1]\n",
    "    # O(N)\n",
    "\n",
    "    def checkNum(num):\n",
    "        topCnt=0\n",
    "        bottomCnt=0\n",
    "        for t,b in zip(tops, bottoms):\n",
    "            if num != t and num != b:\n",
    "                return inf\n",
    "            if t != num:\n",
    "                topCnt += 1\n",
    "            if b != num:\n",
    "                bottomCnt += 1\n",
    "        return min(topCnt,bottomCnt)\n",
    "    \n",
    "    retVal = min(checkNum(tops[0]), checkNum(bottoms[0]))\n",
    "    if retVal == inf:\n",
    "        return -1\n",
    "    return retVal\n",
    "\n",
    "\n",
    "tests = [\n",
    "    ([2,1,2,4,2,2],\n",
    "     [5,2,6,2,3,2],\n",
    "     2),\n",
    "    # The first figure represents the dominoes as given by tops and bottoms: before we do any rotations.\n",
    "    # If we rotate the second and fourth dominoes, we can make every value in the top row equal to 2, as indicated by the second figure.\n",
    "    ([3,5,1,2,3],\n",
    "     [3,6,3,3,4],\n",
    "     -1),\n",
    "    # it is not possible to rotate the dominoes to make one row of values equal.\n",
    "]\n",
    "for t in tests:\n",
    "    assert(minDominoRotations(t[0],t[1]) == t[2])\n"
   ]
  }
 ],
 "metadata": {
  "kernelspec": {
   "display_name": "Python 3 (ipykernel)",
   "language": "python",
   "name": "python3"
  },
  "language_info": {
   "codemirror_mode": {
    "name": "ipython",
    "version": 3
   },
   "file_extension": ".py",
   "mimetype": "text/x-python",
   "name": "python",
   "nbconvert_exporter": "python",
   "pygments_lexer": "ipython3",
   "version": "3.10.13"
  }
 },
 "nbformat": 4,
 "nbformat_minor": 5
}
