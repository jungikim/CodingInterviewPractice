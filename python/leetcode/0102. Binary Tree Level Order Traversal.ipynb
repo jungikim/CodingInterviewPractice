{
 "cells": [
  {
   "cell_type": "code",
   "execution_count": 2,
   "id": "78ad7213-96c8-450d-ba0c-0d179ad8d1a8",
   "metadata": {},
   "outputs": [],
   "source": [
    "\"\"\"\n",
    "https://leetcode.com/problems/binary-tree-level-order-traversal/\n",
    "\n",
    "Given the root of a binary tree, return the level order traversal of its nodes' values. (i.e., from left to right, level by level).\n",
    "\n",
    "\n",
    "Constraints:\n",
    "\n",
    "The number of nodes in the tree is in the range [0, 2000].\n",
    "-1000 <= Node.val <= 1000\n",
    "\"\"\"\n",
    "\n",
    "class TreeNode:\n",
    "    def __init__(self, val=0, left=None, right=None):\n",
    "        self.val = val\n",
    "        self.left = left\n",
    "        self.right = right\n",
    "\n",
    "from collections import deque\n",
    "def levelOrder(root):\n",
    "    retVal = []\n",
    "    if root == None:\n",
    "        return []\n",
    "    q = deque()\n",
    "    q.append(root)\n",
    "    while len(q)>0:\n",
    "        thislevel = []\n",
    "        nextLevel = deque()\n",
    "        # process this level\n",
    "        while len(q) > 0:\n",
    "            n = q.popleft()\n",
    "            thisLevel.append(n.val)\n",
    "            if n.left:\n",
    "                nextLevel.append(n.left)\n",
    "            if n.right:\n",
    "                nextLevel.append(n.right)\n",
    "        retVal.append(thisLevel)\n",
    "        q = nextLevel()\n",
    "    return retVal\n",
    "\n",
    "tests = [\n",
    "    ([3,9,20,None,None,15,7], [[3],[9,20],[15,7]]),\n",
    "    ([1], [1]),\n",
    "    ([], [])\n",
    "]"
   ]
  }
 ],
 "metadata": {
  "kernelspec": {
   "display_name": "Python 3 (ipykernel)",
   "language": "python",
   "name": "python3"
  },
  "language_info": {
   "codemirror_mode": {
    "name": "ipython",
    "version": 3
   },
   "file_extension": ".py",
   "mimetype": "text/x-python",
   "name": "python",
   "nbconvert_exporter": "python",
   "pygments_lexer": "ipython3",
   "version": "3.9.6"
  }
 },
 "nbformat": 4,
 "nbformat_minor": 5
}
