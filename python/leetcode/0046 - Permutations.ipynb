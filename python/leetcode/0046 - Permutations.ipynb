{
 "cells": [
  {
   "cell_type": "code",
   "execution_count": 8,
   "id": "1629e15f-ab51-46b3-8deb-7a63fd5321c7",
   "metadata": {},
   "outputs": [],
   "source": [
    "\"\"\"\n",
    "https://leetcode.com/problems/permutations/\n",
    "\n",
    "Given an array nums of distinct integers, return all the possible permutations. You can return the answer in any order.\n",
    "\n",
    "Constraints:\n",
    "\n",
    "1 <= nums.length <= 6\n",
    "-10 <= nums[i] <= 10\n",
    "All the integers of nums are unique.\n",
    "Seen this question in a real interview before?\n",
    "\"\"\"\n",
    "\n",
    "def permute(nums):\n",
    "    def _permute(nums, arr, picked, retVal):\n",
    "        if len(arr) == len(nums):\n",
    "            retVal.append(list(arr))\n",
    "            return\n",
    "        for i in range(len(nums)):\n",
    "            if picked[i]:\n",
    "                continue\n",
    "            picked[i] = True\n",
    "            arr.append(nums[i])\n",
    "            _permute(nums, arr, picked, retVal)\n",
    "            arr.pop()\n",
    "            picked[i] = False\n",
    "    picked=[False] * len(nums)\n",
    "    arr = []\n",
    "    retVal = []\n",
    "    _permute(nums, arr, picked, retVal)\n",
    "    return retVal\n",
    "\n",
    "tests = [\n",
    "    ([1,2,3], [[1,2,3],[1,3,2],[2,1,3],[2,3,1],[3,1,2],[3,2,1]]),\n",
    "    ([0,1], [[0,1],[1,0]]),\n",
    "    ([1], [[1]]),\n",
    "]\n",
    "\n",
    "for t in tests:\n",
    "    retVal = permute(t[0])\n",
    "    # print(t, retVal)\n",
    "    assert(retVal==t[1])\n"
   ]
  }
 ],
 "metadata": {
  "kernelspec": {
   "display_name": "Python 3 (ipykernel)",
   "language": "python",
   "name": "python3"
  },
  "language_info": {
   "codemirror_mode": {
    "name": "ipython",
    "version": 3
   },
   "file_extension": ".py",
   "mimetype": "text/x-python",
   "name": "python",
   "nbconvert_exporter": "python",
   "pygments_lexer": "ipython3",
   "version": "3.11.7"
  }
 },
 "nbformat": 4,
 "nbformat_minor": 5
}
