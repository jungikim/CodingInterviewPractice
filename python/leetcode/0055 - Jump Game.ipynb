{
 "cells": [
  {
   "cell_type": "code",
   "execution_count": 1,
   "id": "c55b9135-3a1b-47a9-b61b-f2be26180cd6",
   "metadata": {},
   "outputs": [
    {
     "name": "stdout",
     "output_type": "stream",
     "text": [
      "([2, 3, 1, 1, 4], True) True\n",
      "([3, 2, 1, 0, 4], False) False\n"
     ]
    }
   ],
   "source": [
    "\"\"\"\n",
    "https://leetcode.com/problems/jump-game/\n",
    "\n",
    "You are given an integer array nums.\n",
    "You are initially positioned at the array's first index,\n",
    "and each element in the array represents your maximum jump length at that position.\n",
    "\n",
    "Return true if you can reach the last index, or false otherwise.\n",
    " \n",
    "Constraints:\n",
    "1 <= nums.length <= 10^4\n",
    "0 <= nums[i] <= 10^5\n",
    "\"\"\"\n",
    "\n",
    "def canJump(nums):\n",
    "    # array to keep track of what cells can be reached \n",
    "    # filled from front to back\n",
    "    # if at i, the cell i cannot be reached from the previous cells, return False\n",
    "\n",
    "    canBeJumpedFrom = [False] * len(nums)\n",
    "    canBeJumpedFrom[0] = True\n",
    "    for i in range(len(nums)):\n",
    "        if not canBeJumpedFrom[i]:\n",
    "            return False\n",
    "        for j in range(1, nums[i]+1):\n",
    "            if 0<= i+j < len(nums):\n",
    "                canBeJumpedFrom[i+j] = True\n",
    "    return True\n",
    "\n",
    "tests = [\n",
    "    ([2,3,1,1,4], True),\n",
    "    # Jump 1 step from index 0 to 1, then 3 steps to the last index.\n",
    "    ([3,2,1,0,4], False),\n",
    "    # You will always arrive at index 3 no matter what. Its maximum jump length is 0, which makes it impossible to reach the last index.\n",
    "]\n",
    "\n",
    "for t in tests:\n",
    "    retVal = canJump(t[0])\n",
    "    print(t, retVal)\n",
    "    # assert(t[1] == retVal)\n"
   ]
  }
 ],
 "metadata": {
  "kernelspec": {
   "display_name": "Python 3 (ipykernel)",
   "language": "python",
   "name": "python3"
  },
  "language_info": {
   "codemirror_mode": {
    "name": "ipython",
    "version": 3
   },
   "file_extension": ".py",
   "mimetype": "text/x-python",
   "name": "python",
   "nbconvert_exporter": "python",
   "pygments_lexer": "ipython3",
   "version": "3.9.6"
  }
 },
 "nbformat": 4,
 "nbformat_minor": 5
}
