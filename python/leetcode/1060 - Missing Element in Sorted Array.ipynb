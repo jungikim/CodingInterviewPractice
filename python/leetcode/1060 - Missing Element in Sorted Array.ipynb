{
 "cells": [
  {
   "cell_type": "code",
   "execution_count": 7,
   "id": "66452439-0bb6-44c8-85d6-09059961e6fe",
   "metadata": {},
   "outputs": [],
   "source": [
    "\"\"\"\n",
    "\n",
    "Given an integer array nums which is sorted in ascending order and all of its elements are unique and given also an integer k,\n",
    "return the kth missing number starting from the leftmost number of the array.\n",
    "\n",
    "\n",
    "Constraints:\n",
    "1 <= nums.length <= 5 * 10^4\n",
    "1 <= nums[i] <= 10^7\n",
    "nums is sorted in ascending order, and all the elements are unique.\n",
    "1 <= k <= 10^8\n",
    "\"\"\"\n",
    "\n",
    "def missingElement(nums, k):\n",
    "    _k = k\n",
    "    n = nums[0]\n",
    "    i=1\n",
    "    while _k > 0:\n",
    "        n+=1\n",
    "        if i < len(nums) and nums[i]==n:\n",
    "            i+=1\n",
    "        else:\n",
    "            _k -=1\n",
    "    return n\n",
    "\n",
    "\n",
    "tests = [\n",
    "    ([4,7,9,10], 1, 5),\n",
    "    ([4,7,9,10], 3, 8),\n",
    "    ([1,2,4], 3, 6),    \n",
    "]\n",
    "for t in tests:\n",
    "    assert(missingElement(t[0],t[1]) == t[2])"
   ]
  }
 ],
 "metadata": {
  "kernelspec": {
   "display_name": "Python 3 (ipykernel)",
   "language": "python",
   "name": "python3"
  },
  "language_info": {
   "codemirror_mode": {
    "name": "ipython",
    "version": 3
   },
   "file_extension": ".py",
   "mimetype": "text/x-python",
   "name": "python",
   "nbconvert_exporter": "python",
   "pygments_lexer": "ipython3",
   "version": "3.10.13"
  }
 },
 "nbformat": 4,
 "nbformat_minor": 5
}
