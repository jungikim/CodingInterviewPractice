{
 "cells": [
  {
   "cell_type": "code",
   "execution_count": 12,
   "id": "0e79286d-2785-40b5-ba87-3b3290084fb2",
   "metadata": {},
   "outputs": [],
   "source": [
    "\"\"\"\n",
    "https://leetcode.com/problems/longest-substring-without-repeating-characters/\n",
    "\n",
    "Given a string s, find the length of the longest substring without repeating characters.\n",
    "\"\"\"\n",
    "\n",
    "from collections import defaultdict\n",
    "\n",
    "def longestSubStr(s):\n",
    "    if len(s)==0:\n",
    "        return 0\n",
    "\n",
    "    longest = 0\n",
    "\n",
    "    # # bruteforce: for all substring of s, if no repeating char then save the length\n",
    "    # def hasnorepeatchar(s):\n",
    "    #     charSet = set()\n",
    "    #     for c in s:\n",
    "    #         if c in charSet:\n",
    "    #             return False\n",
    "    #         charSet.add(c)\n",
    "    #     return True\n",
    "\n",
    "    # for i in range(len(s)-1):\n",
    "    #     for j in range(i+1, len(s)):\n",
    "    #         substr = s[i:j]\n",
    "    #         if hasnorepeatchar(substr) and len(substr)>longest:\n",
    "    #             longest = len(substr)\n",
    "\n",
    "    # # dynamic window where we make sure to have only unique alphabets within the window but longest\n",
    "    left = 0\n",
    "    right = 0\n",
    "    charCounter = defaultdict(lambda: 0)\n",
    "    \n",
    "    while right < len(s):\n",
    "        rc = s[right]\n",
    "        charCounter[rc] += 1\n",
    "        while charCounter[rc] > 1:\n",
    "            lc = s[left]\n",
    "            charCounter[lc] -= 1\n",
    "            left += 1\n",
    "        right+=1\n",
    "        if right - left > longest:\n",
    "            longest = right - left\n",
    "\n",
    "    return longest\n",
    "\n",
    "tests = [\n",
    "    (\"abcabcbb\", 3),\n",
    "    (\"bbbbb\", 1),\n",
    "    (\"pwwkew\", 3)\n",
    "]\n",
    "\n",
    "for t in tests:\n",
    "    retVal = longestSubStr(t[0])\n",
    "    print(t, retVal)\n",
    "    assert(retVal == t[1])"
   ]
  },
  {
   "cell_type": "code",
   "execution_count": null,
   "id": "a4a8a77c-86ef-4a2a-b5ed-00e20ffdc907",
   "metadata": {},
   "outputs": [],
   "source": []
  }
 ],
 "metadata": {
  "kernelspec": {
   "display_name": "Python 3 (ipykernel)",
   "language": "python",
   "name": "python3"
  },
  "language_info": {
   "codemirror_mode": {
    "name": "ipython",
    "version": 3
   },
   "file_extension": ".py",
   "mimetype": "text/x-python",
   "name": "python",
   "nbconvert_exporter": "python",
   "pygments_lexer": "ipython3",
   "version": "3.9.6"
  }
 },
 "nbformat": 4,
 "nbformat_minor": 5
}
