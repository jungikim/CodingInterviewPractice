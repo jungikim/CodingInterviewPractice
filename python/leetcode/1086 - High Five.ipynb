{
 "cells": [
  {
   "cell_type": "code",
   "execution_count": 5,
   "id": "1bc3668a-5d1d-45d6-9cf6-ca7ab6cde3c1",
   "metadata": {},
   "outputs": [],
   "source": [
    "\"\"\"\n",
    "https://leetcode.com/problems/high-five/\n",
    "https://leetcode.ca/2018-11-20-1086-High-Five/\n",
    "\n",
    "Given a list of the scores of different students, items, \n",
    "where items[i] = [IDi, scorei] represents one score from a student with IDi, \n",
    "calculate each student's top five average.\n",
    "\n",
    "Return the answer as an array of pairs result, \n",
    "where result[j] = [IDj, topFiveAveragej] represents the student with IDj and their top five average. \n",
    "Sort result by IDj in increasing order.\n",
    "\n",
    "A student's top five average is calculated by taking the sum of their top five scores and dividing it by 5 using integer division.\n",
    "\n",
    "\n",
    "Constraints:\n",
    "\n",
    "1 <= items.length <= 1000\n",
    "items[i].length == 2\n",
    "1 <= IDi <= 1000\n",
    "0 <= scorei <= 100\n",
    "For each IDi, there will be at least five scores.\n",
    "\"\"\"\n",
    "\n",
    "from collections import defaultdict\n",
    "def highFive(items):\n",
    "    stuScoreMap=defaultdict(list)\n",
    "    for item in items:\n",
    "        stu,score=item[0],item[1]\n",
    "        stuScoreMap[stu].append(score)\n",
    "    retVal=[]\n",
    "    for stu,scores in stuScoreMap.items():\n",
    "        retVal.append([stu, sum(sorted(scores, reverse=True)[0:5])//5])\n",
    "    return sorted(retVal)\n",
    "\n",
    "tests = [\n",
    "    ([[1,91],[1,92],[2,93],[2,97],[1,60],[2,77],[1,65],[1,87],[1,100],[2,100],[2,76]],\n",
    "     [[1,87],[2,88]]),\n",
    "    # The student with ID = 1 got scores 91, 92, 60, 65, 87, and 100. Their top five average is (100 + 92 + 91 + 87 + 65) / 5 = 87.\n",
    "    # The student with ID = 2 got scores 93, 97, 77, 100, and 76. Their top five average is (100 + 97 + 93 + 77 + 76) / 5 = 88.6, but with integer division their average converts to 88.\n",
    "    ([[1,100],[7,100],[1,100],[7,100],[1,100],[7,100],[1,100],[7,100],[1,100],[7,100]],\n",
    "     [[1,100],[7,100]]),\n",
    "]\n",
    "for t in tests:\n",
    "    assert(highFive(t[0])==t[1])"
   ]
  }
 ],
 "metadata": {
  "kernelspec": {
   "display_name": "Python 3 (ipykernel)",
   "language": "python",
   "name": "python3"
  },
  "language_info": {
   "codemirror_mode": {
    "name": "ipython",
    "version": 3
   },
   "file_extension": ".py",
   "mimetype": "text/x-python",
   "name": "python",
   "nbconvert_exporter": "python",
   "pygments_lexer": "ipython3",
   "version": "3.9.6"
  }
 },
 "nbformat": 4,
 "nbformat_minor": 5
}
