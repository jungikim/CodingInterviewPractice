{
 "cells": [
  {
   "cell_type": "code",
   "execution_count": 3,
   "id": "cba36222-8d3a-4148-9517-235bd70edb93",
   "metadata": {},
   "outputs": [],
   "source": [
    "\"\"\"\n",
    "https://leetcode.com/problems/k-closest-points-to-origin/\n",
    "\n",
    "Given an array of points where points[i] = [xi, yi] represents a point on the X-Y plane and an integer k,\n",
    "return the k closest points to the origin (0, 0).\n",
    "\n",
    "The distance between two points on the X-Y plane is the Euclidean distance (i.e., √(x1 - x2)2 + (y1 - y2)2).\n",
    "\n",
    "You may return the answer in any order. The answer is guaranteed to be unique (except for the order that it is in).\n",
    "\n",
    "\n",
    "Constraints:\n",
    "\n",
    "1 <= k <= points.length <= 10^4\n",
    "-10^4 <= xi, yi <= 10^4\n",
    "\"\"\"\n",
    "\n",
    "import heapq\n",
    "def kClosestPtsToOrigin(points, k):\n",
    "    minheap = []\n",
    "    # we can also sort()\n",
    "    for p in points:\n",
    "        dist = pow(p[0]*p[0]+p[1]*p[1], 0.5)  # pow( ,0.5) is not actually necessary\n",
    "        heapq.heappush(minheap, (dist, p))\n",
    "\n",
    "    retVal = []\n",
    "    for _ in range(k):\n",
    "        dist, p = heapq.heappop(minheap)\n",
    "        retVal.append(p)\n",
    "    return retVal\n",
    "\n",
    "tests = [\n",
    "([[1,3],[-2,2]],        1, sorted([[-2,2]])),\n",
    "([[3,3],[5,-1],[-2,4]], 2, sorted([[3,3],[-2,4]]))\n",
    "]\n",
    "\n",
    "for t in tests:\n",
    "    assert(sorted(kClosestPtsToOrigin(t[0], t[1])) == t[2])"
   ]
  }
 ],
 "metadata": {
  "kernelspec": {
   "display_name": "Python 3 (ipykernel)",
   "language": "python",
   "name": "python3"
  },
  "language_info": {
   "codemirror_mode": {
    "name": "ipython",
    "version": 3
   },
   "file_extension": ".py",
   "mimetype": "text/x-python",
   "name": "python",
   "nbconvert_exporter": "python",
   "pygments_lexer": "ipython3",
   "version": "3.8.6"
  }
 },
 "nbformat": 4,
 "nbformat_minor": 5
}
