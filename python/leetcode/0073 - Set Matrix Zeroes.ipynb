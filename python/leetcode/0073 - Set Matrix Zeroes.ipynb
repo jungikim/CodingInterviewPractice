{
 "cells": [
  {
   "cell_type": "code",
   "execution_count": 2,
   "id": "47ad6f0e-9c92-4077-a461-4cd36eb73534",
   "metadata": {},
   "outputs": [],
   "source": [
    "\"\"\"\n",
    "https://leetcode.com/problems/set-matrix-zeroes/\n",
    "\n",
    "Given an m x n integer matrix matrix, if an element is 0, set its entire row and column to 0's.\n",
    "\n",
    "You must do it in place.\n",
    "\n",
    "Constraints:\n",
    "m == matrix.length\n",
    "n == matrix[0].length\n",
    "1 <= m, n <= 200\n",
    "-2^31 <= matrix[i][j] <= 2^31 - 1\n",
    " \n",
    "Follow up:\n",
    "A straightforward solution using O(mn) space is probably a bad idea.\n",
    "A simple improvement uses O(m + n) space, but still not the best solution.\n",
    "Could you devise a constant space solution?\n",
    "\"\"\"\n",
    "\n",
    "def setZeroes(matrix):\n",
    "    resetRowSet = set()\n",
    "    resetColSet = set()\n",
    "    M, N = len(matrix), len(matrix[-1])\n",
    "    for i in range(M):\n",
    "        for j in range(N):\n",
    "            if matrix[i][j] == 0:\n",
    "                resetRowSet.add(i)\n",
    "                resetColSet.add(j)\n",
    "    for i in range(M):\n",
    "        for j in range(N):\n",
    "            if i in resetRowSet or j in resetColSet:\n",
    "                matrix[i][j] = 0\n",
    "    return matrix\n",
    "\n",
    "\n",
    "tests = [\n",
    "    ([[1,1,1],\n",
    "      [1,0,1],\n",
    "      [1,1,1]],\n",
    "     [[1,0,1],\n",
    "      [0,0,0],\n",
    "      [1,0,1]]),\n",
    "    ([[0,1,2,0],\n",
    "      [3,4,5,2],\n",
    "      [1,3,1,5]],\n",
    "     [[0,0,0,0],\n",
    "      [0,4,5,0],\n",
    "      [0,3,1,0]]),\n",
    "]\n",
    "\n",
    "for t in tests:\n",
    "    retVal = setZeroes(t[0])\n",
    "    assert(retVal == t[1])\n"
   ]
  }
 ],
 "metadata": {
  "kernelspec": {
   "display_name": "Python 3 (ipykernel)",
   "language": "python",
   "name": "python3"
  },
  "language_info": {
   "codemirror_mode": {
    "name": "ipython",
    "version": 3
   },
   "file_extension": ".py",
   "mimetype": "text/x-python",
   "name": "python",
   "nbconvert_exporter": "python",
   "pygments_lexer": "ipython3",
   "version": "3.11.7"
  }
 },
 "nbformat": 4,
 "nbformat_minor": 5
}
