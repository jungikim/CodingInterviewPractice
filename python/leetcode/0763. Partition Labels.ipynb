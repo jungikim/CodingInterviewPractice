{
 "cells": [
  {
   "cell_type": "code",
   "execution_count": 17,
   "id": "4dec8f80-f248-4525-8bd7-8e95de36ab51",
   "metadata": {},
   "outputs": [],
   "source": [
    "\"\"\"\n",
    "https://leetcode.com/problems/partition-labels/\n",
    "\n",
    "You are given a string s.\n",
    "We want to partition the string into as many parts as possible so that each letter appears in at most one part.\n",
    "Note that the partition is done so that after concatenating all the parts in order, the resultant string should be s.\n",
    "Return a list of integers representing the size of these parts.\n",
    "\n",
    "Constraints:\n",
    "1 <= s.length <= 500\n",
    "s consists of lowercase English letters.\n",
    "\"\"\"\n",
    "\n",
    "def partitionLabels(s):\n",
    "    lastIdx = {}\n",
    "    for i,c in enumerate(s):\n",
    "        lastIdx[c] = i\n",
    "\n",
    "    partIdx = [-1]\n",
    "    i = 0\n",
    "    while i < len(s):\n",
    "        # find the next segment satisfying the requirement\n",
    "        # for all letters in the segment, we expand the segment\n",
    "        # to include the last occurrance of the letter in the string\n",
    "        maxIdx = lastIdx[s[i]]\n",
    "        while i < maxIdx:\n",
    "            i+=1\n",
    "            maxIdx = max(maxIdx, lastIdx[s[i]])\n",
    "        partIdx.append(i)\n",
    "        i+=1 \n",
    "\n",
    "    retVal = []\n",
    "    for i in range(1, len(partIdx)):\n",
    "        retVal.append(partIdx[i]-partIdx[i-1])\n",
    "\n",
    "    return retVal\n",
    "\n",
    "        \n",
    "tests = [\n",
    "    (\"ababcbacadefegdehijhklij\", [9,7,8]),\n",
    "    # \"ababcbaca\", \"defegde\", \"hijhklij\"\n",
    "    (\"eccbbbbdec\", [10])\n",
    "]\n",
    "for t in tests:\n",
    "    assert(partitionLabels(t[0]) == t[1])\n"
   ]
  }
 ],
 "metadata": {
  "kernelspec": {
   "display_name": "Python 3 (ipykernel)",
   "language": "python",
   "name": "python3"
  },
  "language_info": {
   "codemirror_mode": {
    "name": "ipython",
    "version": 3
   },
   "file_extension": ".py",
   "mimetype": "text/x-python",
   "name": "python",
   "nbconvert_exporter": "python",
   "pygments_lexer": "ipython3",
   "version": "3.9.6"
  }
 },
 "nbformat": 4,
 "nbformat_minor": 5
}
