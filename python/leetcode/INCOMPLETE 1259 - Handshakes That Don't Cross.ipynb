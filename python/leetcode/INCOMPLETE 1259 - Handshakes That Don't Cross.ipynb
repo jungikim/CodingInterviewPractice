{
 "cells": [
  {
   "cell_type": "code",
   "execution_count": 2,
   "id": "97518f4a-a01b-4669-9d19-9f4ad9d13261",
   "metadata": {},
   "outputs": [
    {
     "ename": "AssertionError",
     "evalue": "",
     "output_type": "error",
     "traceback": [
      "\u001b[0;31m---------------------------------------------------------------------------\u001b[0m",
      "\u001b[0;31mAssertionError\u001b[0m                            Traceback (most recent call last)",
      "Cell \u001b[0;32mIn[2], line 43\u001b[0m\n\u001b[1;32m     23\u001b[0m tests \u001b[38;5;241m=\u001b[39m [\n\u001b[1;32m     24\u001b[0m     (\u001b[38;5;241m2\u001b[39m, \u001b[38;5;241m1\u001b[39m),\n\u001b[1;32m     25\u001b[0m     (\u001b[38;5;241m4\u001b[39m, \u001b[38;5;241m2\u001b[39m),\n\u001b[0;32m   (...)\u001b[0m\n\u001b[1;32m     40\u001b[0m     \n\u001b[1;32m     41\u001b[0m ]\n\u001b[1;32m     42\u001b[0m \u001b[38;5;28;01mfor\u001b[39;00m t \u001b[38;5;129;01min\u001b[39;00m tests:\n\u001b[0;32m---> 43\u001b[0m     \u001b[38;5;28;01massert\u001b[39;00m(handshakesNoCross(t[\u001b[38;5;241m0\u001b[39m]) \u001b[38;5;241m==\u001b[39m t[\u001b[38;5;241m1\u001b[39m])\n",
      "\u001b[0;31mAssertionError\u001b[0m: "
     ]
    }
   ],
   "source": [
    "\"\"\"\n",
    "https://leetcode.com/problems/handshakes-that-dont-cross/\n",
    "https://leetcode.ca/2019-05-12-1259-Handshakes-That-Don't-Cross/\n",
    "\n",
    "You are given an even number of people numPeople that stand around a circle and \n",
    "each person shakes hands with someone else so that there are numPeople / 2 handshakes total.\n",
    "\n",
    "Return the number of ways these handshakes could occur such that none of the handshakes cross.\n",
    "\n",
    "Since the answer could be very large, return it modulo 10^9 + 7.\n",
    "\n",
    "\n",
    "Constraints:\n",
    "2 <= numPeople <= 1000\n",
    "numPeople is even.\n",
    "\"\"\"\n",
    "\n",
    "def handshakesNoCross(numPeople):\n",
    "    return -1\n",
    "\n",
    "\n",
    "\n",
    "tests = [\n",
    "    (2, 1),\n",
    "    (4, 2),\n",
    "    #  1   2\n",
    "    #  3   4\n",
    "    #There are two ways to do it, the first way is [(1,2),(3,4)] and the second one is [(2,3),(4,1)].\n",
    "    (6, 5),\n",
    "    #     2\n",
    "    #  1     3\n",
    "    #  6     4\n",
    "    #     5\n",
    "    # (8, ?),\n",
    "    #     1   2\n",
    "    #   8        3\n",
    "    #\n",
    "    #   7        4\n",
    "    #     6   5\n",
    "]\n",
    "for t in tests:\n",
    "    assert(handshakesNoCross(t[0]) == t[1])\n"
   ]
  }
 ],
 "metadata": {
  "kernelspec": {
   "display_name": "Python 3 (ipykernel)",
   "language": "python",
   "name": "python3"
  },
  "language_info": {
   "codemirror_mode": {
    "name": "ipython",
    "version": 3
   },
   "file_extension": ".py",
   "mimetype": "text/x-python",
   "name": "python",
   "nbconvert_exporter": "python",
   "pygments_lexer": "ipython3",
   "version": "3.8.6"
  }
 },
 "nbformat": 4,
 "nbformat_minor": 5
}
