{
 "cells": [
  {
   "cell_type": "code",
   "execution_count": 1,
   "id": "6c3ca0fe-e1a4-40db-af97-c8390f06c6b4",
   "metadata": {},
   "outputs": [],
   "source": [
    "\"\"\"\n",
    "https://leetcode.com/problems/defanging-an-ip-address/\n",
    "\n",
    "Given a valid (IPv4) IP address, return a defanged version of that IP address.\n",
    "\n",
    "A defanged IP address replaces every period \".\" with \"[.]\".\n",
    "\n",
    "Constraints:\n",
    "The given address is a valid IPv4 address.\n",
    "\"\"\"\n",
    "\n",
    "def defanging(addr):\n",
    "    retVal=[]\n",
    "    for c in addr:\n",
    "        if c == '.':\n",
    "            retVal.append('[.]')\n",
    "        else:\n",
    "            retVal.append(c)\n",
    "    return ''.join(retVal)\n",
    "\n",
    "tests = [\n",
    "(\"1.1.1.1\", \"1[.]1[.]1[.]1\"),\n",
    "(\"255.100.50.0\", \"255[.]100[.]50[.]0\"),\n",
    "]\n",
    "for t in tests:\n",
    "    assert(defanging(t[0])==t[1])\n"
   ]
  }
 ],
 "metadata": {
  "kernelspec": {
   "display_name": "Python 3 (ipykernel)",
   "language": "python",
   "name": "python3"
  },
  "language_info": {
   "codemirror_mode": {
    "name": "ipython",
    "version": 3
   },
   "file_extension": ".py",
   "mimetype": "text/x-python",
   "name": "python",
   "nbconvert_exporter": "python",
   "pygments_lexer": "ipython3",
   "version": "3.10.13"
  }
 },
 "nbformat": 4,
 "nbformat_minor": 5
}
