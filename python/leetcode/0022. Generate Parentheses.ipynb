{
 "cells": [
  {
   "cell_type": "code",
   "execution_count": 10,
   "id": "864773c1-15b2-4f2b-83c7-50158ffabdd0",
   "metadata": {},
   "outputs": [],
   "source": [
    "\"\"\"\n",
    "https://leetcode.com/problems/generate-parentheses/\n",
    "\n",
    "Given n pairs of parentheses, write a function to generate all combinations of well-formed parentheses.\n",
    "\n",
    "Constraints:\n",
    "1 <= n <= 8\n",
    "\"\"\"\n",
    "\n",
    "def genParen(N):\n",
    "    if N == 0:\n",
    "        return ''\n",
    "    # n * 2 lengths\n",
    "    # the first and the last are always ( and )\n",
    "    # (   (n-1) combinations   )\n",
    "    retVal = []\n",
    "    q = []\n",
    "    q.append(('',0,0))\n",
    "    while len(q)>0:\n",
    "        s, lc, rc = q.pop()\n",
    "        if len(s) == 2*N:\n",
    "            retVal.append(s)\n",
    "            continue\n",
    "        if lc < N:\n",
    "            q.append((s+'(', lc+1, rc))\n",
    "        if rc < lc:\n",
    "            q.append((s+')', lc, rc+1))\n",
    "\n",
    "    return retVal\n",
    "\n",
    "tests = [\n",
    "    (3, [\"((()))\",\n",
    "         \"(()())\",\n",
    "         \"(())()\",\n",
    "         \"()(())\",\n",
    "         \"()()()\"]),\n",
    "    (1, [\"()\"])\n",
    "]\n",
    "for t in tests:\n",
    "    assert(sorted(genParen(t[0])) == sorted(t[1]))"
   ]
  }
 ],
 "metadata": {
  "kernelspec": {
   "display_name": "Python 3 (ipykernel)",
   "language": "python",
   "name": "python3"
  },
  "language_info": {
   "codemirror_mode": {
    "name": "ipython",
    "version": 3
   },
   "file_extension": ".py",
   "mimetype": "text/x-python",
   "name": "python",
   "nbconvert_exporter": "python",
   "pygments_lexer": "ipython3",
   "version": "3.8.6"
  }
 },
 "nbformat": 4,
 "nbformat_minor": 5
}
