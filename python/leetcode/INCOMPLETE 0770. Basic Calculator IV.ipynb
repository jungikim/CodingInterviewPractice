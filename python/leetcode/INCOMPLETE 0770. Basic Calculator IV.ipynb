{
 "cells": [
  {
   "cell_type": "code",
   "execution_count": 1,
   "id": "2efe91fa-a446-470c-8659-74c402984964",
   "metadata": {},
   "outputs": [
    {
     "ename": "TypeError",
     "evalue": "calc() takes 1 positional argument but 3 were given",
     "output_type": "error",
     "traceback": [
      "\u001b[0;31m---------------------------------------------------------------------------\u001b[0m",
      "\u001b[0;31mTypeError\u001b[0m                                 Traceback (most recent call last)",
      "Cell \u001b[0;32mIn[1], line 47\u001b[0m\n\u001b[1;32m     41\u001b[0m tests \u001b[38;5;241m=\u001b[39m [\n\u001b[1;32m     42\u001b[0m (                 \u001b[38;5;124m\"\u001b[39m\u001b[38;5;124me + 8 - a + 5\u001b[39m\u001b[38;5;124m\"\u001b[39m,                [\u001b[38;5;124m\"\u001b[39m\u001b[38;5;124me\u001b[39m\u001b[38;5;124m\"\u001b[39m],     [\u001b[38;5;241m1\u001b[39m],        [\u001b[38;5;124m\"\u001b[39m\u001b[38;5;124m-1*a\u001b[39m\u001b[38;5;124m\"\u001b[39m,  \u001b[38;5;124m\"\u001b[39m\u001b[38;5;124m14\u001b[39m\u001b[38;5;124m\"\u001b[39m]),\n\u001b[1;32m     43\u001b[0m (\u001b[38;5;124m\"\u001b[39m\u001b[38;5;124me - 8 + temperature - pressure\u001b[39m\u001b[38;5;124m\"\u001b[39m, [\u001b[38;5;124m\"\u001b[39m\u001b[38;5;124me\u001b[39m\u001b[38;5;124m\"\u001b[39m, \u001b[38;5;124m\"\u001b[39m\u001b[38;5;124mtemperature\u001b[39m\u001b[38;5;124m\"\u001b[39m], [\u001b[38;5;241m1\u001b[39m, \u001b[38;5;241m12\u001b[39m], [\u001b[38;5;124m\"\u001b[39m\u001b[38;5;124m-1*pressure\u001b[39m\u001b[38;5;124m\"\u001b[39m,   \u001b[38;5;124m\"\u001b[39m\u001b[38;5;124m5\u001b[39m\u001b[38;5;124m\"\u001b[39m]),\n\u001b[1;32m     44\u001b[0m (             \u001b[38;5;124m\"\u001b[39m\u001b[38;5;124m(e + 8) * (e - 8)\u001b[39m\u001b[38;5;124m\"\u001b[39m,                   [],      [],       [\u001b[38;5;124m\"\u001b[39m\u001b[38;5;124m1*e*e\u001b[39m\u001b[38;5;124m\"\u001b[39m, \u001b[38;5;124m\"\u001b[39m\u001b[38;5;124m-64\u001b[39m\u001b[38;5;124m\"\u001b[39m])\n\u001b[1;32m     45\u001b[0m ]\n\u001b[1;32m     46\u001b[0m \u001b[38;5;28;01mfor\u001b[39;00m t \u001b[38;5;129;01min\u001b[39;00m tests:\n\u001b[0;32m---> 47\u001b[0m     \u001b[38;5;28;01massert\u001b[39;00m(\u001b[43mcalc\u001b[49m\u001b[43m(\u001b[49m\u001b[43mt\u001b[49m\u001b[43m[\u001b[49m\u001b[38;5;241;43m0\u001b[39;49m\u001b[43m]\u001b[49m\u001b[43m,\u001b[49m\u001b[43m \u001b[49m\u001b[43mt\u001b[49m\u001b[43m[\u001b[49m\u001b[38;5;241;43m1\u001b[39;49m\u001b[43m]\u001b[49m\u001b[43m,\u001b[49m\u001b[43m \u001b[49m\u001b[43mt\u001b[49m\u001b[43m[\u001b[49m\u001b[38;5;241;43m2\u001b[39;49m\u001b[43m]\u001b[49m\u001b[43m)\u001b[49m \u001b[38;5;241m==\u001b[39m t[\u001b[38;5;241m3\u001b[39m])\n",
      "\u001b[0;31mTypeError\u001b[0m: calc() takes 1 positional argument but 3 were given"
     ]
    }
   ],
   "source": [
    "\"\"\"\n",
    "https://leetcode.com/problems/basic-calculator-iv/\n",
    "\n",
    "Given an expression such as expression = \"e + 8 - a + 5\" and an evaluation map such as {\"e\": 1} (given in terms of evalvars = [\"e\"] and evalints = [1]), return a list of tokens representing the simplified expression, such as [\"-1*a\",\"14\"]\n",
    "\n",
    "An expression alternates chunks and symbols, with a space separating each chunk and symbol.\n",
    "A chunk is either an expression in parentheses, a variable, or a non-negative integer.\n",
    "A variable is a string of lowercase letters (not including digits.) Note that variables can be multiple letters, and note that variables never have a leading coefficient or unary operator like \"2x\" or \"-x\".\n",
    "Expressions are evaluated in the usual order: brackets first, then multiplication, then addition and subtraction.\n",
    "\n",
    "For example, expression = \"1 + 2 * 3\" has an answer of [\"7\"].\n",
    "The format of the output is as follows:\n",
    "\n",
    "For each term of free variables with a non-zero coefficient, we write the free variables within a term in sorted order lexicographically.\n",
    "For example, we would never write a term like \"b*a*c\", only \"a*b*c\".\n",
    "Terms have degrees equal to the number of free variables being multiplied, counting multiplicity. We write the largest degree terms of our answer first, breaking ties by lexicographic order ignoring the leading coefficient of the term.\n",
    "For example, \"a*a*b*c\" has degree 4.\n",
    "The leading coefficient of the term is placed directly to the left with an asterisk separating it from the variables (if they exist.) A leading coefficient of 1 is still printed.\n",
    "An example of a well-formatted answer is [\"-2*a*a*a\", \"3*a*a*b\", \"3*b*b\", \"4*a\", \"5*c\", \"-6\"].\n",
    "Terms (including constant terms) with coefficient 0 are not included.\n",
    "For example, an expression of \"0\" has an output of [].\n",
    "Note: You may assume that the given expression is always valid. All intermediate results will be in the range of [-231, 231 - 1].\n",
    "\n",
    "\n",
    "Constraints:\n",
    "1 <= expression.length <= 250\n",
    "expression consists of lowercase English letters, digits, '+', '-', '*', '(', ')', ' '.\n",
    "expression does not contain any leading or trailing spaces.\n",
    "All the tokens in expression are separated by a single space.\n",
    "0 <= evalvars.length <= 100\n",
    "1 <= evalvars[i].length <= 20\n",
    "evalvars[i] consists of lowercase English letters.\n",
    "evalints.length == evalvars.length\n",
    "-100 <= evalints[i] <= 100\n",
    "\"\"\"\n",
    "\n",
    "def calc(s):\n",
    "    pass\n",
    "\n",
    "\n",
    "tests = [\n",
    "(                 \"e + 8 - a + 5\",                [\"e\"],     [1],        [\"-1*a\",  \"14\"]),\n",
    "(\"e - 8 + temperature - pressure\", [\"e\", \"temperature\"], [1, 12], [\"-1*pressure\",   \"5\"]),\n",
    "(             \"(e + 8) * (e - 8)\",                   [],      [],       [\"1*e*e\", \"-64\"])\n",
    "]\n",
    "for t in tests:\n",
    "    assert(calc(t[0], t[1], t[2]) == t[3])\n"
   ]
  }
 ],
 "metadata": {
  "kernelspec": {
   "display_name": "Python 3 (ipykernel)",
   "language": "python",
   "name": "python3"
  },
  "language_info": {
   "codemirror_mode": {
    "name": "ipython",
    "version": 3
   },
   "file_extension": ".py",
   "mimetype": "text/x-python",
   "name": "python",
   "nbconvert_exporter": "python",
   "pygments_lexer": "ipython3",
   "version": "3.8.6"
  }
 },
 "nbformat": 4,
 "nbformat_minor": 5
}
