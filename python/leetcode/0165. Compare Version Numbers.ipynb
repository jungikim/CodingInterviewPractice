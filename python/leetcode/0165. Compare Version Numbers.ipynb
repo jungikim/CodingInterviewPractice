{
 "cells": [
  {
   "cell_type": "code",
   "execution_count": 6,
   "id": "b8a1a297-4cb0-4f8e-bcf2-7e75aa8a38cc",
   "metadata": {},
   "outputs": [
    {
     "ename": "SyntaxError",
     "evalue": "invalid syntax (3893215287.py, line 48)",
     "output_type": "error",
     "traceback": [
      "\u001b[0;36m  Cell \u001b[0;32mIn[6], line 48\u001b[0;36m\u001b[0m\n\u001b[0;31m    elif v2val > v1val\u001b[0m\n\u001b[0m                      ^\u001b[0m\n\u001b[0;31mSyntaxError\u001b[0m\u001b[0;31m:\u001b[0m invalid syntax\n"
     ]
    }
   ],
   "source": [
    "\"\"\"\n",
    "https://leetcode.com/problems/compare-version-numbers/\n",
    "\n",
    "Given two version numbers, version1 and version2, compare them.\n",
    "\n",
    "Version numbers consist of one or more revisions joined by a dot '.'.\n",
    "Each revision consists of digits and may contain leading zeros.\n",
    "Every revision contains at least one character.\n",
    "Revisions are 0-indexed from left to right, with the leftmost revision being revision 0, the next revision being revision 1, and so on.\n",
    "For example 2.5.33 and 0.1 are valid version numbers.\n",
    "\n",
    "To compare version numbers, compare their revisions in left-to-right order.\n",
    "Revisions are compared using their integer value ignoring any leading zeros.\n",
    "This means that revisions 1 and 001 are considered equal.\n",
    "If a version number does not specify a revision at an index, then treat the revision as 0.\n",
    "For example, version 1.0 is less than version 1.1 because their revision 0s are the same,\n",
    "but their revision 1s are 0 and 1 respectively, and 0 < 1.\n",
    "\n",
    "Return the following:\n",
    "\n",
    "If version1 < version2, return -1.\n",
    "If version1 > version2, return 1.\n",
    "Otherwise, return 0.\n",
    "\n",
    "\n",
    "Constraints:\n",
    "\n",
    "1 <= version1.length, version2.length <= 500\n",
    "version1 and version2 only contain digits and '.'.\n",
    "version1 and version2 are valid version numbers.\n",
    "All the given revisions in version1 and version2 can be stored in a 32-bit integer.\n",
    "\n",
    "\"\"\"\n",
    "\n",
    "def compareVersions(v1, v2):\n",
    "    v1i = [int(i) for i in v1.split(\".\")]\n",
    "    v2i = [int(i) for i in v2.split(\".\")]\n",
    "    for i in range(max(len(v1i), len(v2i))):\n",
    "        v1val = 0\n",
    "        v2val = 0\n",
    "        if i < len(v1i):\n",
    "            v1val = v1i[i]\n",
    "        if i < len(v2i):\n",
    "            v2val = v2i[i]\n",
    "\n",
    "        if v1val < v2val:\n",
    "            return -1\n",
    "        elif v2val > v1val:\n",
    "            return 1\n",
    "    return 0\n",
    "\n",
    "\n",
    "tests = [\n",
    "(\"1.01\", \"1.001\", 0),\n",
    "(\"1.0\", \"1.0.0\", 0),\n",
    "(\"0.1\", \"1.1\", -1),\n",
    "]\n",
    "for t in tests:\n",
    "    print(compareVersions(t[0], t[1]))\n",
    "    assert(compareVersions(t[0], t[1]) == t[2])"
   ]
  }
 ],
 "metadata": {
  "kernelspec": {
   "display_name": "Python 3 (ipykernel)",
   "language": "python",
   "name": "python3"
  },
  "language_info": {
   "codemirror_mode": {
    "name": "ipython",
    "version": 3
   },
   "file_extension": ".py",
   "mimetype": "text/x-python",
   "name": "python",
   "nbconvert_exporter": "python",
   "pygments_lexer": "ipython3",
   "version": "3.8.6"
  }
 },
 "nbformat": 4,
 "nbformat_minor": 5
}
