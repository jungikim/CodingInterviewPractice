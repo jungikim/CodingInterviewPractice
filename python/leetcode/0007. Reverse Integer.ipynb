{
 "cells": [
  {
   "cell_type": "code",
   "execution_count": 1,
   "id": "a6b3e15d-2adc-4b45-8bcc-d1db9d185883",
   "metadata": {},
   "outputs": [],
   "source": [
    "\"\"\"\n",
    "https://leetcode.com/problems/reverse-integer/\n",
    "\n",
    "Given a signed 32-bit integer x, return x with its digits reversed.\n",
    "If reversing x causes the value to go outside the signed 32-bit integer range [-2^31, 2^31 - 1], then return 0.\n",
    "\n",
    "Assume the environment does not allow you to store 64-bit integers (signed or unsigned).\n",
    "\n",
    "Constraints:\n",
    "\n",
    "-2^31 <= x <= 2^31-1\n",
    "\"\"\"\n",
    "INT_MIN=-pow(2,31)\n",
    "INT_MAX=pow(2,31)-1\n",
    "# print(f'{INT_MIN=}, {INT_MAX=}')\n",
    "# INT_MIN=-2147483648, INT_MAX=2147483647\n",
    "\n",
    "def reverseInt(num):\n",
    "    isNeg = num < 0\n",
    "    if isNeg:\n",
    "        if num == INT_MIN:\n",
    "            return 0\n",
    "        num=-num\n",
    "    stack = [int(i) for i in str(num)]\n",
    "    newNum = 0\n",
    "    while len(stack)>0:\n",
    "        d = stack.pop()\n",
    "        if (isNeg and (newNum>214748364 or (newNum==214748364 and d>8) )) or \\\n",
    "           (not isNeg and (newNum>214748364 or (newNum==214748364 and d>7) )):\n",
    "            return 0\n",
    "        newNum = newNum * 10 + d\n",
    "    if isNeg:\n",
    "        newNum = -newNum\n",
    "    return newNum\n",
    "\n",
    "tests = [\n",
    "    (123, 321),\n",
    "    (-123, -321),\n",
    "    (120, 21),\n",
    "    (-2147483649, 0),\n",
    "    (2147483648, 0)\n",
    "]\n",
    "for t in tests:\n",
    "    retVal = reverseInt(t[0])\n",
    "    print(t, retVal)\n",
    "    assert(retVal == t[1])"
   ]
  }
 ],
 "metadata": {
  "kernelspec": {
   "display_name": "Python 3 (ipykernel)",
   "language": "python",
   "name": "python3"
  },
  "language_info": {
   "codemirror_mode": {
    "name": "ipython",
    "version": 3
   },
   "file_extension": ".py",
   "mimetype": "text/x-python",
   "name": "python",
   "nbconvert_exporter": "python",
   "pygments_lexer": "ipython3",
   "version": "3.9.6"
  }
 },
 "nbformat": 4,
 "nbformat_minor": 5
}
