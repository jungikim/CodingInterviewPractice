{
 "cells": [
  {
   "cell_type": "code",
   "execution_count": 4,
   "id": "49ff7854-bd9b-495c-8dd0-70e428ccdd7f",
   "metadata": {},
   "outputs": [],
   "source": [
    "\"\"\"\n",
    "https://leetcode.com/problems/group-anagrams/\n",
    "\n",
    "Given an array of strings strs, group the anagrams together. You can return the answer in any order.\n",
    "\n",
    "An Anagram is a word or phrase formed by rearranging the letters of a different word or phrase, \n",
    "typically using all the original letters exactly once. \n",
    "\"\"\"\n",
    "from collections import defaultdict\n",
    "def groupAnagrams(words):\n",
    "    # anagrams have same counts of alphabets\n",
    "    # if you sort each anagram in the group, they should be identical -> key\n",
    "    group = defaultdict(list)\n",
    "    for w in words:\n",
    "        group[''.join(sorted(w))].append(w)\n",
    "\n",
    "    return [v for k,v in group.items()]\n",
    "\n",
    "tests = [\n",
    "    ([\"eat\",\"tea\",\"tan\",\"ate\",\"nat\",\"bat\"], [[\"bat\"],[\"nat\",\"tan\"],[\"ate\",\"eat\",\"tea\"]]),\n",
    "    ([\"\"], [[\"\"]]),\n",
    "    ([\"a\"], [[\"a\"]])\n",
    "]\n",
    "for t in tests:\n",
    "    def _sortlol(lol):\n",
    "        return sorted([sorted(i) for i in lol])\n",
    "    assert(_sortlol(groupAnagrams(t[0])) == _sortlol(t[1]))"
   ]
  }
 ],
 "metadata": {
  "kernelspec": {
   "display_name": "Python 3 (ipykernel)",
   "language": "python",
   "name": "python3"
  },
  "language_info": {
   "codemirror_mode": {
    "name": "ipython",
    "version": 3
   },
   "file_extension": ".py",
   "mimetype": "text/x-python",
   "name": "python",
   "nbconvert_exporter": "python",
   "pygments_lexer": "ipython3",
   "version": "3.9.6"
  }
 },
 "nbformat": 4,
 "nbformat_minor": 5
}
