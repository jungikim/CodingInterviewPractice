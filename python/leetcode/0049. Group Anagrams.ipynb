{
 "cells": [
  {
   "cell_type": "code",
   "execution_count": 9,
   "id": "49ff7854-bd9b-495c-8dd0-70e428ccdd7f",
   "metadata": {},
   "outputs": [
    {
     "name": "stdout",
     "output_type": "stream",
     "text": [
      "[['eat', 'tea', 'ate'], ['tan', 'nat'], ['bat']]\n",
      "[('bat',), ('eat', 'tea', 'ate'), ('tan', 'nat')]\n",
      "[['bat'], ['nat', 'tan'], ['ate', 'eat', 'tea']]\n",
      "[('ate', 'eat', 'tea'), ('bat',), ('nat', 'tan')]\n"
     ]
    },
    {
     "ename": "AssertionError",
     "evalue": "",
     "output_type": "error",
     "traceback": [
      "\u001b[0;31m---------------------------------------------------------------------------\u001b[0m",
      "\u001b[0;31mAssertionError\u001b[0m                            Traceback (most recent call last)",
      "Cell \u001b[0;32mIn[9], line 30\u001b[0m\n\u001b[1;32m     28\u001b[0m     \u001b[38;5;28mprint\u001b[39m(sortedl)\n\u001b[1;32m     29\u001b[0m     \u001b[38;5;28;01mreturn\u001b[39;00m [\u001b[38;5;28mlist\u001b[39m(i) \u001b[38;5;28;01mfor\u001b[39;00m i \u001b[38;5;129;01min\u001b[39;00m sortedl]\n\u001b[0;32m---> 30\u001b[0m \u001b[38;5;28;01massert\u001b[39;00m(_sortlol(groupAnagrams(t[\u001b[38;5;241m0\u001b[39m])) \u001b[38;5;241m==\u001b[39m _sortlol(t[\u001b[38;5;241m1\u001b[39m]))\n",
      "\u001b[0;31mAssertionError\u001b[0m: "
     ]
    }
   ],
   "source": [
    "\"\"\"\n",
    "https://leetcode.com/problems/group-anagrams/\n",
    "\n",
    "Given an array of strings strs, group the anagrams together. You can return the answer in any order.\n",
    "\n",
    "An Anagram is a word or phrase formed by rearranging the letters of a different word or phrase, \n",
    "typically using all the original letters exactly once. \n",
    "\"\"\"\n",
    "from collections import defaultdict\n",
    "def groupAnagrams(words):\n",
    "    # anagrams have same counts of alphabets\n",
    "    # if you sort each anagram in the group, they should be identical -> key\n",
    "    group = defaultdict(list)\n",
    "    for w in words:\n",
    "        group[''.join(sorted(w))].append(w)\n",
    "\n",
    "    return [v for k,v in group.items()]\n",
    "\n",
    "tests = [\n",
    "    ([\"eat\",\"tea\",\"tan\",\"ate\",\"nat\",\"bat\"], [[\"bat\"],[\"nat\",\"tan\"],[\"ate\",\"eat\",\"tea\"]]),\n",
    "    ([\"\"], [[\"\"]]),\n",
    "    ([\"a\"], [[\"a\"]])\n",
    "]\n",
    "for t in tests:\n",
    "    def _sortlol(lol):\n",
    "        sortedl = sorted([tuple(i) for i in lol])\n",
    "        print(lol)\n",
    "        print(sortedl)\n",
    "        return [list(i) for i in sortedl]\n",
    "    assert(_sortlol(groupAnagrams(t[0])) == _sortlol(t[1]))"
   ]
  }
 ],
 "metadata": {
  "kernelspec": {
   "display_name": "Python 3 (ipykernel)",
   "language": "python",
   "name": "python3"
  },
  "language_info": {
   "codemirror_mode": {
    "name": "ipython",
    "version": 3
   },
   "file_extension": ".py",
   "mimetype": "text/x-python",
   "name": "python",
   "nbconvert_exporter": "python",
   "pygments_lexer": "ipython3",
   "version": "3.8.6"
  }
 },
 "nbformat": 4,
 "nbformat_minor": 5
}
