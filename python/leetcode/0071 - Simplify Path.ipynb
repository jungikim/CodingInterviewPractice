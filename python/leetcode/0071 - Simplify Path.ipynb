{
 "cells": [
  {
   "cell_type": "code",
   "execution_count": 1,
   "id": "da4cc8bf-d23b-4b1e-ae18-6f6cbcd5ed06",
   "metadata": {},
   "outputs": [
    {
     "name": "stdout",
     "output_type": "stream",
     "text": [
      "('/home/', '/home') /home\n",
      "('/home//foo/', '/home/foo') /home/foo\n",
      "('/home/user/Documents/../Pictures', '/home/user/Pictures') /home/user/Pictures\n",
      "('/../', '/') /\n",
      "('/.../a/../b/c/../d/./', '/.../b/d') /.../b/d\n",
      "('/', '/') /\n"
     ]
    }
   ],
   "source": [
    "\"\"\"\n",
    "https://leetcode.com/problems/simplify-path/description/\n",
    "\n",
    "\n",
    "Given an absolute path for a Unix-style file system, which begins with a slash '/',\n",
    "transform this path into its simplified canonical path.\n",
    "\n",
    "In Unix-style file system context, \n",
    "a single period '.' signifies the current directory, \n",
    "a double period \"..\" denotes moving up one directory level, \n",
    "and multiple slashes such as \"//\" are interpreted as a single slash. \n",
    "\n",
    "In this problem,\n",
    "treat sequences of periods not covered by the previous rules (like \"...\") as valid names for files or directories.\n",
    "\n",
    "The simplified canonical path should adhere to the following rules:\n",
    "\n",
    "It must start with a single slash '/'.\n",
    "Directories within the path should be separated by only one slash '/'.\n",
    "It should not end with a slash '/', unless it's the root directory.\n",
    "It should exclude any single or double periods used to denote current or parent directories.\n",
    "Return the new path.\n",
    "\n",
    "\n",
    "Constraints:\n",
    "1 <= path.length <= 3000\n",
    "path consists of English letters, digits, period '.', slash '/' or '_'.\n",
    "path is a valid absolute Unix path.\n",
    "\"\"\"\n",
    "\n",
    "def simplifyPath(path):\n",
    "    d = path.split('/')\n",
    "    retVal = []\n",
    "    for p in d:\n",
    "        if p == '':\n",
    "            continue\n",
    "        if p == '.':\n",
    "            continue\n",
    "        if p == '..':\n",
    "            if len(retVal)>0:\n",
    "                retVal.pop()\n",
    "            continue\n",
    "        retVal.append(p)\n",
    "    return '/'+'/'.join(retVal)\n",
    "\n",
    "tests = [\n",
    "    (\"/home/\", \"/home\"),\n",
    "    # The trailing slash should be removed.\n",
    "    (\"/home//foo/\", \"/home/foo\"),\n",
    "    # Multiple consecutive slashes are replaced by a single one.\n",
    "    (\"/home/user/Documents/../Pictures\", \"/home/user/Pictures\"),\n",
    "    # A double period \"..\" refers to the directory up a level.\n",
    "    (\"/../\", \"/\"),\n",
    "    # Going one level up from the root directory is not possible.\n",
    "    (\"/.../a/../b/c/../d/./\", \"/.../b/d\"),\n",
    "    # \"...\" is a valid name for a directory in this problem.\n",
    "    (\"/\", \"/\"),\n",
    "]\n",
    "for t in tests:\n",
    "    retVal = simplifyPath(t[0])\n",
    "    print(t, retVal)\n",
    "    assert(retVal == t[1])"
   ]
  }
 ],
 "metadata": {
  "kernelspec": {
   "display_name": "Python 3 (ipykernel)",
   "language": "python",
   "name": "python3"
  },
  "language_info": {
   "codemirror_mode": {
    "name": "ipython",
    "version": 3
   },
   "file_extension": ".py",
   "mimetype": "text/x-python",
   "name": "python",
   "nbconvert_exporter": "python",
   "pygments_lexer": "ipython3",
   "version": "3.9.6"
  }
 },
 "nbformat": 4,
 "nbformat_minor": 5
}
