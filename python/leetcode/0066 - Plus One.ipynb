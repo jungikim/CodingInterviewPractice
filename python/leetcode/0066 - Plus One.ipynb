{
 "cells": [
  {
   "cell_type": "code",
   "execution_count": 7,
   "id": "d3ef78a9-3a8a-4ea2-94d7-f041faa511e4",
   "metadata": {},
   "outputs": [],
   "source": [
    "\"\"\"\n",
    "https://leetcode.com/problems/plus-one/\n",
    "\n",
    "You are given a large integer represented as an integer array digits, where each digits[i] is the ith digit of the integer.\n",
    "The digits are ordered from most significant to least significant in left-to-right order.\n",
    "The large integer does not contain any leading 0's.\n",
    "\n",
    "Increment the large integer by one and return the resulting array of digits.\n",
    "\n",
    "\n",
    "Constraints:\n",
    "1 <= digits.length <= 100\n",
    "0 <= digits[i] <= 9\n",
    "digits does not contain any leading 0's.\n",
    "\"\"\"\n",
    "\n",
    "def plusOne(digits):\n",
    "    _digits = list(digits)\n",
    "    n = len(_digits)\n",
    "    def _plusOne(p):\n",
    "        nonlocal _digits\n",
    "        if p == -1:\n",
    "            _digits = [1] + _digits\n",
    "            return\n",
    "        if _digits[p] < 9:\n",
    "            _digits[p] += 1\n",
    "        else:\n",
    "            _digits[p] = 0\n",
    "            _plusOne(p-1)\n",
    "\n",
    "    _plusOne(n-1)\n",
    "    return _digits\n",
    "\n",
    "tests = [\n",
    "    ([1,2,3], [1,2,4]),\n",
    "    # The array represents the integer 123. Incrementing by one gives 123 + 1 = 124. Thus, the result should be [1,2,4].\n",
    "    ([4,3,2,1], [4,3,2,2]),\n",
    "    # The array represents the integer 4321. Incrementing by one gives 4321 + 1 = 4322. Thus, the result should be [4,3,2,2].\n",
    "    ([9], [1,0]),\n",
    "    # The array represents the integer 9. Incrementing by one gives 9 + 1 = 10. Thus, the result should be [1,0].\n",
    "]\n",
    "for t in tests:\n",
    "    retVal = plusOne(t[0])\n",
    "    # print(t, retVal)\n",
    "    assert(retVal == t[1])"
   ]
  }
 ],
 "metadata": {
  "kernelspec": {
   "display_name": "Python 3 (ipykernel)",
   "language": "python",
   "name": "python3"
  },
  "language_info": {
   "codemirror_mode": {
    "name": "ipython",
    "version": 3
   },
   "file_extension": ".py",
   "mimetype": "text/x-python",
   "name": "python",
   "nbconvert_exporter": "python",
   "pygments_lexer": "ipython3",
   "version": "3.11.7"
  }
 },
 "nbformat": 4,
 "nbformat_minor": 5
}
