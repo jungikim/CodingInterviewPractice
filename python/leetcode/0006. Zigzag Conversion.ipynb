{
 "cells": [
  {
   "cell_type": "code",
   "execution_count": 9,
   "id": "0c8e00cb-4a06-47a8-9913-2d64d9dba74b",
   "metadata": {},
   "outputs": [],
   "source": [
    "\"\"\"\n",
    "https://leetcode.com/problems/zigzag-conversion/\n",
    "\n",
    "The string \"PAYPALISHIRING\" is written in a zigzag pattern on a given number of rows like this:\n",
    "(you may want to display this pattern in a fixed font for better legibility)\n",
    "\n",
    "P   A   H   N\n",
    "A P L S I I G\n",
    "Y   I   R\n",
    "And then read line by line: \"PAHNAPLSIIGYIR\"\n",
    "\n",
    "Write the code that will take a string and make this conversion given a number of rows:\n",
    "\n",
    " \n",
    "Constraints:\n",
    "\n",
    "1 <= s.length <= 1000\n",
    "s consists of English letters (lower-case and upper-case), ',' and '.'.\n",
    "1 <= numRows <= 1000\n",
    "\n",
    "\"\"\"\n",
    "\n",
    "def convert(s:str, numRows:int) -> str:\n",
    "    rows = [ [] for _ in range(numRows) ]\n",
    "    row = 0\n",
    "    dir = 1\n",
    "    for c in s:\n",
    "        rows[row].append(c)\n",
    "        row += dir\n",
    "        if dir == 1 and row == numRows:\n",
    "            dir = -1\n",
    "            row = numRows - 2\n",
    "        elif dir == -1 and row == -1:\n",
    "            dir = 1\n",
    "            row = 1\n",
    "    return ''.join([ ''.join(r) for r in rows ])\n",
    "\n",
    "tests = [\n",
    "    (\"PAYPALISHIRING\", 3, \"PAHNAPLSIIGYIR\"),\n",
    "    (\"PAYPALISHIRING\", 4, \"PINALSIGYAHRPI\"),\n",
    "# P     I    N\n",
    "# A   L S  I G\n",
    "# Y A   H R\n",
    "# P     I\n",
    "    (\"A\", 1, \"A\"),\n",
    "]\n",
    "\n",
    "for t in tests:\n",
    "    retVal = convert(t[0], t[1])\n",
    "    # print(retVal)\n",
    "    assert(retVal == t[2])\n"
   ]
  }
 ],
 "metadata": {
  "kernelspec": {
   "display_name": "Python 3 (ipykernel)",
   "language": "python",
   "name": "python3"
  },
  "language_info": {
   "codemirror_mode": {
    "name": "ipython",
    "version": 3
   },
   "file_extension": ".py",
   "mimetype": "text/x-python",
   "name": "python",
   "nbconvert_exporter": "python",
   "pygments_lexer": "ipython3",
   "version": "3.11.7"
  }
 },
 "nbformat": 4,
 "nbformat_minor": 5
}
