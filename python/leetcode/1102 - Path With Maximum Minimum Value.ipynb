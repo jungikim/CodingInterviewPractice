{
 "cells": [
  {
   "cell_type": "code",
   "execution_count": 1,
   "id": "70786deb-986a-41fb-ab3f-b1e670c57816",
   "metadata": {},
   "outputs": [
    {
     "name": "stdout",
     "output_type": "stream",
     "text": [
      "([[5, 4, 5], [1, 2, 6], [7, 4, 6]], 4) 4\n",
      "([[2, 2, 1, 2, 2, 2], [1, 2, 2, 2, 1, 2]], 2) 2\n",
      "([[3, 4, 6, 3, 4], [0, 2, 1, 1, 7], [8, 8, 3, 2, 7], [3, 2, 4, 9, 8], [4, 1, 2, 0, 0], [4, 6, 5, 4, 3]], 3) 3\n"
     ]
    }
   ],
   "source": [
    "\"\"\"\n",
    "https://leetcode.com/problems/path-with-maximum-minimum-value/\n",
    "https://leetcode.ca/2018-12-06-1102-Path-With-Maximum-Minimum-Value/\n",
    "\n",
    "Given an m x n integer matrix grid, return the maximum score of a path starting at (0, 0) and ending at (m - 1, n - 1) moving in the 4 cardinal directions.\n",
    "\n",
    "The score of a path is the minimum value in that path.\n",
    "\n",
    "For example, the score of the path 8 → 4 → 5 → 9 is 4.\n",
    "\n",
    "Constraints:\n",
    "m == grid.length\n",
    "n == grid[i].length\n",
    "1 <= m, n <= 100\n",
    "0 <= grid[i][j] <= 10^9\n",
    "\"\"\"\n",
    "\n",
    "def minScoreOfMaxPath(grid):\n",
    "    M = len(grid)\n",
    "    N = len(grid[0])\n",
    "    # if only allowed to move right, down\n",
    "    # dp = [ [float('inf')] * N for _ in range(M) ]\n",
    "    # for i in range(M):\n",
    "    #     for j in range(N):\n",
    "    #         m = max( dp[i-1][j] if i-1 >= 0 else -1,\n",
    "    #                  dp[i][j-1] if j-1 >= 0 else -1)            \n",
    "    #         dp[i][j] = min( grid[i][j], m if m > 0 else float('inf'))\n",
    "    # return dp[-1][-1]\n",
    "\n",
    "    retVal = 0 # max minpath\n",
    "    visited=set()\n",
    "    def _visit(i, j, minVal):\n",
    "        nonlocal retVal\n",
    "        if i == M-1 and j == N-1:\n",
    "            if minVal > retVal:\n",
    "                retVal = minVal\n",
    "            return\n",
    "        for di, dj in [ (+1, 0), (0, +1), (-1, 0), (0, -1) ]:\n",
    "            if not (0<=i+di<M and 0<=j+dj<N):\n",
    "                continue\n",
    "            if (i+di, j+dj) in visited:\n",
    "                continue\n",
    "            visited.add((i+di, j+dj))\n",
    "            _visit(i+di, j+dj, min(minVal, grid[i+di][j+dj]))\n",
    "            visited.remove((i+di, j+dj))\n",
    "\n",
    "    _visit(0, 0, grid[0][0])\n",
    "    return retVal\n",
    "\n",
    "tests = [\n",
    "    ([[5,4,5],\n",
    "      [1,2,6],\n",
    "      [7,4,6]], 4),\n",
    "    # The path with the maximum score: 5-4-5-6-6\n",
    "    ([[2,2,1,2,2,2],\n",
    "      [1,2,2,2,1,2]], 2),\n",
    "    ([[3,4,6,3,4],\n",
    "      [0,2,1,1,7],\n",
    "      [8,8,3,2,7],\n",
    "      [3,2,4,9,8],\n",
    "      [4,1,2,0,0],\n",
    "      [4,6,5,4,3]], 3)\n",
    "]\n",
    "\n",
    "for t in tests:\n",
    "    retVal = minScoreOfMaxPath(t[0])\n",
    "    print(t, retVal)\n",
    "    assert(retVal==t[1])"
   ]
  }
 ],
 "metadata": {
  "kernelspec": {
   "display_name": "Python 3 (ipykernel)",
   "language": "python",
   "name": "python3"
  },
  "language_info": {
   "codemirror_mode": {
    "name": "ipython",
    "version": 3
   },
   "file_extension": ".py",
   "mimetype": "text/x-python",
   "name": "python",
   "nbconvert_exporter": "python",
   "pygments_lexer": "ipython3",
   "version": "3.9.6"
  }
 },
 "nbformat": 4,
 "nbformat_minor": 5
}
