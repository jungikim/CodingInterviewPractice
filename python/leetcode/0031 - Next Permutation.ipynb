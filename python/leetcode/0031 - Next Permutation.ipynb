{
 "cells": [
  {
   "cell_type": "code",
   "execution_count": 8,
   "id": "3820a6d5-d669-4da9-8cf8-d7313ad3d296",
   "metadata": {},
   "outputs": [],
   "source": [
    "\"\"\"\n",
    "https://leetcode.com/problems/next-permutation/\n",
    "\n",
    "A permutation of an array of integers is an arrangement of its members into a sequence or linear order.\n",
    "\n",
    "For example, for arr = [1,2,3], the following are all the permutations of arr: [1,2,3], [1,3,2], [2, 1, 3], [2, 3, 1], [3,1,2], [3,2,1].\n",
    "The next permutation of an array of integers is the next lexicographically greater permutation of its integer.\n",
    "More formally, if all the permutations of the array are sorted in one container according to their lexicographical order,\n",
    "then the next permutation of that array is the permutation that follows it in the sorted container.\n",
    "If such arrangement is not possible, the array must be rearranged as the lowest possible order (i.e., sorted in ascending order).\n",
    "\n",
    "For example, the next permutation of arr = [1,2,3] is [1,3,2].\n",
    "Similarly, the next permutation of arr = [2,3,1] is [3,1,2].\n",
    "While the next permutation of arr = [3,2,1] is [1,2,3] because [3,2,1] does not have a lexicographical larger rearrangement.\n",
    "Given an array of integers nums, find the next permutation of nums.\n",
    "\n",
    "The replacement must be in place and use only constant extra memory.\n",
    "\n",
    "Constraints:\n",
    "\n",
    "1 <= nums.length <= 100\n",
    "0 <= nums[i] <= 100\n",
    "\"\"\"\n",
    "\n",
    "def nextPermutation(nums):\n",
    "    # moving from the digit in the lowest position to digits higher position, find a digit such that there is a digit in upper positions that is lower in value\n",
    "    # if all fails, then reverse the list\n",
    "    for i in range(len(nums)-1, 0, -1):\n",
    "        for j in range(i-1, -1, -1):\n",
    "            if nums[i] > nums[j]:\n",
    "                tmp = nums[j]\n",
    "                nums[j] = nums[i]\n",
    "                nums[i] = tmp\n",
    "                return nums\n",
    "    nums.reverse()\n",
    "    return nums\n",
    "\n",
    "\n",
    "tests = [\n",
    "    ([1,2,3], [1,3,2]),\n",
    "    ([3,2,1], [1,2,3]),\n",
    "    ([1,1,5], [1,5,1]),\n",
    "    ([3,5,5,7], [3,5,7,5]),\n",
    "    ([1,2,2,2], [2,2,2,1]),\n",
    "    ([2,1,2,2], [2,2,2,1]),\n",
    "]\n",
    "for t in tests:\n",
    "    retVal = nextPermutation(t[0])\n",
    "    # print(t, retVal)\n",
    "    assert(retVal == t[1])"
   ]
  }
 ],
 "metadata": {
  "kernelspec": {
   "display_name": "Python 3 (ipykernel)",
   "language": "python",
   "name": "python3"
  },
  "language_info": {
   "codemirror_mode": {
    "name": "ipython",
    "version": 3
   },
   "file_extension": ".py",
   "mimetype": "text/x-python",
   "name": "python",
   "nbconvert_exporter": "python",
   "pygments_lexer": "ipython3",
   "version": "3.11.7"
  }
 },
 "nbformat": 4,
 "nbformat_minor": 5
}
