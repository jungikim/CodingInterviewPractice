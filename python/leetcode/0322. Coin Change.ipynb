{
 "cells": [
  {
   "cell_type": "code",
   "execution_count": 6,
   "id": "ba315d6d-d51a-45f7-9541-908abe5a7eb0",
   "metadata": {},
   "outputs": [
    {
     "name": "stdout",
     "output_type": "stream",
     "text": [
      "[0, 1, 1, 2, 2, 1, 2, 2, 3, 3, 2, 3]\n",
      "([5, 2, 1], 11, 3) 3\n",
      "[0, 2147483648, 1, 2147483648]\n",
      "([2], 3, -1) -1\n",
      "([1], 0, 0) 0\n",
      "[0, 2147483648, 1, 1, 2, 1, 2, 1, 2]\n",
      "([7, 5, 3, 2], 8, 2) 2\n"
     ]
    }
   ],
   "source": [
    "\"\"\"\n",
    "https://leetcode.com/problems/coin-change/\n",
    "\n",
    "You are given an integer array coins representing coins of different denominations and \n",
    "an integer amount representing a total amount of money.\n",
    "\n",
    "Return the fewest number of coins that you need to make up that amount. \n",
    "If that amount of money cannot be made up by any combination of the coins, return -1.\n",
    "\n",
    "You may assume that you have an infinite number of each kind of coin.\n",
    "\n",
    "Constraints:\n",
    "\n",
    "1 <= coins.length <= 12\n",
    "1 <= coins[i] <= 2^31 - 1\n",
    "0 <= amount <= 10^4\n",
    "\"\"\"\n",
    "\n",
    "def minCoins(coins, amount):\n",
    "    if amount == 0:\n",
    "        return 0\n",
    "\n",
    "    # # combinations with recursion\n",
    "    # def _numCoins(remainingAmount, numCoins, minCoinNum):\n",
    "    #     if remainingAmount == 0:\n",
    "    #         if minCoinNum[0] < 0 or numCoins < minCoinNum[0]:\n",
    "    #             minCoinNum[0] = numCoins\n",
    "    #         return\n",
    "    #     for c in coins:\n",
    "    #         if c > remainingAmount:\n",
    "    #             continue\n",
    "    #         _numCoins(remainingAmount-c, numCoins+1, minCoinNum)\n",
    "    # minCoinNum = [-1]\n",
    "    # _numCoins(amount, 0, minCoinNum)\n",
    "    # print(minCoinNum[0])\n",
    "    # return minCoinNum[0]\n",
    "\n",
    "    # dynamic programming\n",
    "    # dp[i] = mininum coins at amount i\n",
    "    # use big denominations first\n",
    "    dp = [pow(2,31)]*(amount+1)\n",
    "    dp[0] = 0\n",
    "    coins.sort(reverse=True)\n",
    "    for c in coins:\n",
    "        for start in range(c,c*2):        \n",
    "            for a in range(start, amount+1, c):\n",
    "                if dp[a-c]+1 < dp[a]:\n",
    "                    dp[a] = dp[a-c]+1\n",
    "                    # print(f'{a=},{dp[a]=}')\n",
    "    if dp[-1] == pow(2,31):\n",
    "        return -1\n",
    "    return dp[-1]\n",
    "\n",
    "\n",
    "tests = [\n",
    "    ([1,2,5], 11, 3),\n",
    "    #Explanation: 11 = 5 + 5 + 1\n",
    "    ([2], 3, -1),\n",
    "    ([1], 0, 0),\n",
    "    ([2,3,5,7], 8, 2),\n",
    "]\n",
    "for t in tests:\n",
    "    retVal = minCoins(t[0], t[1])\n",
    "    print(t,retVal)\n",
    "    assert(retVal == t[2])"
   ]
  },
  {
   "cell_type": "code",
   "execution_count": null,
   "id": "ebf25753-2597-48ea-8867-e35a77cb8936",
   "metadata": {},
   "outputs": [],
   "source": []
  }
 ],
 "metadata": {
  "kernelspec": {
   "display_name": "Python 3 (ipykernel)",
   "language": "python",
   "name": "python3"
  },
  "language_info": {
   "codemirror_mode": {
    "name": "ipython",
    "version": 3
   },
   "file_extension": ".py",
   "mimetype": "text/x-python",
   "name": "python",
   "nbconvert_exporter": "python",
   "pygments_lexer": "ipython3",
   "version": "3.9.6"
  }
 },
 "nbformat": 4,
 "nbformat_minor": 5
}
