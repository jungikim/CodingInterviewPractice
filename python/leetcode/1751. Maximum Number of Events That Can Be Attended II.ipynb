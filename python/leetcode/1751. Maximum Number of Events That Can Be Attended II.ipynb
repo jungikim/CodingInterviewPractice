{
 "cells": [
  {
   "cell_type": "code",
   "execution_count": 1,
   "id": "73b1817d-982a-4d0c-9fc9-929a892aa22b",
   "metadata": {},
   "outputs": [
    {
     "name": "stdout",
     "output_type": "stream",
     "text": [
      "([[1, 2, 4], [3, 4, 3], [2, 3, 1]], 2, 7) 7\n",
      "([[1, 2, 4], [3, 4, 3], [2, 3, 10]], 2, 10) 10\n",
      "([[1, 1, 1], [2, 2, 2], [3, 3, 3], [4, 4, 4]], 3, 9) 9\n"
     ]
    }
   ],
   "source": [
    "\"\"\"\n",
    "https://leetcode.com/problems/maximum-number-of-events-that-can-be-attended-ii/\n",
    "\n",
    "\n",
    "You are given an array of events where events[i] = [startDayi, endDayi, valuei].\n",
    "The ith event starts at startDayi and ends at endDayi, and if you attend this event, you will receive a value of valuei.\n",
    "You are also given an integer k which represents the maximum number of events you can attend.\n",
    "\n",
    "You can only attend one event at a time.\n",
    "If you choose to attend an event, you must attend the entire event.\n",
    "Note that the end day is inclusive: that is, you cannot attend two events where one of them starts and the other ends on the same day.\n",
    "\n",
    "Return the maximum sum of values that you can receive by attending events. \n",
    "\n",
    "\n",
    "similar to https://leetcode.com/problems/maximum-profit-in-job-scheduling/ but with an added constraint\n",
    "\"\"\"\n",
    "\n",
    "\n",
    "def getMaxValue(events, k):\n",
    "    _events = sorted(events)\n",
    "        \n",
    "    maxValue = 0\n",
    "    stack=[]\n",
    "    stack.append(([], 0))\n",
    "    while len(stack):\n",
    "        eIds, valuesofar = stack.pop()\n",
    "        \n",
    "        if valuesofar > maxValue:\n",
    "            maxValue = valuesofar\n",
    "            \n",
    "\n",
    "        if len(eIds)==k:\n",
    "            continue\n",
    "\n",
    "        curEndDay = 0 if len(eIds)==0 else _events[eIds[-1]][1]\n",
    "        searchStartIdx = 0 if len(eIds)==0 else (eIds[-1]+1)\n",
    "        for eidx in range(searchStartIdx, len(_events)):\n",
    "            if curEndDay >= _events[eidx][0]:\n",
    "                continue\n",
    "            stack.append( (list(eIds)+[eidx], valuesofar + _events[eidx][2]) )\n",
    "\n",
    "    return maxValue\n",
    "\n",
    "\n",
    "tests = [\n",
    "([[1,2,4],[3,4,3],[2,3,1]], 2, 7),\n",
    "([[1,2,4],[3,4,3],[2,3,10]], 2, 10),\n",
    "([[1,1,1],[2,2,2],[3,3,3],[4,4,4]], 3, 9)\n",
    "]\n",
    "for t in tests:\n",
    "    retVal = getMaxValue(t[0], t[1])\n",
    "    print(t, retVal)\n",
    "    assert(retVal == t[2])"
   ]
  }
 ],
 "metadata": {
  "kernelspec": {
   "display_name": "Python 3 (ipykernel)",
   "language": "python",
   "name": "python3"
  },
  "language_info": {
   "codemirror_mode": {
    "name": "ipython",
    "version": 3
   },
   "file_extension": ".py",
   "mimetype": "text/x-python",
   "name": "python",
   "nbconvert_exporter": "python",
   "pygments_lexer": "ipython3",
   "version": "3.9.6"
  }
 },
 "nbformat": 4,
 "nbformat_minor": 5
}
