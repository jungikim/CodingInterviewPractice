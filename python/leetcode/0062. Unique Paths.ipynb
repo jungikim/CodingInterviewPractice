{
 "cells": [
  {
   "cell_type": "code",
   "execution_count": 1,
   "id": "657e24fc-eb5a-47ef-8bee-9f967ef77f60",
   "metadata": {},
   "outputs": [],
   "source": [
    "\"\"\"\n",
    "https://leetcode.com/problems/unique-paths/\n",
    "\n",
    "There is a robot on an m x n grid. The robot is initially located at the top-left corner (i.e., grid[0][0]).\n",
    "The robot tries to move to the bottom-right corner (i.e., grid[m - 1][n - 1]).\n",
    "The robot can only move either down or right at any point in time.\n",
    "\n",
    "Given the two integers m and n, return the number of possible unique paths that the robot can take to reach the bottom-right corner.\n",
    "\n",
    "The test cases are generated so that the answer will be less than or equal to 2 * 109.\n",
    "\"\"\"\n",
    "\n",
    "\"\"\"\n",
    "The answer can be calculated analytically\n",
    "\n",
    "3x7\n",
    "\n",
    "2 downs\n",
    "6 rights\n",
    "d-d-r-r-r-r-r-r\n",
    "Out of 8 places (2+6), we choose the locations of the 2 downs\n",
    "\n",
    "8C2 = 8 * 7 / (2 * 1) = 28\n",
    "\n",
    "3x2\n",
    "2 down, 1 right\n",
    "\n",
    "3C1 = 3\n",
    "\"\"\"\n",
    "def numUniquePaths(m,n):\n",
    "    total = (m-1)+(n-1)\n",
    "    choose = min(m-1,n-1)\n",
    "\n",
    "    numPaths = 1\n",
    "    for i in range(choose):\n",
    "        numPaths *= (total-i)\n",
    "    for i in range(choose):\n",
    "        numPaths /= (i+1)\n",
    "\n",
    "    return numPaths\n",
    "\n",
    "tests = [\n",
    "(3,7,28),\n",
    "(3,2,3)\n",
    "]\n",
    "for test in tests:\n",
    "    assert(numUniquePaths(test[0], test[1]) == test[2])\n"
   ]
  }
 ],
 "metadata": {
  "kernelspec": {
   "display_name": "Python 3 (ipykernel)",
   "language": "python",
   "name": "python3"
  },
  "language_info": {
   "codemirror_mode": {
    "name": "ipython",
    "version": 3
   },
   "file_extension": ".py",
   "mimetype": "text/x-python",
   "name": "python",
   "nbconvert_exporter": "python",
   "pygments_lexer": "ipython3",
   "version": "3.9.6"
  }
 },
 "nbformat": 4,
 "nbformat_minor": 5
}
