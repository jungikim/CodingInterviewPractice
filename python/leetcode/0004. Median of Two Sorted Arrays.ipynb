{
 "cells": [
  {
   "cell_type": "code",
   "execution_count": 1,
   "id": "3ab91dee-6e9a-4ebb-a89b-b1e45b6269a5",
   "metadata": {},
   "outputs": [
    {
     "name": "stdout",
     "output_type": "stream",
     "text": [
      "([1, 3], [2], 2.0) 2.0\n",
      "([1, 2], [3, 4], 2.5) 2.5\n"
     ]
    }
   ],
   "source": [
    "\"\"\"\n",
    "https://leetcode.com/problems/median-of-two-sorted-arrays/\n",
    "\n",
    "Given two sorted arrays nums1 and nums2 of size m and n respectively, return the median of the two sorted arrays.\n",
    "\n",
    "The overall run time complexity should be O(log (m+n)).\n",
    "\n",
    "Constraints:\n",
    "\n",
    "nums1.length == m\n",
    "nums2.length == n\n",
    "0 <= m <= 1000\n",
    "0 <= n <= 1000\n",
    "1 <= m + n <= 2000\n",
    "-10^6 <= nums1[i], nums2[i] <= 10^6\n",
    "\"\"\"\n",
    "\n",
    "def findMedianSortedArrays(nums1, nums2):\n",
    "    m = len(nums1)\n",
    "    n = len(nums2)\n",
    "\n",
    "    def findKth(i, j, k):\n",
    "        if i >= m:\n",
    "            return nums2[j + k - 1]\n",
    "        if j >= n:\n",
    "            return nums1[i + k - 1]\n",
    "        if k == 1:\n",
    "            return min(nums1[i], nums2[j])\n",
    "\n",
    "        midVal1 = nums1[i + k//2 - 1] if i + k//2 - 1 < m else float('inf')\n",
    "        midVal2 = nums2[j + k//2 - 1] if j + k//2 - 1 < n else float('inf')\n",
    "\n",
    "        if midVal1 < midVal2:\n",
    "            return findKth(i + k//2, j,        k - k//2) # '+' or '-' k//2\n",
    "        else:\n",
    "            return findKth(i,        j + k//2, k - k//2)\n",
    "\n",
    "    leftIdx = (m + n + 1) // 2 \n",
    "    rightIdx = (m + n + 2) // 2\n",
    "    return (findKth(0, 0, leftIdx) + findKth(0, 0, rightIdx)) / 2.0\n",
    "\n",
    "tests = [\n",
    "    ([1,3], [2], 2.00000),\n",
    "    ([1,2], [3,4], 2.50000)\n",
    "]\n",
    "for t in tests:\n",
    "    retVal = findMedianSortedArrays(t[0], t[1])\n",
    "    print(t, retVal)\n",
    "    assert(retVal - t[2] < pow(1,-5))"
   ]
  }
 ],
 "metadata": {
  "kernelspec": {
   "display_name": "Python 3 (ipykernel)",
   "language": "python",
   "name": "python3"
  },
  "language_info": {
   "codemirror_mode": {
    "name": "ipython",
    "version": 3
   },
   "file_extension": ".py",
   "mimetype": "text/x-python",
   "name": "python",
   "nbconvert_exporter": "python",
   "pygments_lexer": "ipython3",
   "version": "3.9.6"
  }
 },
 "nbformat": 4,
 "nbformat_minor": 5
}
