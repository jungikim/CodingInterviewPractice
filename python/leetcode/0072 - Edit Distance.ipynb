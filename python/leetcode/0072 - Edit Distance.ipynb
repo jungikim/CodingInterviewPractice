{
 "cells": [
  {
   "cell_type": "code",
   "execution_count": 25,
   "id": "76092633-fe45-4230-a047-9909bc285fda",
   "metadata": {},
   "outputs": [],
   "source": [
    "\"\"\"\n",
    "https://leetcode.com/problems/edit-distance/\n",
    "\n",
    "Given two strings word1 and word2, return the minimum number of operations required to convert word1 to word2.\n",
    "\n",
    "You have the following three operations permitted on a word:\n",
    "\n",
    "Insert a character\n",
    "Delete a character\n",
    "Replace a character\n",
    " \n",
    "Constraints:\n",
    "0 <= word1.length, word2.length <= 500\n",
    "word1 and word2 consist of lowercase English letters.\n",
    "\"\"\"\n",
    "\n",
    "def minDistance(word1, word2):\n",
    "    M, N = len(word1), len(word2)\n",
    "    dp = [ [0] * (N+1) for _ in range(M+1) ]\n",
    "    for i in range(M+1):\n",
    "        dp[i][0] = i\n",
    "    for j in range(N+1):\n",
    "        dp[0][j] = j\n",
    "    for i in range(1, M+1):\n",
    "        for j in range(1, N+1):\n",
    "            if word1[i-1] == word2[j-1]:\n",
    "                dp[i][j] = dp[i-1][j-1]\n",
    "            else:\n",
    "                dp[i][j] = min(dp[i-1][j], dp[i][j-1], dp[i-1][j-1]) + 1\n",
    "    # for l in dp:\n",
    "    #     print(l)\n",
    "    return dp[-1][-1]\n",
    "\n",
    "tests = [\n",
    "    (\"horse\", \"ros\", 3),\n",
    "    # horse -> rorse (replace 'h' with 'r'), rorse -> rose (remove 'r'), rose -> ros (remove 'e')\n",
    "    (\"intention\", \"execution\", 5),\n",
    "    # intention -> inention (remove 't')\n",
    "    # inention -> enention (replace 'i' with 'e')\n",
    "    # enention -> exention (replace 'n' with 'x')\n",
    "    # exention -> exection (replace 'n' with 'c')\n",
    "    # exection -> execution (insert 'u')\n",
    "    (\"zoologicoarchaeologist\", \"zoogeologist\", 10),\n",
    "]\n",
    "for t in tests:\n",
    "    retVal = minDistance(t[0], t[1])\n",
    "    # print(t, retVal)\n",
    "    assert(retVal == t[2])"
   ]
  }
 ],
 "metadata": {
  "kernelspec": {
   "display_name": "Python 3 (ipykernel)",
   "language": "python",
   "name": "python3"
  },
  "language_info": {
   "codemirror_mode": {
    "name": "ipython",
    "version": 3
   },
   "file_extension": ".py",
   "mimetype": "text/x-python",
   "name": "python",
   "nbconvert_exporter": "python",
   "pygments_lexer": "ipython3",
   "version": "3.11.7"
  }
 },
 "nbformat": 4,
 "nbformat_minor": 5
}
