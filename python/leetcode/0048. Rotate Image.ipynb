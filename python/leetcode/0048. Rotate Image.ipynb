{
 "cells": [
  {
   "cell_type": "code",
   "execution_count": 14,
   "id": "c8b72241-fb8d-4e9f-9807-1c81ca9b301d",
   "metadata": {},
   "outputs": [],
   "source": [
    "\"\"\"\n",
    "https://leetcode.com/problems/rotate-image/\n",
    "\n",
    "You are given an n x n 2D matrix representing an image, rotate the image by 90 degrees (clockwise).\n",
    "You have to rotate the image in-place, which means you have to modify the input 2D matrix directly.\n",
    "DO NOT allocate another 2D matrix and do the rotation.\n",
    "\"\"\"\n",
    "\n",
    "# in-place rotation\n",
    "#   outer loop: col1, col2 ... col N//2 - 1 (3->0, 4->1)\n",
    "#     inner loop: row1, row2, .. row (N-1-col) (3->[col0=[0,1]], 4-> [col0=[0,1,2],col1=[1]]) \n",
    "#          tmp = topleft\n",
    "#          topleft = bottomleft\n",
    "#          bottomleft = bottomright\n",
    "#          bottomright = topright\n",
    "#          topright = tmp\n",
    "def rotate(m):\n",
    "    N = len(m)\n",
    "    if N <= 1:\n",
    "        return\n",
    "    for cidx in range(N//2):\n",
    "        for ridx in range(cidx, N -1-cidx):\n",
    "            tmp = m[ridx][cidx]\n",
    "            m[ridx][cidx] = m[N-1-cidx][ridx]\n",
    "            m[N-1-cidx][ridx] = m[N-1-ridx][N-1-cidx]\n",
    "            m[N-1-ridx][N-1-cidx] =  m[cidx][N-1-ridx]\n",
    "            m[cidx][N-1-ridx] = tmp\n",
    "    return m\n",
    "tests = [\n",
    "([[ 1, 2, 3],\n",
    "  [ 4, 5, 6],\n",
    "  [ 7, 8, 9]],\n",
    " [[ 7, 4, 1],\n",
    "  [ 8, 5, 2],\n",
    "  [ 9, 6, 3]]),\n",
    "([[  5,  1,  9, 11],\n",
    "  [  2,  4,  8, 10],\n",
    "  [ 13,  3,  6,  7],\n",
    "  [ 15, 14, 12, 16]], \n",
    " [[ 15, 13,  2,  5],\n",
    "  [ 14,  3,  4,  1],\n",
    "  [ 12,  6,  8,  9],\n",
    "  [ 16,  7, 10, 11]])\n",
    "]\n",
    "for t in tests:\n",
    "    def _samevals(a1, a2):\n",
    "        # same size NxN\n",
    "        N = len(a1)\n",
    "        for i in range(N):\n",
    "            for j in range(N):\n",
    "                if a1[i][j] != a2[i][j]:\n",
    "                    return False\n",
    "        return True\n",
    "    assert(_samevals(rotate(t[0]), t[1]))"
   ]
  }
 ],
 "metadata": {
  "kernelspec": {
   "display_name": "Python 3 (ipykernel)",
   "language": "python",
   "name": "python3"
  },
  "language_info": {
   "codemirror_mode": {
    "name": "ipython",
    "version": 3
   },
   "file_extension": ".py",
   "mimetype": "text/x-python",
   "name": "python",
   "nbconvert_exporter": "python",
   "pygments_lexer": "ipython3",
   "version": "3.9.6"
  }
 },
 "nbformat": 4,
 "nbformat_minor": 5
}
