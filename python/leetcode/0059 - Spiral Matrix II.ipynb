{
 "cells": [
  {
   "cell_type": "code",
   "execution_count": 9,
   "id": "3d35448f-c914-4c62-bd4b-3320a3ec1316",
   "metadata": {},
   "outputs": [],
   "source": [
    "\"\"\"\n",
    "https://leetcode.com/problems/spiral-matrix-ii/\n",
    "\n",
    "Given a positive integer n, generate an n x n matrix filled with elements from 1 to n2 in spiral order.\n",
    "\n",
    " \n",
    "Constraints:\n",
    "\n",
    "1 <= n <= 20\n",
    "\"\"\"\n",
    "\n",
    "def generateMatrix(n):\n",
    "    retVal = [ [-1] * n for _ in range(n) ]\n",
    "    num = 1\n",
    "    i,j = 0,0\n",
    "    dir = 0\n",
    "    dirs = [ (0, +1), (+1, 0), (0, -1), (-1, 0) ]\n",
    "    while num <= n*n:\n",
    "        retVal[i][j] = num\n",
    "        num += 1\n",
    "        di, dj = dirs[dir]\n",
    "        if not (0<=i+di<n and 0<=j+dj<n and retVal[i+di][j+dj]==-1):\n",
    "            dir = (dir + 1)%4\n",
    "            di, dj = dirs[dir]\n",
    "        i += di\n",
    "        j += dj\n",
    "    return retVal            \n",
    "\n",
    "tests = [\n",
    "    (3, [[1,2,3],[8,9,4],[7,6,5]]),\n",
    "    (1, [[1]]),\n",
    "]\n",
    "for t in tests:\n",
    "    retVal = generateMatrix(t[0])\n",
    "    # print(t, retVal)\n",
    "    assert(t[1] == retVal)\n"
   ]
  },
  {
   "cell_type": "code",
   "execution_count": null,
   "id": "c4474a29-f9f0-4dad-8f13-cc9b27fcc23c",
   "metadata": {},
   "outputs": [],
   "source": []
  }
 ],
 "metadata": {
  "kernelspec": {
   "display_name": "Python 3 (ipykernel)",
   "language": "python",
   "name": "python3"
  },
  "language_info": {
   "codemirror_mode": {
    "name": "ipython",
    "version": 3
   },
   "file_extension": ".py",
   "mimetype": "text/x-python",
   "name": "python",
   "nbconvert_exporter": "python",
   "pygments_lexer": "ipython3",
   "version": "3.11.7"
  }
 },
 "nbformat": 4,
 "nbformat_minor": 5
}
