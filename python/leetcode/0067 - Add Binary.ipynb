{
 "cells": [
  {
   "cell_type": "code",
   "execution_count": 8,
   "id": "4e38c891-e22d-4708-b121-dbdee8662fe6",
   "metadata": {},
   "outputs": [],
   "source": [
    "\"\"\"\n",
    "https://leetcode.com/problems/add-binary/\n",
    "\n",
    "Given two binary strings a and b, return their sum as a binary string.\n",
    "\n",
    "\n",
    "Constraints:\n",
    "1 <= a.length, b.length <= 10^4\n",
    "a and b consist only of '0' or '1' characters.\n",
    "Each string does not contain leading zeros except for the zero itself.\n",
    "\"\"\"\n",
    "\n",
    "def addBinary(a, b):\n",
    "    retVal = \"\"\n",
    "    m, n = len(a)-1, len(b)-1\n",
    "    i, j = m, n\n",
    "    carryover=False\n",
    "    while i >= 0 or j >= 0:\n",
    "        val = 0\n",
    "        if carryover:\n",
    "            val += 1\n",
    "            carryover = False\n",
    "        if i >=0 and a[i] == \"1\":\n",
    "            val += 1\n",
    "        if j >=0 and b[j] == \"1\":\n",
    "            val += 1\n",
    "        carryover = True if val >= 2 else False\n",
    "        val = val % 2\n",
    "        retVal = str(val) + retVal\n",
    "        i-=1\n",
    "        j-=1\n",
    "    if carryover:\n",
    "        retVal = \"1\"+retVal\n",
    "    return retVal        \n",
    "\n",
    "tests = [\n",
    "    (\"11\", \"1\", \"100\"),\n",
    "    (\"1010\", \"1011\", \"10101\"),\n",
    "]\n",
    "for t in tests:\n",
    "    retVal = addBinary(t[0], t[1])\n",
    "    # print(t, retVal)\n",
    "    assert(retVal == t[2])"
   ]
  }
 ],
 "metadata": {
  "kernelspec": {
   "display_name": "Python 3 (ipykernel)",
   "language": "python",
   "name": "python3"
  },
  "language_info": {
   "codemirror_mode": {
    "name": "ipython",
    "version": 3
   },
   "file_extension": ".py",
   "mimetype": "text/x-python",
   "name": "python",
   "nbconvert_exporter": "python",
   "pygments_lexer": "ipython3",
   "version": "3.11.7"
  }
 },
 "nbformat": 4,
 "nbformat_minor": 5
}
