{
 "cells": [
  {
   "cell_type": "code",
   "execution_count": 2,
   "id": "12a83846-b6bc-40e2-8131-b76943ccf46c",
   "metadata": {},
   "outputs": [],
   "source": [
    "\"\"\"\n",
    "https://leetcode.com/problems/armstrong-number/description/\n",
    "https://leetcode.ca/2019-01-07-1134-Armstrong-Number/\n",
    "\n",
    "Given an integer n, return true if and only if it is an Armstrong number.\n",
    "\n",
    "The k-digit number n is an Armstrong number if and only if the kth power of each digit sums to n.\n",
    "\n",
    "Constraints:\n",
    "1 <= n <= 10^8\n",
    "\"\"\"\n",
    "\n",
    "def isArmstrongNum(num):\n",
    "    k = len(str(num))\n",
    "    _num = num\n",
    "    _sum = 0\n",
    "    while _num > 0:\n",
    "        lastDigit = _num % 10\n",
    "        _sum += pow(lastDigit, k)\n",
    "        _num = _num // 10\n",
    "    return num == _sum\n",
    "\n",
    "\n",
    "tests = [\n",
    "    (153, True),\n",
    "    # 153 is a 3-digit number, and 153 = 1^3 + 5^3 + 3^3\n",
    "    (123, False),\n",
    "    # 123 is a 3-digit number, and 123 != 1^3 + 2^3 + 3^3 = 36.\n",
    "]\n",
    "for t in tests:\n",
    "    assert(isArmstrongNum(t[0]) == t[1])"
   ]
  }
 ],
 "metadata": {
  "kernelspec": {
   "display_name": "Python 3 (ipykernel)",
   "language": "python",
   "name": "python3"
  },
  "language_info": {
   "codemirror_mode": {
    "name": "ipython",
    "version": 3
   },
   "file_extension": ".py",
   "mimetype": "text/x-python",
   "name": "python",
   "nbconvert_exporter": "python",
   "pygments_lexer": "ipython3",
   "version": "3.9.6"
  }
 },
 "nbformat": 4,
 "nbformat_minor": 5
}
