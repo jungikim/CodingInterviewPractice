{
 "cells": [
  {
   "cell_type": "code",
   "execution_count": 1,
   "id": "a67ff04e-efad-498b-974f-7f1d6ed4201c",
   "metadata": {},
   "outputs": [],
   "source": [
    "\"\"\"\n",
    "https://leetcode.com/problems/sqrtx/\n",
    "\n",
    "Given a non-negative integer x, return the square root of x rounded down to the nearest integer.\n",
    "The returned integer should be non-negative as well.\n",
    "\n",
    "You must not use any built-in exponent function or operator.\n",
    "\n",
    "For example, do not use pow(x, 0.5) in c++ or x ** 0.5 in python.\n",
    "\n",
    "\n",
    "Constraints:\n",
    "0 <= x <= 2^31 - 1\n",
    "\"\"\"\n",
    "\n",
    "\n",
    "def mySqrt(x):\n",
    "    # # bruteforce, linear search\n",
    "    # i = 0\n",
    "    # while i*i < x:\n",
    "    #     i+=1\n",
    "    # if i*i > x:\n",
    "    #     i-=1\n",
    "    # return i\n",
    "\n",
    "    # binary search\n",
    "    l, r = 0, x\n",
    "    while l < r:\n",
    "        m = l+(r-l+1)//2\n",
    "        m2 = m*m\n",
    "        if m2 == x:\n",
    "            return m\n",
    "        elif m2 > x:\n",
    "            r = m-1\n",
    "        else:\n",
    "            l = m\n",
    "    return l\n",
    "\n",
    "tests = [\n",
    "    (4,2),\n",
    "    (8,2),\n",
    "    (0,0),\n",
    "    (100,10),\n",
    "    (122,11),\n",
    "]\n",
    "for t in tests:\n",
    "    retVal = mySqrt(t[0])\n",
    "    # print(t, retVal)\n",
    "    assert(retVal == t[1])"
   ]
  }
 ],
 "metadata": {
  "kernelspec": {
   "display_name": "Python 3 (ipykernel)",
   "language": "python",
   "name": "python3"
  },
  "language_info": {
   "codemirror_mode": {
    "name": "ipython",
    "version": 3
   },
   "file_extension": ".py",
   "mimetype": "text/x-python",
   "name": "python",
   "nbconvert_exporter": "python",
   "pygments_lexer": "ipython3",
   "version": "3.9.6"
  }
 },
 "nbformat": 4,
 "nbformat_minor": 5
}
