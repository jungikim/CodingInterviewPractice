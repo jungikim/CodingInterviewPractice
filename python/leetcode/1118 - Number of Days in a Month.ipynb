{
 "cells": [
  {
   "cell_type": "code",
   "execution_count": 2,
   "id": "8a99deb1-c631-486a-bbfc-0ec31d6e7bd9",
   "metadata": {},
   "outputs": [],
   "source": [
    "\"\"\"\n",
    "https://leetcode.com/problems/number-of-days-in-a-month/\n",
    "https://leetcode.ca/2018-12-22-1118-Number-of-Days-in-a-Month/\n",
    "\n",
    "Given a year year and a month month, return the number of days of that month.\n",
    "\n",
    "Constraints:\n",
    "1583 <= year <= 2100\n",
    "1 <= month <= 12\n",
    "\"\"\"\n",
    "\n",
    "def getNumDays(year, month):\n",
    "    if month ==2:\n",
    "        if (year % 4 == 0 and year % 100 != 0) or \\\n",
    "           year % 400 == 0:\n",
    "            return 29\n",
    "        return 28\n",
    "\n",
    "    days={1: 31, 3: 31, 4:30, 5:31, 6:30, 7: 31, 8: 31, 9: 30, 10: 31, 11: 30, 12: 30}\n",
    "    return days[month]\n",
    "    \n",
    "\n",
    "tests = [\n",
    "    (1992,7,31),\n",
    "    (2000,2,29),\n",
    "    (1900,2,28),\n",
    "]\n",
    "for t in tests:\n",
    "    assert(getNumDays(t[0],t[1])==t[2])\n"
   ]
  }
 ],
 "metadata": {
  "kernelspec": {
   "display_name": "Python 3 (ipykernel)",
   "language": "python",
   "name": "python3"
  },
  "language_info": {
   "codemirror_mode": {
    "name": "ipython",
    "version": 3
   },
   "file_extension": ".py",
   "mimetype": "text/x-python",
   "name": "python",
   "nbconvert_exporter": "python",
   "pygments_lexer": "ipython3",
   "version": "3.9.6"
  }
 },
 "nbformat": 4,
 "nbformat_minor": 5
}
