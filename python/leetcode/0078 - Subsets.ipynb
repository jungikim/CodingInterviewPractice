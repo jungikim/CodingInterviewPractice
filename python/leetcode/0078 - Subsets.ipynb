{
 "cells": [
  {
   "cell_type": "code",
   "execution_count": 17,
   "id": "59496b07-7249-4f9b-820f-1fdfd70b434a",
   "metadata": {},
   "outputs": [],
   "source": [
    "\"\"\"\n",
    "https://leetcode.com/problems/subsets/\n",
    "\n",
    "Given an integer array nums of unique elements, return all possible \n",
    "subsets\n",
    " (the power set).\n",
    "\n",
    "The solution set must not contain duplicate subsets. Return the solution in any order.\n",
    "\n",
    "Constraints:\n",
    "1 <= nums.length <= 10\n",
    "-10 <= nums[i] <= 10\n",
    "All the numbers of nums are unique.\n",
    "\"\"\"\n",
    "\n",
    "\n",
    "def subsets(nums):\n",
    "    retVal = []\n",
    "    N = len(nums)\n",
    "    def _subsets(s, _n):\n",
    "        if _n==N:\n",
    "            retVal.append(list(s))\n",
    "            return\n",
    "        # without _n\n",
    "        _subsets(s, _n+1)\n",
    "        # with _n\n",
    "        s.append(nums[_n])\n",
    "        _subsets(s, _n+1)\n",
    "        s.pop()\n",
    "    _subsets([], 0)\n",
    "    return retVal\n",
    "\n",
    "tests = [\n",
    "    ([1,2,3], [[],[1],[2],[1,2],[3],[1,3],[2,3],[1,2,3]]),\n",
    "    ([0], [[],[0]]),\n",
    "]\n",
    "\n",
    "for t in tests:\n",
    "    retVal = subsets(t[0])\n",
    "    retVal.sort()\n",
    "    t[1].sort()\n",
    "    # print(t, retVal)\n",
    "    assert(retVal == t[1])\n",
    "\n"
   ]
  }
 ],
 "metadata": {
  "kernelspec": {
   "display_name": "Python 3 (ipykernel)",
   "language": "python",
   "name": "python3"
  },
  "language_info": {
   "codemirror_mode": {
    "name": "ipython",
    "version": 3
   },
   "file_extension": ".py",
   "mimetype": "text/x-python",
   "name": "python",
   "nbconvert_exporter": "python",
   "pygments_lexer": "ipython3",
   "version": "3.11.7"
  }
 },
 "nbformat": 4,
 "nbformat_minor": 5
}
