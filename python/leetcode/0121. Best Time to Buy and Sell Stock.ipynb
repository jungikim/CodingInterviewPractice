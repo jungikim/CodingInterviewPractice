{
 "cells": [
  {
   "cell_type": "code",
   "execution_count": 8,
   "id": "d1047804-3e83-4526-938c-6729fec67861",
   "metadata": {},
   "outputs": [],
   "source": [
    "\"\"\"\n",
    "https://leetcode.com/problems/best-time-to-buy-and-sell-stock/\n",
    "\n",
    "You are given an array prices where prices[i] is the price of a given stock on the ith day.\n",
    "\n",
    "You want to maximize your profit by choosing a single day to buy one stock and choosing a different day in the future to sell that stock.\n",
    "\n",
    "Return the maximum profit you can achieve from this transaction. If you cannot achieve any profit, return 0.\n",
    "\n",
    "\n",
    "Constraints:\n",
    "\n",
    "1 <= prices.length <= 105\n",
    "0 <= prices[i] <= 104\n",
    "\"\"\"\n",
    "\n",
    "def maxProfit(prices):\n",
    "    # # bruteforce\n",
    "    # # i < j\n",
    "    # #  find max value of prices[j] - prices[i]\n",
    "    # maxProfit = 0\n",
    "    # for i in range(len(prices)-1):\n",
    "    #     for j in range(i+1, len(prices)):\n",
    "    #         profit = prices[j] - prices[i]\n",
    "    #         if maxProfit < profit:\n",
    "    #             maxProfit = profit\n",
    "    # return maxProfit\n",
    "    \n",
    "    maxProfit = 0\n",
    "    buy = pow(2,31)-1\n",
    "    for p in prices:\n",
    "        if p < buy:\n",
    "            buy = p\n",
    "        if maxProfit < p - buy:\n",
    "            maxProfit = p - buy\n",
    "\n",
    "    return maxProfit\n",
    "\n",
    "\n",
    "tests = [\n",
    "    ([7,1,5,3,6,4], 5),\n",
    "    ([7,6,4,3,1], 0)\n",
    "]\n",
    "for t in tests:\n",
    "    assert(maxProfit(t[0]) == t[1])    "
   ]
  }
 ],
 "metadata": {
  "kernelspec": {
   "display_name": "Python 3 (ipykernel)",
   "language": "python",
   "name": "python3"
  },
  "language_info": {
   "codemirror_mode": {
    "name": "ipython",
    "version": 3
   },
   "file_extension": ".py",
   "mimetype": "text/x-python",
   "name": "python",
   "nbconvert_exporter": "python",
   "pygments_lexer": "ipython3",
   "version": "3.8.6"
  }
 },
 "nbformat": 4,
 "nbformat_minor": 5
}
