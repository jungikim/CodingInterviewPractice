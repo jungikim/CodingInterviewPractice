{
 "cells": [
  {
   "cell_type": "code",
   "execution_count": 19,
   "id": "2753bcb2-a759-491c-aa00-c325efca70b4",
   "metadata": {},
   "outputs": [
    {
     "name": "stdout",
     "output_type": "stream",
     "text": [
      "([1, 2, 0], 3) -> ([1, 2, 0], 3) ; retVal:  3\n",
      "([3, 4, -1, 1], 2) -> ([1, -1, 3, 4], 2) ; retVal:  2\n",
      "([7, 8, 9, 11, 12], 1) -> ([7, 8, 9, 11, 12], 1) ; retVal:  1\n"
     ]
    }
   ],
   "source": [
    "\"\"\"\n",
    "https://leetcode.com/problems/first-missing-positive/\n",
    "\n",
    "Given an unsorted integer array nums. Return the smallest positive integer that is not present in nums.\n",
    "\n",
    "You must implement an algorithm that runs in O(n) time and uses O(1) auxiliary space.\n",
    "\n",
    "\n",
    "Constraints:\n",
    "1 <= nums.length <= 10^5\n",
    "-2^31 <= nums[i] <= 2^31 - 1\n",
    "\"\"\"\n",
    "\n",
    "# observation\n",
    "#  - we can ignore all 0 and negative nums\n",
    "#  - O(n) time: no sorting, heap,\n",
    "#  - O(1) aux space: no hashmap\n",
    "#  - the answer should be between 1 and len(nums)+1\n",
    "#      - len(nums)+1 if the nums array have all positive numbers 1..len(nums)\n",
    "# Q:\n",
    "#  can we modify the input array? (therefore avoid space limitation?)\n",
    "\n",
    "def firstMissingPositive(nums):    \n",
    "# hashmap (violates space constraint)\n",
    "#  - put all values in hashmap\n",
    "#  - from 1 .. max int: see if in hashmap\n",
    "#\n",
    "# using the input array,\n",
    "#    - if number is between 1..n+1, move it to its correct position\n",
    "#    - iterate over 0(1)..n-1(n), if idx+1 is not its value in the array, it is the smallest missing number\n",
    "#    - return n+1\n",
    "    N=len(nums)\n",
    "    for i in range(N):\n",
    "        while 1<= nums[i] and nums[i] <= N+1 and nums[i] != nums[nums[i] - 1]:\n",
    "            # print(f'At {i=}, swap {nums[i]=} at {i} with {nums[nums[i]-1]=} at {nums[i]-1}')\n",
    "            tmp = nums[nums[i]-1]\n",
    "            nums[nums[i]-1] = nums[i]\n",
    "            nums[i] = tmp\n",
    "\n",
    "    for i in range(N):\n",
    "        if nums[i] != i+1:\n",
    "            return i+1\n",
    "    return N+1\n",
    "\n",
    "tests = [\n",
    "    ([1,2,0], 3),\n",
    "    # The numbers in the range [1,2] are all in the array.\n",
    "    ([3,4,-1,1], 2),\n",
    "    # 1 is in the array but 2 is missing.\n",
    "    ([7,8,9,11,12], 1),\n",
    "    # The smallest positive integer 1 is missing.\n",
    "]\n",
    "for t in tests:\n",
    "    print(t, end=' -> ')\n",
    "    retVal = firstMissingPositive(t[0])\n",
    "    print(t, '; retVal: ', retVal)\n",
    "    assert(retVal == t[1])\n"
   ]
  }
 ],
 "metadata": {
  "kernelspec": {
   "display_name": "Python 3 (ipykernel)",
   "language": "python",
   "name": "python3"
  },
  "language_info": {
   "codemirror_mode": {
    "name": "ipython",
    "version": 3
   },
   "file_extension": ".py",
   "mimetype": "text/x-python",
   "name": "python",
   "nbconvert_exporter": "python",
   "pygments_lexer": "ipython3",
   "version": "3.11.7"
  }
 },
 "nbformat": 4,
 "nbformat_minor": 5
}
