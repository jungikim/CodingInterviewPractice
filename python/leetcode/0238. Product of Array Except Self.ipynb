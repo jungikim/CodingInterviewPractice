{
 "cells": [
  {
   "cell_type": "code",
   "execution_count": 7,
   "id": "f3cb2a8b-a258-4867-84f6-012f4c2a82b3",
   "metadata": {},
   "outputs": [
    {
     "name": "stdout",
     "output_type": "stream",
     "text": [
      "([1, 2, 3, 4], [24, 12, 8, 6]) [24, 12, 8, 6]\n",
      "([-1, 1, 0, -3, 3], [0, 0, 9, 0, 0]) [0, 0, 9, 0, 0]\n"
     ]
    }
   ],
   "source": [
    "\"\"\"\n",
    "https://leetcode.com/problems/product-of-array-except-self/\n",
    "\n",
    "Given an integer array nums, \n",
    "return an array answer such that answer[i] is equal to the product of all the elements of nums except nums[i].\n",
    "\n",
    "The product of any prefix or suffix of nums is guaranteed to fit in a 32-bit integer.\n",
    "\n",
    "You must write an algorithm that runs in O(n) time and without using the division operation.\n",
    "\n",
    "\n",
    "Constraints:\n",
    "2 <= nums.length <= 105\n",
    "-30 <= nums[i] <= 30\n",
    "The product of any prefix or suffix of nums is guaranteed to fit in a 32-bit integer.\n",
    " \n",
    "Follow up: Can you solve the problem in O(1) extra space complexity? \n",
    "(The output array does not count as extra space for space complexity analysis.)\n",
    "\"\"\"\n",
    "\n",
    "# this also was from another problem set I solved a few days ago,,,\n",
    "\n",
    "def productExceptSelf(arr):\n",
    "    # bruteforce is O(n^2)\n",
    "\n",
    "    # O(n) is needed, no division (wouldn't work anyway due to 0)\n",
    "    # dynamic programming\n",
    "    #   retVal(i) = arr[0] * arr[1] .. * arr[i-1]  *\n",
    "    #                  arr[i+1] * arr[i+2] * ... * arr[n-1]\n",
    "\n",
    "    fwdP = [0 for _ in range(len(arr))] # at i, multiply 0 .. i\n",
    "    bwdP = [0 for _ in range(len(arr))] # at i, multiply i .. n-1\n",
    "    # retVal(i) = fwdP[i-1] * bwdP[i+1]\n",
    "\n",
    "    p = 1\n",
    "    for i in range(len(arr)):\n",
    "        p *= arr[i]\n",
    "        fwdP[i] = p\n",
    "    p = 1\n",
    "    for i in range(len(arr)-1, -1, -1):\n",
    "        p *= arr[i]\n",
    "        bwdP[i] = p\n",
    "\n",
    "    retVal = []\n",
    "    for i in range(len(arr)):\n",
    "        val = 1\n",
    "        if i > 0:\n",
    "            val *= fwdP[i-1]\n",
    "        if i < len(arr) - 1:\n",
    "            val *= bwdP[i+1]\n",
    "        retVal.append(val)\n",
    "\n",
    "    return retVal\n",
    "\n",
    "\n",
    "\n",
    "tests = [\n",
    "    ([1,2,3,4], [24,12,8,6]),\n",
    "    ([-1,1,0,-3,3], [0,0,9,0,0])\n",
    "]\n",
    "for t in tests:\n",
    "    retVal = productExceptSelf(t[0])\n",
    "    print(t, retVal)\n",
    "    assert(retVal == t[1])"
   ]
  }
 ],
 "metadata": {
  "kernelspec": {
   "display_name": "Python 3 (ipykernel)",
   "language": "python",
   "name": "python3"
  },
  "language_info": {
   "codemirror_mode": {
    "name": "ipython",
    "version": 3
   },
   "file_extension": ".py",
   "mimetype": "text/x-python",
   "name": "python",
   "nbconvert_exporter": "python",
   "pygments_lexer": "ipython3",
   "version": "3.9.6"
  }
 },
 "nbformat": 4,
 "nbformat_minor": 5
}
