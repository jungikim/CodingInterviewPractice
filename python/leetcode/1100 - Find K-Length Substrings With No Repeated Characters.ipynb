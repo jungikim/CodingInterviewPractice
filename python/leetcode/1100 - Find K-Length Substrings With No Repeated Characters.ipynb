{
 "cells": [
  {
   "cell_type": "code",
   "execution_count": 4,
   "id": "00589803-b6d4-4a63-bd8c-9586d8254df2",
   "metadata": {},
   "outputs": [],
   "source": [
    "\"\"\"\n",
    "https://leetcode.com/problems/find-k-length-substrings-with-no-repeated-characters/\n",
    "https://leetcode.ca/2018-12-04-1100-Find-K-Length-Substrings-With-No-Repeated-Characters/\n",
    "\n",
    "Given a string s and an integer k, return the number of substrings in s of length k with no repeated characters.\n",
    "\n",
    "\n",
    "Constraints:\n",
    "1 <= s.length <= 10^4\n",
    "s consists of lowercase English letters.\n",
    "1 <= k <= 10^4\n",
    "\"\"\"\n",
    "\n",
    "from collections import defaultdict\n",
    "def findKLenSubstrNoRepeatedChars(s, k):\n",
    "    if len(s) < k:\n",
    "        return 0\n",
    "\n",
    "    counter=defaultdict(int)\n",
    "    retVal=0\n",
    "    i=0\n",
    "    for j,c in enumerate(s):\n",
    "        counter[c]+=1\n",
    "        while counter[c] > 1 or j-i+1 > k:\n",
    "            counter[s[i]] -= 1\n",
    "            i += 1\n",
    "        if j-i+1==k:\n",
    "            retVal += 1\n",
    "    \n",
    "    return retVal\n",
    "\n",
    "tests = [\n",
    "    (\"havefunonleetcode\", 5, 6),\n",
    "    # There are 6 substrings they are: 'havef','avefu','vefun','efuno','etcod','tcode'\n",
    "    (\"home\", 5, 0),\n",
    "    # Notice k can be larger than the length of s. In this case, it is not possible to find any substring    \n",
    "]\n",
    "\n",
    "for t in tests:\n",
    "    assert(findKLenSubstrNoRepeatedChars(t[0], t[1]) == t[2])\n"
   ]
  }
 ],
 "metadata": {
  "kernelspec": {
   "display_name": "Python 3 (ipykernel)",
   "language": "python",
   "name": "python3"
  },
  "language_info": {
   "codemirror_mode": {
    "name": "ipython",
    "version": 3
   },
   "file_extension": ".py",
   "mimetype": "text/x-python",
   "name": "python",
   "nbconvert_exporter": "python",
   "pygments_lexer": "ipython3",
   "version": "3.9.6"
  }
 },
 "nbformat": 4,
 "nbformat_minor": 5
}
