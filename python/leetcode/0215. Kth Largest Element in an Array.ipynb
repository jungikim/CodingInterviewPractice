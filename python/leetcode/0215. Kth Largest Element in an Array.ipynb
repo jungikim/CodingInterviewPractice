{
 "cells": [
  {
   "cell_type": "code",
   "execution_count": 1,
   "id": "d8d0d175-9833-4e63-996f-be379654babe",
   "metadata": {},
   "outputs": [
    {
     "name": "stdout",
     "output_type": "stream",
     "text": [
      "([3, 2, 1, 5, 6, 4], 2, 5) 5\n",
      "([3, 2, 3, 1, 2, 4, 5, 5, 6], 4, 4) 4\n",
      "([3], 4, None) None\n"
     ]
    }
   ],
   "source": [
    "\"\"\"\n",
    "https://leetcode.com/problems/kth-largest-element-in-an-array/\n",
    "\n",
    "Given an integer array nums and an integer k, return the kth largest element in the array.\n",
    "\n",
    "Note that it is the kth largest element in the sorted order, not the kth distinct element.\n",
    "\n",
    "Can you solve it without sorting?\n",
    "\n",
    "\n",
    "Constraints:\n",
    "1 <= k <= nums.length <= 10^5\n",
    "-10^4 <= nums[i] <= 10^4\n",
    "\n",
    "Q. \n",
    "Define \"sorting\"\n",
    "    full sort?\n",
    "    min/max heap?\n",
    "\n",
    "\n",
    "push numbers to maxheap, pop k numbers, return the last popped number\n",
    "\n",
    "\"\"\"\n",
    "\n",
    "from typing import List\n",
    "import heapq\n",
    "\n",
    "def kthLargest(arr: List[int], k: int) -> int:\n",
    "    # # brute force, sort (O(n^2) then return kth largest (N-k)\n",
    "    # return sorted(arr)[len(arr)-k]\n",
    "\n",
    "    if len(arr)<k:\n",
    "        return None\n",
    "\n",
    "    # use maxheap, nlogn\n",
    "    maxheap = []\n",
    "    # we store negated values, since heapq is minheap\n",
    "    for n in arr:\n",
    "        heapq.heappush(maxheap, -n)\n",
    "    # remove k-1 items from the top\n",
    "    for _ in range(k-1):\n",
    "        heapq.heappop(maxheap)\n",
    "    return -heapq.heappop(maxheap)\n",
    "\n",
    "\n",
    "tests = [\n",
    "    ([3,2,1,5,6,4], 2, 5), \n",
    "    ([3,2,3,1,2,4,5,5,6], 4, 4),\n",
    "    ([3], 4, None)\n",
    "]\n",
    "for t in tests:\n",
    "    retVal = kthLargest(t[0], t[1])\n",
    "    print(t, retVal)\n",
    "    assert(retVal == t[2])"
   ]
  }
 ],
 "metadata": {
  "kernelspec": {
   "display_name": "Python 3 (ipykernel)",
   "language": "python",
   "name": "python3"
  },
  "language_info": {
   "codemirror_mode": {
    "name": "ipython",
    "version": 3
   },
   "file_extension": ".py",
   "mimetype": "text/x-python",
   "name": "python",
   "nbconvert_exporter": "python",
   "pygments_lexer": "ipython3",
   "version": "3.9.6"
  }
 },
 "nbformat": 4,
 "nbformat_minor": 5
}
