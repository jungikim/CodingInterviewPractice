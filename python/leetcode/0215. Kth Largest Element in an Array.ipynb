{
 "cells": [
  {
   "cell_type": "code",
   "execution_count": 3,
   "id": "d8d0d175-9833-4e63-996f-be379654babe",
   "metadata": {},
   "outputs": [],
   "source": [
    "\"\"\"\n",
    "https://leetcode.com/problems/kth-largest-element-in-an-array/\n",
    "\n",
    "Given an integer array nums and an integer k, return the kth largest element in the array.\n",
    "\n",
    "Note that it is the kth largest element in the sorted order, not the kth distinct element.\n",
    "\n",
    "Can you solve it without sorting?\n",
    "\n",
    "\n",
    "Constraints:\n",
    "1 <= k <= nums.length <= 105\n",
    "-104 <= nums[i] <= 104\n",
    "\"\"\"\n",
    "\n",
    "def kthLargest(arr, k):\n",
    "    # # brute force, sort (O(n^2) then return kth largest (N-k)\n",
    "    # return sorted(arr)[len(arr)-k]\n",
    "\n",
    "    # use maxheap, nlogn\n",
    "    import heapq\n",
    "    maxheap = []\n",
    "    # we store negated values, since heapq is minheap\n",
    "    for n in arr:\n",
    "        heapq.heappush(arr, -n)\n",
    "    # remove k-1 items from the top\n",
    "    for _ in range(k-1):\n",
    "        heapq.heappop(arr)\n",
    "    return -heapq.heappop(arr)\n",
    "\n",
    "\n",
    "tests = [\n",
    "    ([3,2,1,5,6,4], 2, 5), \n",
    "    ([3,2,3,1,2,4,5,5,6], 4, 4)\n",
    "]\n",
    "for t in tests:\n",
    "    assert(kthLargest(t[0], t[1]) == t[2])"
   ]
  }
 ],
 "metadata": {
  "kernelspec": {
   "display_name": "Python 3 (ipykernel)",
   "language": "python",
   "name": "python3"
  },
  "language_info": {
   "codemirror_mode": {
    "name": "ipython",
    "version": 3
   },
   "file_extension": ".py",
   "mimetype": "text/x-python",
   "name": "python",
   "nbconvert_exporter": "python",
   "pygments_lexer": "ipython3",
   "version": "3.8.6"
  }
 },
 "nbformat": 4,
 "nbformat_minor": 5
}
