{
 "cells": [
  {
   "cell_type": "code",
   "execution_count": 8,
   "id": "21f54612-d1ec-41d8-a581-bdaa792a8288",
   "metadata": {},
   "outputs": [],
   "source": [
    "\"\"\"\n",
    "https://leetcode.com/problems/letter-combinations-of-a-phone-number/\n",
    "\n",
    "Given a string containing digits from 2-9 inclusive, return all possible letter combinations that the number could represent. Return the answer in any order.\n",
    "\n",
    "A mapping of digits to letters (just like on the telephone buttons) is given below. Note that 1 does not map to any letters.\n",
    "\n",
    "Constraints:\n",
    "\n",
    "0 <= digits.length <= 4\n",
    "digits[i] is a digit in the range ['2', '9'].\n",
    "\"\"\"\n",
    "\n",
    "def letterComb(digits):\n",
    "    if len(digits)==0:\n",
    "        return []\n",
    "    map = {\n",
    "        '2': ['a', 'b', 'c'],\n",
    "        '3': ['d', 'e', 'f'],\n",
    "        '4': ['g', 'h', 'i'],\n",
    "        '5': ['j', 'k', 'l'],\n",
    "        '6': ['m', 'n', 'o'],\n",
    "        '7': ['p', 'q', 'r', 's'],\n",
    "        '8': ['t', 'u', 'v'],\n",
    "        '9': ['w', 'x', 'y', 'z'],\n",
    "    }\n",
    "\n",
    "    def _gen(s, map, l):\n",
    "        return [s+l for l in map[l]] \n",
    "\n",
    "    idx = 0\n",
    "    q = []\n",
    "    q.extend(_gen('', map, digits[idx]))\n",
    "    idx += 1\n",
    "    while idx < len(digits):\n",
    "        nextQ = []\n",
    "        while len(q):\n",
    "            cur = q.pop()\n",
    "            nextQ.extend(_gen(cur, map, digits[idx]))\n",
    "        idx+=1\n",
    "        q = nextQ\n",
    "    q.sort()\n",
    "    return q\n",
    "    \n",
    "\n",
    "tests = [\n",
    "    (\"23\", [\"ad\",\"ae\",\"af\",\"bd\",\"be\",\"bf\",\"cd\",\"ce\",\"cf\"]),\n",
    "    (\"\", []),\n",
    "    (\"2\", [\"a\",\"b\",\"c\"])\n",
    "]\n",
    "for t in tests:\n",
    "    assert(sorted(letterComb(t[0])) == sorted(t[1]))"
   ]
  }
 ],
 "metadata": {
  "kernelspec": {
   "display_name": "Python 3 (ipykernel)",
   "language": "python",
   "name": "python3"
  },
  "language_info": {
   "codemirror_mode": {
    "name": "ipython",
    "version": 3
   },
   "file_extension": ".py",
   "mimetype": "text/x-python",
   "name": "python",
   "nbconvert_exporter": "python",
   "pygments_lexer": "ipython3",
   "version": "3.8.6"
  }
 },
 "nbformat": 4,
 "nbformat_minor": 5
}
