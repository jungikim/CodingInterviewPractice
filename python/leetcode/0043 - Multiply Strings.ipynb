{
 "cells": [
  {
   "cell_type": "code",
   "execution_count": 29,
   "id": "cf1f9110-cf84-4071-aa10-57208b012f6e",
   "metadata": {},
   "outputs": [],
   "source": [
    "\"\"\"\n",
    "https://leetcode.com/problems/multiply-strings/\n",
    "\n",
    "Given two non-negative integers num1 and num2 represented as strings, return the product of num1 and num2, also represented as a string.\n",
    "\n",
    "Note: You must not use any built-in BigInteger library or convert the inputs to integer directly.\n",
    "\n",
    "Constraints:\n",
    "1 <= num1.length, num2.length <= 200\n",
    "num1 and num2 consist of digits only.\n",
    "Both num1 and num2 do not contain any leading zero, except the number 0 itself.\n",
    "\"\"\"\n",
    "def multiply(num1:str, num2:str)->str:    \n",
    "    l1 = len(num1)\n",
    "    l2 = len(num2)\n",
    "    retVal = [0] * (l1+l2)\n",
    "    l3 = len(retVal)\n",
    "    # 999 (3) * 9999 (4) -> 9,989,001 (7)\n",
    "\n",
    "    atoi={\"0\":0, \"1\":1, \"2\":2, \"3\":3, \"4\":4, \"5\":5, \"6\":6, \"7\":7, \"8\":8, \"9\":9}\n",
    "    for i in range(l1):\n",
    "        d1 = num1[i]\n",
    "        for j in range(l2):\n",
    "            d2 = num2[j]\n",
    "            multiplier = (l1-i-1)+(l2-j-1)\n",
    "            toAdd = atoi[d1] * atoi[d2]\n",
    "            retVal[l3-multiplier-1] += toAdd\n",
    "    for k in range(l3-1,0,-1):\n",
    "        if retVal[k]>9:\n",
    "            retVal[k-1] += retVal[k]//10\n",
    "            retVal[k] = retVal[k]%10\n",
    "    \n",
    "    while retVal[0] == 0:\n",
    "        retVal = retVal[1:]\n",
    "    return ''.join([str(i) for i in retVal])\n",
    "\n",
    "tests = [\n",
    "    (\"2\", \"3\", \"6\"),\n",
    "    (\"123\", \"456\", \"56088\"),\n",
    "]\n",
    "for t in tests:\n",
    "    retVal=multiply(t[0],t[1])\n",
    "    # print(t, retVal)\n",
    "    assert(t[2]==retVal)"
   ]
  }
 ],
 "metadata": {
  "kernelspec": {
   "display_name": "Python 3 (ipykernel)",
   "language": "python",
   "name": "python3"
  },
  "language_info": {
   "codemirror_mode": {
    "name": "ipython",
    "version": 3
   },
   "file_extension": ".py",
   "mimetype": "text/x-python",
   "name": "python",
   "nbconvert_exporter": "python",
   "pygments_lexer": "ipython3",
   "version": "3.9.6"
  }
 },
 "nbformat": 4,
 "nbformat_minor": 5
}
