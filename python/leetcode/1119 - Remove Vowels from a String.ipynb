{
 "cells": [
  {
   "cell_type": "code",
   "execution_count": 1,
   "id": "c3a7755a-48be-401d-97a1-c0f2d7f46d98",
   "metadata": {},
   "outputs": [],
   "source": [
    "\"\"\"\n",
    "https://leetcode.com/problems/remove-vowels-from-a-string/\n",
    "https://leetcode.ca/2018-12-23-1119-Remove-Vowels-from-a-String/\n",
    "\n",
    "Given a string s, remove the vowels 'a', 'e', 'i', 'o', and 'u' from it, and return the new string.\n",
    "\n",
    "\n",
    "Constraints:\n",
    "1 <= s.length <= 1000\n",
    "s consists of only lowercase English letters.\n",
    "\"\"\"\n",
    "\n",
    "def removeVowels(s):\n",
    "    retVal=[]\n",
    "    for c in s:\n",
    "        if c == 'a' or c == 'e' or c == 'i' or c == 'o' or c == 'u':\n",
    "            continue\n",
    "        retVal.append(c)\n",
    "    return ''.join(retVal)\n",
    "\n",
    "\n",
    "tests = [\n",
    "    (\"leetcodeisacommunityforcoders\", \"ltcdscmmntyfrcdrs\"),\n",
    "    (\"aeiou\", \"\"),\n",
    "]\n",
    "for t in tests:\n",
    "    assert(removeVowels(t[0])==t[1])\n"
   ]
  }
 ],
 "metadata": {
  "kernelspec": {
   "display_name": "Python 3 (ipykernel)",
   "language": "python",
   "name": "python3"
  },
  "language_info": {
   "codemirror_mode": {
    "name": "ipython",
    "version": 3
   },
   "file_extension": ".py",
   "mimetype": "text/x-python",
   "name": "python",
   "nbconvert_exporter": "python",
   "pygments_lexer": "ipython3",
   "version": "3.9.6"
  }
 },
 "nbformat": 4,
 "nbformat_minor": 5
}
