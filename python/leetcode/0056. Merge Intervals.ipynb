{
 "cells": [
  {
   "cell_type": "code",
   "execution_count": 5,
   "id": "d99ac365-0d5f-4e68-86ce-5c40470f6565",
   "metadata": {},
   "outputs": [
    {
     "name": "stdout",
     "output_type": "stream",
     "text": [
      "[[1, 3], [2, 6], [8, 10], [15, 18]]\n",
      "[[1, 4], [4, 5]]\n",
      "[[1, 2], [1, 3], [2, 6], [15, 18]]\n"
     ]
    }
   ],
   "source": [
    "\"\"\"\n",
    "https://leetcode.com/problems/merge-intervals/\n",
    "\n",
    "Given an array of intervals where intervals[i] = [start_i, end_i],\n",
    "merge all overlapping intervals, and\n",
    "return an array of the non-overlapping intervals that cover all the intervals in the input.\n",
    "\n",
    "Constraints:\n",
    "1 <= intervals.length <= 104\n",
    "intervals[i].length == 2\n",
    "0 <= start_i <= end_i <= 10^4\n",
    "\"\"\"\n",
    "\n",
    "# we first sort the intervals first by the start time and then by the end time\n",
    "# the first one is always added as is\n",
    "# we compare the second one to add, and adjust the end time of the last added interval if needed\n",
    "#\n",
    "# merge cases:\n",
    "# (1,3)\n",
    "#   (2,6)\n",
    "# (1,5)\n",
    "#  (2,3)\n",
    "#\n",
    "# We merge when the start time of the second interval is between the start and the end time of the previous interval.\n",
    "# The new end time is max(prev end time, next end time).\n",
    "\n",
    "def mergeIntervals(intervals):\n",
    "    _intervals = sorted(intervals)\n",
    "    print(_intervals)\n",
    "    retVal = []\n",
    "    for i in _intervals:\n",
    "        if len(retVal) > 0 and  retVal[-1][0] <= i[0] and i[0] <= retVal[-1][1]:\n",
    "            retVal[-1][1] = max(retVal[-1][1], i[1])\n",
    "            continue\n",
    "        retVal.append(i)\n",
    "    return retVal\n",
    "\n",
    "tests = [\n",
    "    ([[1,3],[2,6],[8,10],[15,18]], [[1,6],[8,10],[15,18]]),\n",
    "    ([[1,4],[4,5]], [[1,5]]),\n",
    "    ([[1,3],[2,6],[1,2],[15,18]], [[1,6],[15,18]]),\n",
    "]\n",
    "for t in tests:\n",
    "    assert(mergeIntervals(t[0]) == t[1])"
   ]
  }
 ],
 "metadata": {
  "kernelspec": {
   "display_name": "Python 3 (ipykernel)",
   "language": "python",
   "name": "python3"
  },
  "language_info": {
   "codemirror_mode": {
    "name": "ipython",
    "version": 3
   },
   "file_extension": ".py",
   "mimetype": "text/x-python",
   "name": "python",
   "nbconvert_exporter": "python",
   "pygments_lexer": "ipython3",
   "version": "3.9.6"
  }
 },
 "nbformat": 4,
 "nbformat_minor": 5
}
