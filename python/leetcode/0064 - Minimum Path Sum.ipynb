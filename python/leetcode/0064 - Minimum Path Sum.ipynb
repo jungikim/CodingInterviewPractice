{
 "cells": [
  {
   "cell_type": "code",
   "execution_count": 1,
   "id": "a0825bf8-a834-4e4a-9813-a9331ea4229e",
   "metadata": {},
   "outputs": [],
   "source": [
    "\"\"\"\n",
    "https://leetcode.com/problems/minimum-path-sum/\n",
    "\n",
    "Given a m x n grid filled with non-negative numbers,\n",
    "find a path from top left to bottom right,\n",
    "which minimizes the sum of all numbers along its path.\n",
    "\n",
    "Note: You can only move either down or right at any point in time.\n",
    "\n",
    "Constraints:\n",
    "m == grid.length\n",
    "n == grid[i].length\n",
    "1 <= m, n <= 200\n",
    "0 <= grid[i][j] <= 200\n",
    "\"\"\"\n",
    "\n",
    "def minPathSum(grid):\n",
    "    # dynamic programming?\n",
    "    m, n = len(grid), len(grid[0])\n",
    "    dp = [ [-1] * n for _ in range(m) ]\n",
    "    # dp[i][j] = min(dp[i-1][j], dp[i][j-1]) + grid[i][j]\n",
    "    for i in range(m):\n",
    "        for j in range(n):\n",
    "            min = 201\n",
    "            if 0<=i-1<m and dp[i-1][j] < min:\n",
    "                min = dp[i-1][j]\n",
    "            if 0<=j-1<n and dp[i][j-1] < min:\n",
    "                min = dp[i][j-1]\n",
    "            if min == 201:\n",
    "                min = 0\n",
    "            dp[i][j] = min + grid[i][j]\n",
    "    return dp[-1][-1]\n",
    "\n",
    "tests = [\n",
    "    ([[1,3,1],\n",
    "      [1,5,1],\n",
    "      [4,2,1]], 7),\n",
    "    # the path 1 → 3 → 1 → 1 → 1 minimizes the sum\n",
    "    ([[1,2,3],\n",
    "      [4,5,6]], 12),\n",
    "]\n",
    "for t in tests:\n",
    "    retVal=minPathSum(t[0])\n",
    "    # print(t, retVal)\n",
    "    assert(retVal == t[1])\n"
   ]
  }
 ],
 "metadata": {
  "kernelspec": {
   "display_name": "Python 3 (ipykernel)",
   "language": "python",
   "name": "python3"
  },
  "language_info": {
   "codemirror_mode": {
    "name": "ipython",
    "version": 3
   },
   "file_extension": ".py",
   "mimetype": "text/x-python",
   "name": "python",
   "nbconvert_exporter": "python",
   "pygments_lexer": "ipython3",
   "version": "3.9.6"
  }
 },
 "nbformat": 4,
 "nbformat_minor": 5
}
