{
 "cells": [
  {
   "cell_type": "code",
   "execution_count": 11,
   "id": "554511d3-45dd-447f-8216-8d349eeaead6",
   "metadata": {},
   "outputs": [
    {
     "name": "stdout",
     "output_type": "stream",
     "text": [
      "[3, 3, 5, 5, 6, 7]\n",
      "[1]\n"
     ]
    }
   ],
   "source": [
    "\"\"\"\n",
    "https://leetcode.com/problems/sliding-window-maximum/\n",
    "\n",
    "\n",
    "You are given an array of integers nums, \n",
    "there is a sliding window of size k which is moving from the very left of the array to the very right. \n",
    "\n",
    "You can only see the k numbers in the window. \n",
    "\n",
    "Each time the sliding window moves right by one position.\n",
    "\n",
    "Return the max sliding window.\n",
    "\n",
    " \n",
    "Constraints:\n",
    "\n",
    "1 <= nums.length <= 10^5\n",
    "-10^4 <= nums[i] <= 10^4\n",
    "1 <= k <= nums.length\n",
    "\"\"\"\n",
    "\n",
    "def slidingWinMax(nums, k):\n",
    "    retVal = []\n",
    "    # # brutefoce case n*k\n",
    "    # for i in range(len(nums)-k+1):\n",
    "    #     retVal.append(max(nums[i:i+k]))\n",
    "\n",
    "    # O(n)\n",
    "    # keep a separate ds for storing maximum in the window\n",
    "    #  remove non-max nums\n",
    "    #  remove when item out of window\n",
    "    #  deque with popleft, append\n",
    "    #  add (val, index)\n",
    "    from collections import deque\n",
    "    win=deque()\n",
    "\n",
    "    def _addToQ(win, idx, val):\n",
    "        while len(win) > 0 and win[-1][0] <= val:\n",
    "            win.pop()\n",
    "        win.append((val, idx))\n",
    "\n",
    "    def _maintainWindow(win, minIdx):\n",
    "        while len(win)>0 and win[0][1] < minIdx:\n",
    "            win.popleft()\n",
    "\n",
    "    def _getMax(win):\n",
    "        return win[0][0]\n",
    "\n",
    "    for i in range(k-1):\n",
    "        _addToQ(win, i, nums[i])\n",
    "        \n",
    "    for i in range(k-1, len(nums)):\n",
    "        _addToQ(win, i, nums[i])\n",
    "        _maintainWindow(win, i-k+1)\n",
    "        retVal.append(_getMax(win))\n",
    "\n",
    "    print(retVal)\n",
    "    return retVal\n",
    "\n",
    "tests = [\n",
    "([1,3,-1,-3,5,3,6,7], 3, [3,3,5,5,6,7]),\n",
    "# Window position                Max\n",
    "# ---------------               -----\n",
    "# [1  3  -1] -3  5  3  6  7       3\n",
    "#  1 [3  -1  -3] 5  3  6  7       3\n",
    "#  1  3 [-1  -3  5] 3  6  7       5\n",
    "#  1  3  -1 [-3  5  3] 6  7       5\n",
    "#  1  3  -1  -3 [5  3  6] 7       6\n",
    "#  1  3  -1  -3  5 [3  6  7]      7\n",
    "([1], 1, [1])\n",
    "]\n",
    "for t in tests:\n",
    "    assert(slidingWinMax(t[0], t[1]) == t[2])\n"
   ]
  }
 ],
 "metadata": {
  "kernelspec": {
   "display_name": "Python 3 (ipykernel)",
   "language": "python",
   "name": "python3"
  },
  "language_info": {
   "codemirror_mode": {
    "name": "ipython",
    "version": 3
   },
   "file_extension": ".py",
   "mimetype": "text/x-python",
   "name": "python",
   "nbconvert_exporter": "python",
   "pygments_lexer": "ipython3",
   "version": "3.8.6"
  }
 },
 "nbformat": 4,
 "nbformat_minor": 5
}
