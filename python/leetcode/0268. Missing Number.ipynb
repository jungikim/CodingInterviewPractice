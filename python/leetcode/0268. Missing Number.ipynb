{
 "cells": [
  {
   "cell_type": "code",
   "execution_count": 1,
   "id": "e82fec6d-cad1-4e61-9c91-aab2961cb34a",
   "metadata": {},
   "outputs": [],
   "source": [
    "\"\"\"\n",
    "https://leetcode.com/problems/missing-number/\n",
    "\n",
    "Given an array nums containing n distinct numbers in the range [0, n], return the only number in the range that is missing from the array.\n",
    "\n",
    "Constraints:\n",
    "\n",
    "n == nums.length\n",
    "1 <= n <= 104\n",
    "0 <= nums[i] <= n\n",
    "All the numbers of nums are unique.\n",
    " \n",
    "\n",
    "Follow up: Could you implement a solution using only O(1) extra space complexity and O(n) runtime complexity?\n",
    "\"\"\"\n",
    "\n",
    "def missingNum(arr):\n",
    "    # idea 1. sort array O(nlogn or n^2) + linear search O(n)\n",
    "    # idea 2. n are all positive;\n",
    "    #          sum should be    (min + max) * N/2\n",
    "    #            0 1 2 3 4 5 6 7 8 9 =  = (3 + 9) * 7/2\n",
    "    #            4 5 6 7       =  = (4 + 7) * 4/2\n",
    "    #          and missing number is expected_sum (1..N+1) - actual_sum(1..N)\n",
    "\n",
    "    N = len(arr)\n",
    "    actualSum = sum(arr)\n",
    "    expectedSum = (1+N)*N/2\n",
    "    return expectedSum - actualSum\n",
    "    \n",
    "    # idea 3: since there can be only up to 0..104 (105) numbers,\n",
    "    #            create a bool array of numbers for 0 .. 104,\n",
    "    #            set the cell to true if found, find min, max\n",
    "    #            from min to max, if arry is false then it is the missing number\n",
    "\n",
    "\n",
    "\n",
    "tests = [\n",
    "    ([3,0,1], 2),\n",
    "    ([0,1], 2),\n",
    "    ([9,6,4,2,3,5,7,0,1], 8)\n",
    "]\n",
    "for t in tests:\n",
    "    assert(missingNum(t[0]) == t[1])\n"
   ]
  }
 ],
 "metadata": {
  "kernelspec": {
   "display_name": "Python 3 (ipykernel)",
   "language": "python",
   "name": "python3"
  },
  "language_info": {
   "codemirror_mode": {
    "name": "ipython",
    "version": 3
   },
   "file_extension": ".py",
   "mimetype": "text/x-python",
   "name": "python",
   "nbconvert_exporter": "python",
   "pygments_lexer": "ipython3",
   "version": "3.8.6"
  }
 },
 "nbformat": 4,
 "nbformat_minor": 5
}
