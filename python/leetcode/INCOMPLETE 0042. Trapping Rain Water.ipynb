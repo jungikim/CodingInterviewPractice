{
 "cells": [
  {
   "cell_type": "code",
   "execution_count": 6,
   "id": "74b0973b-e20a-456c-a596-d6f91415bdeb",
   "metadata": {},
   "outputs": [
    {
     "ename": "AssertionError",
     "evalue": "",
     "output_type": "error",
     "traceback": [
      "\u001b[0;31m---------------------------------------------------------------------------\u001b[0m",
      "\u001b[0;31mAssertionError\u001b[0m                            Traceback (most recent call last)",
      "Cell \u001b[0;32mIn[6], line 44\u001b[0m\n\u001b[1;32m     28\u001b[0m tests \u001b[38;5;241m=\u001b[39m [\n\u001b[1;32m     29\u001b[0m     ([\u001b[38;5;241m0\u001b[39m,\u001b[38;5;241m1\u001b[39m,\u001b[38;5;241m0\u001b[39m,\u001b[38;5;241m2\u001b[39m,\u001b[38;5;241m1\u001b[39m,\u001b[38;5;241m0\u001b[39m,\u001b[38;5;241m1\u001b[39m,\u001b[38;5;241m3\u001b[39m,\u001b[38;5;241m2\u001b[39m,\u001b[38;5;241m1\u001b[39m,\u001b[38;5;241m2\u001b[39m,\u001b[38;5;241m1\u001b[39m], \u001b[38;5;241m6\u001b[39m),\n\u001b[1;32m     30\u001b[0m     \u001b[38;5;66;03m# 3                |\u001b[39;00m\n\u001b[0;32m   (...)\u001b[0m\n\u001b[1;32m     41\u001b[0m     \u001b[38;5;66;03m# 0  | | | | | |\u001b[39;00m\n\u001b[1;32m     42\u001b[0m ]\n\u001b[1;32m     43\u001b[0m \u001b[38;5;28;01mfor\u001b[39;00m t \u001b[38;5;129;01min\u001b[39;00m tests:\n\u001b[0;32m---> 44\u001b[0m     \u001b[38;5;28;01massert\u001b[39;00m(trappingRainWater(t[\u001b[38;5;241m0\u001b[39m]) \u001b[38;5;241m==\u001b[39m t[\u001b[38;5;241m1\u001b[39m])\n",
      "\u001b[0;31mAssertionError\u001b[0m: "
     ]
    }
   ],
   "source": [
    "\"\"\"\n",
    "https://leetcode.com/problems/trapping-rain-water/\n",
    "\n",
    "\n",
    "Given n non-negative integers representing an elevation map where the width of each bar is 1, \n",
    "compute how much water it can trap after raining.\n",
    "\n",
    "\n",
    "Constraints:\n",
    "\n",
    "n == height.length\n",
    "1 <= n <= 2 * 104\n",
    "0 <= height[i] <= 105\n",
    "\"\"\"\n",
    "\n",
    "def trappingRainWater(heights):\n",
    "    # water level depends not only on the local heights but more distance heights can also affect the water level (test case 2)\n",
    "    # brute force?\n",
    "    # moving window?\n",
    "    # left: 0, pointer starts at left + 1, when pointer height is lower than left, then we have water\n",
    "    #  if pointer is higher than left, then left = pointer, pointer = left + 1\n",
    "    # this still does not work corretly, right part of case 1\n",
    "\n",
    "    water = 0\n",
    "    return water\n",
    "\n",
    "\n",
    "tests = [\n",
    "    ([0,1,0,2,1,0,1,3,2,1,2,1], 6),\n",
    "    # 3                |\n",
    "    # 2        | W W W | | W |\n",
    "    # 1    | W | | W | | | | | |\n",
    "    # 0  | | | | | # | | | | | |\n",
    "    ([4,2,0,3,2,5], 9)\n",
    "    #\n",
    "    # 5            | \n",
    "    # 4  | W W W W |\n",
    "    # 3  | W W | W |\n",
    "    # 2  | | W | | |\n",
    "    # 1  | | W | | | \n",
    "    # 0  | | | | | |\n",
    "]\n",
    "for t in tests:\n",
    "    assert(trappingRainWater(t[0]) == t[1])\n"
   ]
  },
  {
   "cell_type": "code",
   "execution_count": null,
   "id": "2a0a5afb-0571-4cb8-9691-646cc7bd1dd0",
   "metadata": {},
   "outputs": [],
   "source": []
  }
 ],
 "metadata": {
  "kernelspec": {
   "display_name": "Python 3 (ipykernel)",
   "language": "python",
   "name": "python3"
  },
  "language_info": {
   "codemirror_mode": {
    "name": "ipython",
    "version": 3
   },
   "file_extension": ".py",
   "mimetype": "text/x-python",
   "name": "python",
   "nbconvert_exporter": "python",
   "pygments_lexer": "ipython3",
   "version": "3.8.6"
  }
 },
 "nbformat": 4,
 "nbformat_minor": 5
}
