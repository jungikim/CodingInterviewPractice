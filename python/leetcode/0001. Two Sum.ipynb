{
 "cells": [
  {
   "cell_type": "code",
   "execution_count": 2,
   "id": "1bd2975c-5c18-438b-b51e-2cd0f8019db4",
   "metadata": {},
   "outputs": [],
   "source": [
    "\"\"\"\n",
    "https://leetcode.com/problems/two-sum/description/\n",
    "\n",
    "Given an array of integers nums and an integer target,\n",
    "return indices of the two numbers such that they add up to target.\n",
    "\n",
    "You may assume that each input would have exactly one solution,\n",
    "and you may not use the same element twice.\n",
    "\n",
    "You can return the answer in any order.\n",
    "\"\"\"\n",
    "\n",
    "\"\"\"\n",
    "Questions:\n",
    "Are the numbers in the array unique?\n",
    "Can there be negative numbers?\n",
    "\"\"\"\n",
    "\n",
    "from collections import defaultdict \n",
    "\n",
    "def twosum(nums, target):\n",
    "    # # brute force O(n^2)\n",
    "    # for i in range(len(nums)-1):\n",
    "    #     for j in range(i+1, len(nums)):\n",
    "    #         if i == j:\n",
    "    #             continue\n",
    "    #         if nums[i] + nums[j] == target:\n",
    "    #             return [i,j]\n",
    "    # return [-1,-1]\n",
    "\n",
    "    # improvement: O(n)\n",
    "    nmap = defaultdict(list)\n",
    "    for i,n in enumerate(nums):\n",
    "        nmap[n].append(i)\n",
    "    for i,n in enumerate(nums):\n",
    "        m = target - n\n",
    "        if m in nmap:\n",
    "            for j in nmap[m]:\n",
    "                if j != i:\n",
    "                    return [i, j]\n",
    "    return [-1,-1]\n",
    "\n",
    "tests = [\n",
    "    ([2,7,11,15], 9, [0,1]),\n",
    "    ([3,2,4], 6, [1,2]),   \n",
    "    ([3,3],6, [0,1])\n",
    "]\n",
    "for t in tests:\n",
    "    retVal = twosum(t[0], t[1])\n",
    "    print(t, retVal)\n",
    "    assert(sorted(retVal)==sorted(t[2]))"
   ]
  }
 ],
 "metadata": {
  "kernelspec": {
   "display_name": "Python 3 (ipykernel)",
   "language": "python",
   "name": "python3"
  },
  "language_info": {
   "codemirror_mode": {
    "name": "ipython",
    "version": 3
   },
   "file_extension": ".py",
   "mimetype": "text/x-python",
   "name": "python",
   "nbconvert_exporter": "python",
   "pygments_lexer": "ipython3",
   "version": "3.9.6"
  }
 },
 "nbformat": 4,
 "nbformat_minor": 5
}
