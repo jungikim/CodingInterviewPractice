{
 "cells": [
  {
   "cell_type": "code",
   "execution_count": 2,
   "id": "0e9086f1-b93d-43f5-a503-3d4dafbb9b04",
   "metadata": {},
   "outputs": [
    {
     "name": "stdout",
     "output_type": "stream",
     "text": [
      "([['o', 'a', 'a', 'n'], ['e', 't', 'a', 'e'], ['i', 'h', 'k', 'r'], ['i', 'f', 'l', 'v']], ['oath', 'pea', 'eat', 'rain'], ['eat', 'oath']) ['oath', 'eat']\n",
      "([['a', 'b'], ['c', 'd']], ['abcb'], []) []\n"
     ]
    }
   ],
   "source": [
    "\"\"\"\n",
    "https://leetcode.com/problems/word-search-ii/\n",
    "\n",
    "\n",
    "Given an m x n board of characters and a list of strings words, return all words on the board.\n",
    "\n",
    "Each word must be constructed from letters of sequentially adjacent cells, \n",
    "where adjacent cells are horizontally or vertically neighboring. \n",
    "The same letter cell may not be used more than once in a word.\n",
    "\n",
    "\n",
    "Constraints:\n",
    "\n",
    "m == board.length\n",
    "n == board[i].length\n",
    "1 <= m, n <= 12\n",
    "board[i][j] is a lowercase English letter.\n",
    "1 <= words.length <= 3 * 10^4\n",
    "1 <= words[i].length <= 10\n",
    "words[i] consists of lowercase English letters.\n",
    "All the strings of words are unique.\n",
    "\"\"\"\n",
    "\n",
    "\n",
    "def wordSearchII(grid, words):\n",
    "    M = len(grid)\n",
    "    N = len(grid[0])\n",
    "\n",
    "    def _wordExists(w):\n",
    "        visited=set()\n",
    "        def _visit(i,j,wIdx):\n",
    "            if grid[i][j] != w[wIdx]:\n",
    "                return False\n",
    "            visited.add((i,j))\n",
    "            if len(visited) == len(w):\n",
    "                return True\n",
    "            for di,dj in [ (+1,0), (0,+1), (-1,0), (0,-1) ]:\n",
    "                if not (0<=i+di<M and 0<=j+dj<N):\n",
    "                    continue\n",
    "                if (i+di,j+dj) in visited:\n",
    "                    continue\n",
    "                if _visit(i+di, j+dj, wIdx+1):\n",
    "                    return True\n",
    "            visited.remove((i,j))\n",
    "            return False\n",
    "            \n",
    "        for i in range(M):\n",
    "            for j in range(N):\n",
    "                if _visit(i,j,0):\n",
    "                    return True\n",
    "        return False\n",
    "\n",
    "    retVal = []\n",
    "    for w in words:\n",
    "        if _wordExists(w):\n",
    "            retVal.append(w)\n",
    "    return retVal\n",
    "\n",
    "tests = [\n",
    "    ([[\"o\",\"a\",\"a\",\"n\"],\n",
    "      [\"e\",\"t\",\"a\",\"e\"],\n",
    "      [\"i\",\"h\",\"k\",\"r\"],\n",
    "      [\"i\",\"f\",\"l\",\"v\"]], \n",
    "      [\"oath\",\"pea\",\"eat\",\"rain\"],\n",
    "      [\"eat\",\"oath\"]),\n",
    "    ([[\"a\",\"b\"],\n",
    "     [\"c\",\"d\"]],\n",
    "     [\"abcb\"],\n",
    "     [])\n",
    "]\n",
    "\n",
    "for t in tests:\n",
    "    retVal = wordSearchII(t[0], t[1])\n",
    "    print(t, retVal)\n",
    "    assert(sorted(retVal) == sorted(t[2]))\n"
   ]
  },
  {
   "cell_type": "code",
   "execution_count": null,
   "id": "fb828453-4cf0-48ff-869f-8e0d682ebcf8",
   "metadata": {},
   "outputs": [],
   "source": []
  },
  {
   "cell_type": "code",
   "execution_count": null,
   "id": "13fa2648-7a53-4467-b5ee-cbbe2e2d50be",
   "metadata": {},
   "outputs": [],
   "source": []
  }
 ],
 "metadata": {
  "kernelspec": {
   "display_name": "Python 3 (ipykernel)",
   "language": "python",
   "name": "python3"
  },
  "language_info": {
   "codemirror_mode": {
    "name": "ipython",
    "version": 3
   },
   "file_extension": ".py",
   "mimetype": "text/x-python",
   "name": "python",
   "nbconvert_exporter": "python",
   "pygments_lexer": "ipython3",
   "version": "3.9.6"
  }
 },
 "nbformat": 4,
 "nbformat_minor": 5
}
