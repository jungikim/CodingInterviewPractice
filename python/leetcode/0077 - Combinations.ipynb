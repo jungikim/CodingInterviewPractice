{
 "cells": [
  {
   "cell_type": "code",
   "execution_count": 32,
   "id": "7f8dff94-6965-4e0f-b828-bdfbe9bcd3e8",
   "metadata": {},
   "outputs": [],
   "source": [
    "\"\"\"\n",
    "https://leetcode.com/problems/combinations/\n",
    "\n",
    "Given two integers n and k, return all possible combinations of k numbers chosen from the range [1, n].\n",
    "\n",
    "You may return the answer in any order.\n",
    "\n",
    "Constraints:\n",
    "1 <= n <= 20\n",
    "1 <= k <= n\n",
    "\"\"\"\n",
    "def combine(n,k):\n",
    "    # \n",
    "    retVal = []\n",
    "    def _combine(state, _n):\n",
    "        if len(state)==k:\n",
    "            retVal.append(list(state))\n",
    "            return\n",
    "        if _n > n:\n",
    "            return\n",
    "        # without i\n",
    "        _combine(state, _n+1)\n",
    "        # with i\n",
    "        state.append(_n)\n",
    "        _combine(state, _n+1)\n",
    "        state.pop()\n",
    "    _combine([], 1)\n",
    "    return retVal\n",
    "\n",
    "tests = [\n",
    "    (4,2,[[1,2],[1,3],[1,4],[2,3],[2,4],[3,4]]),\n",
    "    # There are 4 choose 2 = 6 total combinations.\n",
    "    # Note that combinations are unordered, i.e., [1,2] and [2,1] are considered to be the same combination.\n",
    "    (1,1,[[1]]),\n",
    "    # There is 1 choose 1 = 1 total combination.\n",
    "]\n",
    "for t in tests:\n",
    "    retVal = combine(t[0],t[1])\n",
    "    retVal = sorted([sorted(l) for l in retVal])\n",
    "    # print(t,retVal)\n",
    "    assert(retVal==sorted([sorted(l) for l in t[2]]))\n"
   ]
  }
 ],
 "metadata": {
  "kernelspec": {
   "display_name": "Python 3 (ipykernel)",
   "language": "python",
   "name": "python3"
  },
  "language_info": {
   "codemirror_mode": {
    "name": "ipython",
    "version": 3
   },
   "file_extension": ".py",
   "mimetype": "text/x-python",
   "name": "python",
   "nbconvert_exporter": "python",
   "pygments_lexer": "ipython3",
   "version": "3.11.7"
  }
 },
 "nbformat": 4,
 "nbformat_minor": 5
}
