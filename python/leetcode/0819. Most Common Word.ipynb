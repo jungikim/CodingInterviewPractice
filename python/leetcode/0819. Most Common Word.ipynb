{
 "cells": [
  {
   "cell_type": "code",
   "execution_count": 12,
   "id": "83597a0b-47c4-4b22-bdb2-6bf3e6f64b08",
   "metadata": {},
   "outputs": [],
   "source": [
    "\"\"\"\n",
    "https://leetcode.com/problems/most-common-word/\n",
    "\n",
    "\n",
    "Given a string paragraph and a string array of the banned words banned, \n",
    "return the most frequent word that is not banned. \n",
    "It is guaranteed there is at least one word that is not banned, and that the answer is unique.\n",
    "\n",
    "The words in paragraph are case-insensitive and the answer should be returned in lowercase.\n",
    "\n",
    "\n",
    "Constraints:\n",
    "\n",
    "1 <= paragraph.length <= 1000\n",
    "paragraph consists of English letters, space ' ', or one of the symbols: \"!?',;.\".\n",
    "0 <= banned.length <= 100\n",
    "1 <= banned[i].length <= 10\n",
    "banned[i] consists of only lowercase English letters.\n",
    "\"\"\"\n",
    "\n",
    "import re\n",
    "from collections import defaultdict\n",
    "\n",
    "def mostCommonWord(s, banList):\n",
    "    puncts = [\" \",\"!\", \"?\", \"'\", \",\", \";\", \".\"]\n",
    "    puncts = \"|\".join(map(re.escape, puncts))\n",
    "    tokens = re.split(puncts, s.lower())\n",
    "    # print(s, puncts, tokens)\n",
    "\n",
    "    maxFreq = 0\n",
    "    maxWord = \"\"\n",
    "    freqMap = defaultdict(int)\n",
    "    banSet = set(banList)\n",
    "    for t in tokens:\n",
    "        if len(t) == 0:\n",
    "            continue\n",
    "        if t in banSet:\n",
    "            continue\n",
    "\n",
    "        freqMap[t] += 1\n",
    "        if freqMap[t] > maxFreq:\n",
    "            maxFreq = freqMap[t]\n",
    "            maxWord = t\n",
    "\n",
    "    return maxWord\n",
    "\n",
    "tests = [\n",
    "(\"Bob hit a ball, the hit BALL flew far after it was hit.\", [\"hit\"], \"ball\"),\n",
    "#\"hit\" occurs 3 times, but it is a banned word.\n",
    "#\"ball\" occurs twice (and no other word does), so it is the most frequent non-banned word in the paragraph. \n",
    "#Note that words in the paragraph are not case sensitive,\n",
    "#that punctuation is ignored (even if adjacent to words, such as \"ball,\"), \n",
    "#and that \"hit\" isn't the answer even though it occurs more because it is banned.\n",
    "(\"a.\", [], \"a\")\n",
    "]\n",
    "for t in tests:\n",
    "    assert(mostCommonWord(t[0], t[1]) == t[2])"
   ]
  },
  {
   "cell_type": "code",
   "execution_count": null,
   "id": "f382fd44-5063-4793-9793-61c42fe3d53b",
   "metadata": {},
   "outputs": [],
   "source": []
  }
 ],
 "metadata": {
  "kernelspec": {
   "display_name": "Python 3 (ipykernel)",
   "language": "python",
   "name": "python3"
  },
  "language_info": {
   "codemirror_mode": {
    "name": "ipython",
    "version": 3
   },
   "file_extension": ".py",
   "mimetype": "text/x-python",
   "name": "python",
   "nbconvert_exporter": "python",
   "pygments_lexer": "ipython3",
   "version": "3.9.6"
  }
 },
 "nbformat": 4,
 "nbformat_minor": 5
}
