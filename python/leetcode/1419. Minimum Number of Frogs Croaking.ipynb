{
 "cells": [
  {
   "cell_type": "code",
   "execution_count": 2,
   "id": "4bdc1184-4e0e-43e1-bacb-6c17264d9732",
   "metadata": {},
   "outputs": [],
   "source": [
    "\"\"\"\n",
    "https://leetcode.com/problems/minimum-number-of-frogs-croaking/\n",
    "\n",
    "You are given the string croakOfFrogs, which represents a combination of the string \"croak\" from different frogs, \n",
    "that is, multiple frogs can croak at the same time, so multiple \"croak\" are mixed.\n",
    "\n",
    "Return the minimum number of different frogs to finish all the croaks in the given string.\n",
    "\n",
    "A valid \"croak\" means a frog is printing five letters 'c', 'r', 'o', 'a', and 'k' sequentially. \n",
    "The frogs have to print all five letters to finish a croak. If the given string is not a combination of a valid \"croak\" return -1.\n",
    "\n",
    "\n",
    "Constraints:\n",
    "1 <= croakOfFrogs.length <= 10^5\n",
    "croakOfFrogs is either 'c', 'r', 'o', 'a', or 'k'.\n",
    "\"\"\"\n",
    "\n",
    "from collections import defaultdict\n",
    "\n",
    "def minCroaking(s):\n",
    "    freqCounter = defaultdict(int)\n",
    "    for c in s:\n",
    "        freqCounter[c] += 1\n",
    "    cCnt = freqCounter['c']\n",
    "    if cCnt != freqCounter['r'] or \\\n",
    "       cCnt != freqCounter['o'] or \\\n",
    "       cCnt != freqCounter['a'] or \\\n",
    "       cCnt != freqCounter['k']:\n",
    "        return -1\n",
    "\n",
    "    maxFrogs = 0\n",
    "    freqCounter = defaultdict(int)\n",
    "    for c in s:\n",
    "        freqCounter[c] += 1\n",
    "        if freqCounter['c'] >= 1 and \\\n",
    "            freqCounter['r'] >= 1 and \\\n",
    "            freqCounter['o'] >= 1 and \\\n",
    "            freqCounter['a'] >= 1 and \\\n",
    "            freqCounter['k'] >= 1:\n",
    "            for f in 'croak':\n",
    "                if freqCounter[f] > maxFrogs:\n",
    "                    maxFrogs = freqCounter[f]\n",
    "            for f in 'croak':\n",
    "                freqCounter[f] -= 1\n",
    "    return maxFrogs\n",
    "\n",
    "tests = [\n",
    "    (\"croakcroak\", 1),\n",
    "    (\"crcoakroak\", 2),\n",
    "    (\"croakcrook\", -1)\n",
    "]\n",
    "for t in tests:\n",
    "    assert(minCroaking(t[0]) == t[1])\n"
   ]
  }
 ],
 "metadata": {
  "kernelspec": {
   "display_name": "Python 3 (ipykernel)",
   "language": "python",
   "name": "python3"
  },
  "language_info": {
   "codemirror_mode": {
    "name": "ipython",
    "version": 3
   },
   "file_extension": ".py",
   "mimetype": "text/x-python",
   "name": "python",
   "nbconvert_exporter": "python",
   "pygments_lexer": "ipython3",
   "version": "3.8.6"
  }
 },
 "nbformat": 4,
 "nbformat_minor": 5
}
