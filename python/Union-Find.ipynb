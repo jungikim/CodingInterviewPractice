{
 "cells": [
  {
   "cell_type": "code",
   "execution_count": null,
   "id": "eeb2887c-8993-4f6f-929e-64c3e5227064",
   "metadata": {},
   "outputs": [],
   "source": [
    "\n",
    "# n items 0 .. n-1 in its own group\n",
    "g = list(range(n))\n",
    "\n",
    "def find(x):\n",
    "    if x != g[x]:\n",
    "        g[x] = find(g[x])\n",
    "    return g[x]\n",
    "\n",
    "# same group\n",
    "if find(i) == find(j):\n",
    "    continue\n",
    "\n",
    "# assign i group to j group\n",
    "g[find(j)] = find(i)\n"
   ]
  }
 ],
 "metadata": {
  "kernelspec": {
   "display_name": "Python 3 (ipykernel)",
   "language": "python",
   "name": "python3"
  },
  "language_info": {
   "codemirror_mode": {
    "name": "ipython",
    "version": 3
   },
   "file_extension": ".py",
   "mimetype": "text/x-python",
   "name": "python",
   "nbconvert_exporter": "python",
   "pygments_lexer": "ipython3",
   "version": "3.10.13"
  }
 },
 "nbformat": 4,
 "nbformat_minor": 5
}
